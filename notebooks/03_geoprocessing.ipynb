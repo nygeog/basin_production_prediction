{
 "cells": [
  {
   "cell_type": "markdown",
   "metadata": {},
   "source": [
    "# Geoprocessing\n",
    "\n",
    "---"
   ]
  },
  {
   "cell_type": "markdown",
   "metadata": {
    "toc": true
   },
   "source": [
    "<h1>Table of Contents<span class=\"tocSkip\"></span></h1>\n",
    "<div class=\"toc\"><ul class=\"toc-item\"><li><span><a href=\"#Geoprocessing\" data-toc-modified-id=\"Geoprocessing-1\">Geoprocessing</a></span><ul class=\"toc-item\"><li><span><a href=\"#Code-from-Notebook-1,-needed-for-in-memory-objects-for-Geoprocessing\" data-toc-modified-id=\"Code-from-Notebook-1,-needed-for-in-memory-objects-for-Geoprocessing-1.1\">Code from Notebook 1, needed for in-memory objects for Geoprocessing</a></span></li></ul></li><li><span><a href=\"#Geoprocessing\" data-toc-modified-id=\"Geoprocessing-2\">Geoprocessing</a></span><ul class=\"toc-item\"><li><span><a href=\"#Point-in-Polygon-Counts-via-Spatial-Join\" data-toc-modified-id=\"Point-in-Polygon-Counts-via-Spatial-Join-2.1\">Point-in Polygon Counts via Spatial Join</a></span><ul class=\"toc-item\"><li><span><a href=\"#Join-Features---Esri-Description\" data-toc-modified-id=\"Join-Features---Esri-Description-2.1.1\">Join Features - Esri Description</a></span></li><li><span><a href=\"#Next\" data-toc-modified-id=\"Next-2.1.2\">Next</a></span></li></ul></li></ul></li></ul></div>"
   ]
  },
  {
   "cell_type": "code",
   "execution_count": 46,
   "metadata": {},
   "outputs": [
    {
     "name": "stdout",
     "output_type": "stream",
     "text": [
      "The autoreload extension is already loaded. To reload it, use:\n",
      "  %reload_ext autoreload\n"
     ]
    }
   ],
   "source": [
    "import os\n",
    "import sys\n",
    "module_path = os.path.abspath(os.path.join('..'))\n",
    "if module_path not in sys.path:\n",
    "    sys.path.append(module_path)\n",
    "    \n",
    "%load_ext autoreload\n",
    "%autoreload 2"
   ]
  },
  {
   "cell_type": "code",
   "execution_count": 47,
   "metadata": {},
   "outputs": [],
   "source": [
    "import glob\n",
    "import geopandas as gpd\n",
    "import pandas as pd\n",
    "import seaborn as sns\n",
    "import missingno as msno\n",
    "import matplotlib.pyplot as plt"
   ]
  },
  {
   "cell_type": "code",
   "execution_count": 48,
   "metadata": {},
   "outputs": [],
   "source": [
    "from tools.tools import read_json, get_current_time\n",
    "from capstone.etl.viirs_join_basins import viirs_join_basins, compile_basin_data\n",
    "from capstone.etl.census_parse import parse_census\n",
    "from capstone.etl.census_retrieval import census_retrieval\n",
    "from capstone.etl.generate_basins import generate_us_basins\n",
    "from capstone.etl.eia_retrieval import eia_retrieval\n",
    "from capstone.etl.eia_parse import eia_parse_county, eia_parse_data"
   ]
  },
  {
   "cell_type": "code",
   "execution_count": 49,
   "metadata": {},
   "outputs": [],
   "source": [
    "config = read_json('../config.json')\n",
    "\n",
    "current_date = get_current_time('yyyymmdd')\n",
    "\n",
    "wd = f\"{config['workspace_directory']}/data\""
   ]
  },
  {
   "cell_type": "code",
   "execution_count": 50,
   "metadata": {},
   "outputs": [],
   "source": [
    "plt.style.use('ggplot')"
   ]
  },
  {
   "cell_type": "code",
   "execution_count": 51,
   "metadata": {},
   "outputs": [],
   "source": [
    "basin_colors_hex = {  # manually defined dictionary of EIA basin-level standardized colors \n",
    "    \"Anadarko Region\":    \"#2BA2CF\", \n",
    "    \"Appalachia Region\":  \"#769F5D\",\n",
    "    \"Bakken Region\":      \"#F6C432\", \n",
    "    \"Eagle Ford Region\":  \"#48366B\", \n",
    "    \"Haynesville Region\": \"#807B8F\",\n",
    "    \"Niobrara Region\":    \"#9D3341\",\n",
    "    \"Permian Region\":     \"#6F4B27\",\n",
    "}"
   ]
  },
  {
   "cell_type": "markdown",
   "metadata": {},
   "source": [
    "## Code from Notebook 1, needed for in-memory objects for Geoprocessing"
   ]
  },
  {
   "cell_type": "code",
   "execution_count": 52,
   "metadata": {},
   "outputs": [
    {
     "name": "stdout",
     "output_type": "stream",
     "text": [
      " parse eia data\n",
      "    for anadarko region\n",
      "    for appalachia region\n",
      "    for bakken region\n",
      "    for eagle ford region\n",
      "    for haynesville region\n",
      "    for niobrara region\n",
      "    for permian region\n",
      "generating us basins\n",
      "    permian region\n",
      "    appalachia region\n",
      "    haynesville region\n",
      "    eagle ford region\n",
      "    anadarko region\n",
      "    niobrara region\n",
      "    bakken region\n"
     ]
    }
   ],
   "source": [
    "census_shp = census_retrieval(f\"{wd}/input/census\")\n",
    "census = gpd.read_file(census_shp)\n",
    "census.columns = [c.lower() for c in census.columns]\n",
    "\n",
    "eia_xls = eia_retrieval(f\"{wd}/input/eia\")\n",
    "eia_cnty = eia_parse_county(eia_xls)\n",
    "eia_data = eia_parse_data(eia_xls)  # parse the target variable(s) data\n",
    "\n",
    "census_gdf = parse_census(census_shp)\n",
    "basins_list, all_basins = generate_us_basins(\n",
    "    census_gdf,\n",
    "    eia_cnty,\n",
    "    f\"{wd}/input/basins\",\n",
    ")  # this code creates individual files for basin geographies as well as an all_basins geography file/object."
   ]
  },
  {
   "cell_type": "markdown",
   "metadata": {},
   "source": [
    "# Geoprocessing"
   ]
  },
  {
   "cell_type": "code",
   "execution_count": 56,
   "metadata": {},
   "outputs": [
    {
     "name": "stdout",
     "output_type": "stream",
     "text": [
      "Total 2.1c files: 2095\n",
      "Total 3.0 files: 829\n"
     ]
    }
   ],
   "source": [
    "# get lists of all the retrieved viirs data for both 2.1c and 3.0 viirs\n",
    "\n",
    "viirs_2_1c_files = glob.glob(f\"{wd}/input/viirs21c/*.csv\")  # get viirs\n",
    "viirs_2_1c_files.sort()  # sort so dates are consecutive for tracking\n",
    "\n",
    "print(f'Total 2.1c files: {len(viirs_2_1c_files)}')\n",
    "\n",
    "viirs_3_0_files = glob.glob(f\"{wd}/input/viirs30/*.csv\")  # get viirs files\n",
    "viirs_3_0_files.sort()  # sort so dates are consecutive for tracking\n",
    "\n",
    "print(f'Total 3.0 files: {len(viirs_3_0_files)}')"
   ]
  },
  {
   "cell_type": "markdown",
   "metadata": {},
   "source": [
    "## Point-in Polygon Counts via Spatial Join\n",
    "\n",
    "While Join Features tool was not used (rather GeoPandas S-Join for Spatial Join), this illustration better shows how a given geography 2d or 3d polygon, is intersected with points, we can count those features inside. \n",
    "\n",
    "### Join Features - Esri Description \n",
    "\n",
    "> Joins attributes from one layer to another based on spatial, temporal, or attribute relationships, or a combination of those relationships. [https://pro.arcgis.com/en/pro-app/tool-reference/geoanalytics-desktop/join-features.htm](https://pro.arcgis.com/en/pro-app/tool-reference/geoanalytics-desktop/join-features.htm)\n",
    "\n",
    "[![join](https://pro.arcgis.com/en/pro-app/tool-reference/geoanalytics-desktop/GUID-EB8FA998-105A-4D93-93E3-5FAA1057137D-web.png)](https://pro.arcgis.com/en/pro-app/tool-reference/geoanalytics-desktop/GUID-EB8FA998-105A-4D93-93E3-5FAA1057137D-web.png)\n",
    "\n",
    "\n",
    "Geopandas code inside `tools.geoprocessing.py` which is used inside `viirs_join_basins(...)`  in this project repository:\n",
    "```python\n",
    "import geopandas as gpd\n",
    "\n",
    "\n",
    "def point_in_polygon(point_gdf, poly_gdf):\n",
    "    return gpd.sjoin(\n",
    "        point_gdf,\n",
    "        poly_gdf,\n",
    "        how=\"inner\",\n",
    "        op='intersects',  # warning CRS of frames do not match\n",
    "    )\n",
    "```"
   ]
  },
  {
   "cell_type": "code",
   "execution_count": 58,
   "metadata": {},
   "outputs": [
    {
     "name": "stdout",
     "output_type": "stream",
     "text": [
      "selecting viirs for basins 21c\n",
      "    20130101\n",
      "    20140101\n",
      "    20150101\n",
      "    20160101\n",
      "    20170101\n",
      "selecting viirs for basins 30\n",
      "    20180101\n",
      "    20190101\n",
      "    20200101\n"
     ]
    }
   ],
   "source": [
    "viirs_join_basins( \n",
    "    wd,\n",
    "    all_basins,\n",
    "    viirs_2_1c_files,\n",
    "    '21c',\n",
    ")   # spatially join viirs 2.1c to basins geometries\n",
    "\n",
    "viirs_join_basins(\n",
    "    wd,\n",
    "    all_basins,\n",
    "    viirs_3_0_files,\n",
    "    '30',\n",
    ")  # spatially join viirs 3.0 to basins geometries"
   ]
  },
  {
   "cell_type": "code",
   "execution_count": 59,
   "metadata": {},
   "outputs": [
    {
     "name": "stdout",
     "output_type": "stream",
     "text": [
      "    20130101\n",
      "    20140101\n",
      "    20150101\n",
      "    20160101\n",
      "    20170101\n",
      "    20180101\n",
      "    20190101\n",
      "    20200101\n"
     ]
    }
   ],
   "source": [
    "basins_int_viirs_21c = compile_basin_data(wd, '21c')\n",
    "basins_int_viirs_30  = compile_basin_data(wd, '30')  \n",
    "# above function saves master compiled 2.1c and 3.0 files"
   ]
  },
  {
   "cell_type": "code",
   "execution_count": 60,
   "metadata": {},
   "outputs": [
    {
     "name": "stdout",
     "output_type": "stream",
     "text": [
      "(1009001, 129)\n",
      "(525536, 46)\n"
     ]
    }
   ],
   "source": [
    "print(basins_int_viirs_21c.shape)\n",
    "print(basins_int_viirs_30.shape)  # check the shapes"
   ]
  },
  {
   "cell_type": "markdown",
   "metadata": {},
   "source": [
    "### Next\n",
    "\n",
    "[Feature Engineering and Exploratory Data Analysis of Processed Data](https://git.generalassemb.ly/danielmartinsheehan/capstone/blob/master/notebooks/04_feature_engineernig_and_exploratory_data_analysis_processed_data.ipynb)"
   ]
  }
 ],
 "metadata": {
  "kernelspec": {
   "display_name": "Python 3",
   "language": "python",
   "name": "python3"
  },
  "language_info": {
   "codemirror_mode": {
    "name": "ipython",
    "version": 3
   },
   "file_extension": ".py",
   "mimetype": "text/x-python",
   "name": "python",
   "nbconvert_exporter": "python",
   "pygments_lexer": "ipython3",
   "version": "3.7.4"
  },
  "toc": {
   "base_numbering": 1,
   "nav_menu": {},
   "number_sections": false,
   "sideBar": true,
   "skip_h1_title": false,
   "title_cell": "Table of Contents",
   "title_sidebar": "Contents",
   "toc_cell": true,
   "toc_position": {
    "height": "calc(100% - 180px)",
    "left": "10px",
    "top": "150px",
    "width": "165px"
   },
   "toc_section_display": true,
   "toc_window_display": true
  }
 },
 "nbformat": 4,
 "nbformat_minor": 4
}
