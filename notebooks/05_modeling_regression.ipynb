{
 "cells": [
  {
   "cell_type": "markdown",
   "metadata": {},
   "source": [
    "# Modeling\n",
    "\n",
    "---"
   ]
  },
  {
   "cell_type": "markdown",
   "metadata": {
    "toc": true
   },
   "source": [
    "<h1>Table of Contents<span class=\"tocSkip\"></span></h1>\n",
    "<div class=\"toc\"><ul class=\"toc-item\"><li><span><a href=\"#Modeling\" data-toc-modified-id=\"Modeling-1\">Modeling</a></span></li></ul></div>"
   ]
  },
  {
   "cell_type": "code",
   "execution_count": 1,
   "metadata": {},
   "outputs": [],
   "source": [
    "import os\n",
    "import sys\n",
    "module_path = os.path.abspath(os.path.join('..'))\n",
    "if module_path not in sys.path:\n",
    "    sys.path.append(module_path)\n",
    "    "
   ]
  },
  {
   "cell_type": "code",
   "execution_count": 4,
   "metadata": {},
   "outputs": [],
   "source": [
    "import pandas as pd\n",
    "from sklearn.model_selection import train_test_split, cross_val_score\n",
    "from sklearn.linear_model import LinearRegression\n",
    "from sklearn.tree import DecisionTreeRegressor\n",
    "from sklearn.ensemble import RandomForestRegressor\n",
    "from sklearn.ensemble import ExtraTreesRegressor\n",
    "import numpy as np\n"
   ]
  },
  {
   "cell_type": "code",
   "execution_count": 5,
   "metadata": {},
   "outputs": [],
   "source": [
    "from tools.tools import read_json, get_current_time"
   ]
  },
  {
   "cell_type": "code",
   "execution_count": 6,
   "metadata": {},
   "outputs": [],
   "source": [
    "config = read_json('../config.json')\n",
    "\n",
    "current_date = get_current_time('yyyymmdd')\n",
    "\n",
    "wd = f\"{config['workspace_directory']}/data\""
   ]
  },
  {
   "cell_type": "code",
   "execution_count": 162,
   "metadata": {},
   "outputs": [],
   "source": [
    "df = pd.read_csv(f\"{wd}/processing/basin_int_viirs_for_modeling.csv\")"
   ]
  },
  {
   "cell_type": "code",
   "execution_count": 163,
   "metadata": {},
   "outputs": [
    {
     "data": {
      "text/html": [
       "<div>\n",
       "<style scoped>\n",
       "    .dataframe tbody tr th:only-of-type {\n",
       "        vertical-align: middle;\n",
       "    }\n",
       "\n",
       "    .dataframe tbody tr th {\n",
       "        vertical-align: top;\n",
       "    }\n",
       "\n",
       "    .dataframe thead th {\n",
       "        text-align: right;\n",
       "    }\n",
       "</style>\n",
       "<table border=\"1\" class=\"dataframe\">\n",
       "  <thead>\n",
       "    <tr style=\"text-align: right;\">\n",
       "      <th></th>\n",
       "      <th>year_month</th>\n",
       "      <th>region</th>\n",
       "      <th>obs_day_cnt_avg</th>\n",
       "      <th>obs_day_cnt_med</th>\n",
       "      <th>obs_day_cnt_sum</th>\n",
       "      <th>obs_day_cnt_min</th>\n",
       "      <th>obs_day_cnt_max</th>\n",
       "      <th>qf_fit_day_avg_avg</th>\n",
       "      <th>qf_fit_day_avg_med</th>\n",
       "      <th>qf_fit_day_avg_sum</th>\n",
       "      <th>...</th>\n",
       "      <th>qf_fit_day_min_sum_per_squaremeters</th>\n",
       "      <th>qf_fit_day_min_min_per_squaremeters</th>\n",
       "      <th>qf_fit_day_min_max_per_squaremeters</th>\n",
       "      <th>qf_fit_day_max_avg_per_squaremeters</th>\n",
       "      <th>qf_fit_day_max_med_per_squaremeters</th>\n",
       "      <th>qf_fit_day_max_sum_per_squaremeters</th>\n",
       "      <th>qf_fit_day_max_min_per_squaremeters</th>\n",
       "      <th>qf_fit_day_max_max_per_squaremeters</th>\n",
       "      <th>month</th>\n",
       "      <th>oil_bbl_d_total_production</th>\n",
       "    </tr>\n",
       "  </thead>\n",
       "  <tbody>\n",
       "    <tr>\n",
       "      <td>0</td>\n",
       "      <td>2012-03-01</td>\n",
       "      <td>Anadarko Region</td>\n",
       "      <td>13.041667</td>\n",
       "      <td>12.5</td>\n",
       "      <td>313</td>\n",
       "      <td>3</td>\n",
       "      <td>33</td>\n",
       "      <td>4.786164</td>\n",
       "      <td>4.291667</td>\n",
       "      <td>114.867926</td>\n",
       "      <td>...</td>\n",
       "      <td>0.0</td>\n",
       "      <td>0.0</td>\n",
       "      <td>0.0</td>\n",
       "      <td>4.185230e-10</td>\n",
       "      <td>4.505471e-10</td>\n",
       "      <td>1.004455e-08</td>\n",
       "      <td>0.0</td>\n",
       "      <td>7.023235e-10</td>\n",
       "      <td>2012-03-01</td>\n",
       "      <td>254203.561</td>\n",
       "    </tr>\n",
       "    <tr>\n",
       "      <td>1</td>\n",
       "      <td>2012-03-01</td>\n",
       "      <td>Appalachia Region</td>\n",
       "      <td>31.071429</td>\n",
       "      <td>32.0</td>\n",
       "      <td>870</td>\n",
       "      <td>1</td>\n",
       "      <td>86</td>\n",
       "      <td>9.502222</td>\n",
       "      <td>8.966184</td>\n",
       "      <td>266.062205</td>\n",
       "      <td>...</td>\n",
       "      <td>0.0</td>\n",
       "      <td>0.0</td>\n",
       "      <td>0.0</td>\n",
       "      <td>1.925259e-10</td>\n",
       "      <td>1.769157e-10</td>\n",
       "      <td>5.390726e-09</td>\n",
       "      <td>0.0</td>\n",
       "      <td>2.757804e-10</td>\n",
       "      <td>2012-03-01</td>\n",
       "      <td>32000.000</td>\n",
       "    </tr>\n",
       "    <tr>\n",
       "      <td>2</td>\n",
       "      <td>2012-03-01</td>\n",
       "      <td>Bakken Region</td>\n",
       "      <td>260.321429</td>\n",
       "      <td>249.0</td>\n",
       "      <td>7289</td>\n",
       "      <td>2</td>\n",
       "      <td>571</td>\n",
       "      <td>1.497039</td>\n",
       "      <td>1.500962</td>\n",
       "      <td>41.917086</td>\n",
       "      <td>...</td>\n",
       "      <td>0.0</td>\n",
       "      <td>0.0</td>\n",
       "      <td>0.0</td>\n",
       "      <td>2.919411e-10</td>\n",
       "      <td>3.725575e-10</td>\n",
       "      <td>8.174350e-09</td>\n",
       "      <td>0.0</td>\n",
       "      <td>5.807514e-10</td>\n",
       "      <td>2012-03-01</td>\n",
       "      <td>595203.806</td>\n",
       "    </tr>\n",
       "  </tbody>\n",
       "</table>\n",
       "<p>3 rows × 65 columns</p>\n",
       "</div>"
      ],
      "text/plain": [
       "   year_month             region  obs_day_cnt_avg  obs_day_cnt_med  \\\n",
       "0  2012-03-01    Anadarko Region        13.041667             12.5   \n",
       "1  2012-03-01  Appalachia Region        31.071429             32.0   \n",
       "2  2012-03-01      Bakken Region       260.321429            249.0   \n",
       "\n",
       "   obs_day_cnt_sum  obs_day_cnt_min  obs_day_cnt_max  qf_fit_day_avg_avg  \\\n",
       "0              313                3               33            4.786164   \n",
       "1              870                1               86            9.502222   \n",
       "2             7289                2              571            1.497039   \n",
       "\n",
       "   qf_fit_day_avg_med  qf_fit_day_avg_sum  ...  \\\n",
       "0            4.291667          114.867926  ...   \n",
       "1            8.966184          266.062205  ...   \n",
       "2            1.500962           41.917086  ...   \n",
       "\n",
       "   qf_fit_day_min_sum_per_squaremeters  qf_fit_day_min_min_per_squaremeters  \\\n",
       "0                                  0.0                                  0.0   \n",
       "1                                  0.0                                  0.0   \n",
       "2                                  0.0                                  0.0   \n",
       "\n",
       "   qf_fit_day_min_max_per_squaremeters  qf_fit_day_max_avg_per_squaremeters  \\\n",
       "0                                  0.0                         4.185230e-10   \n",
       "1                                  0.0                         1.925259e-10   \n",
       "2                                  0.0                         2.919411e-10   \n",
       "\n",
       "   qf_fit_day_max_med_per_squaremeters  qf_fit_day_max_sum_per_squaremeters  \\\n",
       "0                         4.505471e-10                         1.004455e-08   \n",
       "1                         1.769157e-10                         5.390726e-09   \n",
       "2                         3.725575e-10                         8.174350e-09   \n",
       "\n",
       "   qf_fit_day_max_min_per_squaremeters  qf_fit_day_max_max_per_squaremeters  \\\n",
       "0                                  0.0                         7.023235e-10   \n",
       "1                                  0.0                         2.757804e-10   \n",
       "2                                  0.0                         5.807514e-10   \n",
       "\n",
       "        month  oil_bbl_d_total_production  \n",
       "0  2012-03-01                  254203.561  \n",
       "1  2012-03-01                   32000.000  \n",
       "2  2012-03-01                  595203.806  \n",
       "\n",
       "[3 rows x 65 columns]"
      ]
     },
     "execution_count": 163,
     "metadata": {},
     "output_type": "execute_result"
    }
   ],
   "source": [
    "df.head(3)"
   ]
  },
  {
   "cell_type": "code",
   "execution_count": 164,
   "metadata": {},
   "outputs": [],
   "source": [
    "df = df[df['region'] == 'Permian Region']  # select just permian basin"
   ]
  },
  {
   "cell_type": "code",
   "execution_count": 165,
   "metadata": {},
   "outputs": [
    {
     "data": {
      "text/plain": [
       "year_month                             0\n",
       "region                                 0\n",
       "obs_day_cnt_avg                        0\n",
       "obs_day_cnt_med                        0\n",
       "obs_day_cnt_sum                        0\n",
       "                                      ..\n",
       "qf_fit_day_max_sum_per_squaremeters    0\n",
       "qf_fit_day_max_min_per_squaremeters    0\n",
       "qf_fit_day_max_max_per_squaremeters    0\n",
       "month                                  0\n",
       "oil_bbl_d_total_production             0\n",
       "Length: 65, dtype: int64"
      ]
     },
     "execution_count": 165,
     "metadata": {},
     "output_type": "execute_result"
    }
   ],
   "source": [
    "df.isnull().sum()"
   ]
  },
  {
   "cell_type": "code",
   "execution_count": 166,
   "metadata": {},
   "outputs": [],
   "source": [
    "X = df.drop(columns=[\n",
    "    'region',\n",
    "    'year_month',\n",
    "    'month', \n",
    "    'oil_bbl_d_total_production',\n",
    "])\n",
    "y = df['oil_bbl_d_total_production']\n",
    "\n",
    "\n",
    "X_train, X_test, y_train, y_test = train_test_split(X, y, random_state=42, test_size=0.25)"
   ]
  },
  {
   "cell_type": "code",
   "execution_count": 167,
   "metadata": {},
   "outputs": [
    {
     "data": {
      "text/plain": [
       "LinearRegression(copy_X=True, fit_intercept=True, n_jobs=None, normalize=False)"
      ]
     },
     "execution_count": 167,
     "metadata": {},
     "output_type": "execute_result"
    }
   ],
   "source": [
    "model = LinearRegression()\n",
    "model.fit(X_train, y_train)"
   ]
  },
  {
   "cell_type": "code",
   "execution_count": 168,
   "metadata": {},
   "outputs": [
    {
     "data": {
      "text/plain": [
       "0.9640061656601727"
      ]
     },
     "execution_count": 168,
     "metadata": {},
     "output_type": "execute_result"
    }
   ],
   "source": [
    "model.score(X_train, y_train)"
   ]
  },
  {
   "cell_type": "code",
   "execution_count": 169,
   "metadata": {},
   "outputs": [
    {
     "data": {
      "text/plain": [
       "0.9083222076787368"
      ]
     },
     "execution_count": 169,
     "metadata": {},
     "output_type": "execute_result"
    }
   ],
   "source": [
    "model.score(X_test, y_test)"
   ]
  },
  {
   "cell_type": "code",
   "execution_count": 170,
   "metadata": {},
   "outputs": [
    {
     "data": {
      "text/plain": [
       "-3.7866801992113883"
      ]
     },
     "execution_count": 170,
     "metadata": {},
     "output_type": "execute_result"
    }
   ],
   "source": [
    "cross_val_score(model, X_test, y_test, cv=5).mean()"
   ]
  },
  {
   "cell_type": "code",
   "execution_count": 171,
   "metadata": {},
   "outputs": [
    {
     "name": "stderr",
     "output_type": "stream",
     "text": [
      "/Users/danielmsheehan/opt/anaconda3/envs/dsi/lib/python3.7/site-packages/sklearn/ensemble/forest.py:245: FutureWarning: The default value of n_estimators will change from 10 in version 0.20 to 100 in 0.22.\n",
      "  \"10 in version 0.20 to 100 in 0.22.\", FutureWarning)\n"
     ]
    },
    {
     "data": {
      "text/plain": [
       "RandomForestRegressor(bootstrap=True, criterion='mse', max_depth=None,\n",
       "                      max_features='auto', max_leaf_nodes=None,\n",
       "                      min_impurity_decrease=0.0, min_impurity_split=None,\n",
       "                      min_samples_leaf=1, min_samples_split=2,\n",
       "                      min_weight_fraction_leaf=0.0, n_estimators=10,\n",
       "                      n_jobs=None, oob_score=False, random_state=42, verbose=0,\n",
       "                      warm_start=False)"
      ]
     },
     "execution_count": 171,
     "metadata": {},
     "output_type": "execute_result"
    }
   ],
   "source": [
    "regressor = RandomForestRegressor(random_state=42)\n",
    "\n",
    "regressor.fit(X_train, y_train)"
   ]
  },
  {
   "cell_type": "code",
   "execution_count": 172,
   "metadata": {},
   "outputs": [
    {
     "data": {
      "text/plain": [
       "0.954042773704769"
      ]
     },
     "execution_count": 172,
     "metadata": {},
     "output_type": "execute_result"
    }
   ],
   "source": [
    "regressor.score(X_train, y_train)"
   ]
  },
  {
   "cell_type": "code",
   "execution_count": 173,
   "metadata": {},
   "outputs": [
    {
     "data": {
      "text/plain": [
       "0.9071169980750533"
      ]
     },
     "execution_count": 173,
     "metadata": {},
     "output_type": "execute_result"
    }
   ],
   "source": [
    "regressor.score(X_test, y_test)"
   ]
  },
  {
   "cell_type": "code",
   "execution_count": 174,
   "metadata": {},
   "outputs": [],
   "source": [
    "#cross_val_score(regressor, X, y, cv=3)"
   ]
  },
  {
   "cell_type": "code",
   "execution_count": 175,
   "metadata": {},
   "outputs": [
    {
     "data": {
      "text/plain": [
       "(72, 61)"
      ]
     },
     "execution_count": 175,
     "metadata": {},
     "output_type": "execute_result"
    }
   ],
   "source": [
    "X_train.shape"
   ]
  },
  {
   "cell_type": "code",
   "execution_count": 176,
   "metadata": {},
   "outputs": [
    {
     "data": {
      "text/plain": [
       "(25, 61)"
      ]
     },
     "execution_count": 176,
     "metadata": {},
     "output_type": "execute_result"
    }
   ],
   "source": [
    "X_test.shape"
   ]
  },
  {
   "cell_type": "code",
   "execution_count": 177,
   "metadata": {},
   "outputs": [
    {
     "data": {
      "text/plain": [
       "ExtraTreesRegressor(bootstrap=False, criterion='mse', max_depth=None,\n",
       "                    max_features='auto', max_leaf_nodes=None,\n",
       "                    min_impurity_decrease=0.0, min_impurity_split=None,\n",
       "                    min_samples_leaf=1, min_samples_split=2,\n",
       "                    min_weight_fraction_leaf=0.0, n_estimators=500, n_jobs=None,\n",
       "                    oob_score=False, random_state=42, verbose=0,\n",
       "                    warm_start=False)"
      ]
     },
     "execution_count": 177,
     "metadata": {},
     "output_type": "execute_result"
    }
   ],
   "source": [
    "extratrees = ExtraTreesRegressor(random_state=42, n_estimators=500)\n",
    "\n",
    "extratrees.fit(X_train, y_train)"
   ]
  },
  {
   "cell_type": "code",
   "execution_count": 178,
   "metadata": {},
   "outputs": [
    {
     "data": {
      "text/plain": [
       "1.0"
      ]
     },
     "execution_count": 178,
     "metadata": {},
     "output_type": "execute_result"
    }
   ],
   "source": [
    "extratrees.score(X_train, y_train)"
   ]
  },
  {
   "cell_type": "code",
   "execution_count": 190,
   "metadata": {},
   "outputs": [
    {
     "data": {
      "text/plain": [
       "0.9424825484007405"
      ]
     },
     "execution_count": 190,
     "metadata": {},
     "output_type": "execute_result"
    }
   ],
   "source": [
    "extratrees.score(X_test, y_test)"
   ]
  },
  {
   "cell_type": "code",
   "execution_count": 191,
   "metadata": {},
   "outputs": [],
   "source": [
    "#cross_val_score(extratrees, X, y, cv=2).mean()"
   ]
  },
  {
   "cell_type": "code",
   "execution_count": 192,
   "metadata": {},
   "outputs": [
    {
     "data": {
      "text/plain": [
       "<function ndarray.sort>"
      ]
     },
     "execution_count": 192,
     "metadata": {},
     "output_type": "execute_result"
    }
   ],
   "source": [
    "extratrees.feature_importances_.sort"
   ]
  },
  {
   "cell_type": "code",
   "execution_count": 193,
   "metadata": {},
   "outputs": [
    {
     "name": "stdout",
     "output_type": "stream",
     "text": [
      "qf_fit_day_med_med                  0.489386\n",
      "qf_fit_day_med_avg                  0.229353\n",
      "qf_fit_day_sum_med                  0.067931\n",
      "qf_fit_day_med_sum                  0.051309\n",
      "qf_fit_day_sum_avg                  0.024195\n",
      "                                      ...   \n",
      "obs_day_cnt_max_per_squaremeters    0.000000\n",
      "obs_day_cnt_min_per_squaremeters    0.000000\n",
      "obs_day_cnt_sum_per_squaremeters    0.000000\n",
      "obs_day_cnt_med_per_squaremeters    0.000000\n",
      "aland                               0.000000\n",
      "Length: 61, dtype: float64\n"
     ]
    }
   ],
   "source": [
    "important_features = pd.Series(data=extratrees.feature_importances_,index=X.columns)\n",
    "important_features.sort_values(ascending=False,inplace=True)\n",
    "\n",
    "print(important_features)"
   ]
  },
  {
   "cell_type": "code",
   "execution_count": 194,
   "metadata": {},
   "outputs": [],
   "source": [
    "from sklearn.model_selection import cross_val_predict\n",
    "import matplotlib.pyplot as plt\n",
    "import seaborn as sns"
   ]
  },
  {
   "cell_type": "code",
   "execution_count": 195,
   "metadata": {},
   "outputs": [
    {
     "name": "stdout",
     "output_type": "stream",
     "text": [
      "{'Bakken Region': (0.4, 0.7607843137254902, 0.6470588235294118)}\n"
     ]
    },
    {
     "data": {
      "text/plain": [
       "<Figure size 864x864 with 0 Axes>"
      ]
     },
     "metadata": {},
     "output_type": "display_data"
    },
    {
     "name": "stderr",
     "output_type": "stream",
     "text": [
      "<string>:6: UserWarning: Warning: converting a masked element to nan.\n",
      "/Users/danielmsheehan/opt/anaconda3/envs/dsi/lib/python3.7/site-packages/numpy/ma/core.py:711: UserWarning: Warning: converting a masked element to nan.\n",
      "  data = np.array(a, copy=False, subok=subok)\n"
     ]
    },
    {
     "data": {
      "image/png": "[encoded data removed]",
      "text/plain": [
       "<Figure size 432x288 with 1 Axes>"
      ]
     },
     "metadata": {
      "needs_background": "light"
     },
     "output_type": "display_data"
    }
   ],
   "source": [
    "predicted = cross_val_predict(extratrees, X, y, cv=10)\n",
    "\n",
    "#color_labels = df['region'].unique()\n",
    "# print(color_labels)\n",
    "# List of RGB triplets\n",
    "#rgb_values = sns.color_palette(\"Set2\", 8)\n",
    "\n",
    "# Map label to RGB\n",
    "# color_map = dict(zip(color_labels, rgb_values))\n",
    "\n",
    "print(color_map)\n",
    "\n",
    "plt.figure(figsize=(12, 12))\n",
    "fig, ax = plt.subplots()\n",
    "plt.scatter(y, predicted, edgecolors=(0, 0, 0), c=df['region'].map(color_map))\n",
    "plt.plot([y.min(), y.max()], [y.min(), y.max()], 'k--', lw=4)\n",
    "#ax.set_xlabel('Measured')\n",
    "#ax.set_ylabel('Predicted')\n",
    "# plt.legend()\n",
    "plt.show()"
   ]
  },
  {
   "cell_type": "code",
   "execution_count": 157,
   "metadata": {},
   "outputs": [],
   "source": [
    "resids = y - predicted"
   ]
  },
  {
   "cell_type": "code",
   "execution_count": 158,
   "metadata": {},
   "outputs": [
    {
     "data": {
      "text/plain": [
       "<matplotlib.lines.Line2D at 0x7fbe80adc150>"
      ]
     },
     "execution_count": 158,
     "metadata": {},
     "output_type": "execute_result"
    },
    {
     "data": {
      "image/png": "[encoded data removed]",
      "text/plain": [
       "<Figure size 576x576 with 1 Axes>"
      ]
     },
     "metadata": {
      "needs_background": "light"
     },
     "output_type": "display_data"
    }
   ],
   "source": [
    "# Normality of residuals assumption\n",
    "plt.figure(figsize=(8, 8))\n",
    "\n",
    "plt.hist(resids, bins=25);\n",
    "plt.axvline(0, color='red')"
   ]
  },
  {
   "cell_type": "code",
   "execution_count": 159,
   "metadata": {},
   "outputs": [
    {
     "data": {
      "image/png": "[encoded data removed]",
      "text/plain": [
       "<Figure size 576x576 with 1 Axes>"
      ]
     },
     "metadata": {
      "needs_background": "light"
     },
     "output_type": "display_data"
    }
   ],
   "source": [
    "import matplotlib.patches as mpatches\n",
    "\n",
    "plt.figure(figsize=(8, 8))\n",
    "\n",
    "plt.scatter(predicted, resids, edgecolors='black', c=df['region'].map(color_map))\n",
    "\n",
    "#legend_elements = [Patch(facecolor='orange', edgecolor='r', label='Color Patch')]\n",
    "# plt.legend(handles=[\n",
    "#     mpatches.Patch(color='red', label='The red data'),\n",
    "#     mpatches.Patch(color='blue', label='The blue data'),\n",
    "#     mpatches.Patch(color=(0.8980392156862745,0.7686274509803922,0.5803921568627451), label='Permian Region'),\n",
    "# ])\n",
    "plt.axhline(0, color='red');"
   ]
  },
  {
   "cell_type": "code",
   "execution_count": 161,
   "metadata": {},
   "outputs": [
    {
     "data": {
      "text/plain": [
       "<matplotlib.axes._subplots.AxesSubplot at 0x7fbe629fc650>"
      ]
     },
     "execution_count": 161,
     "metadata": {},
     "output_type": "execute_result"
    },
    {
     "data": {
      "image/png": "[encoded data removed]",
      "text/plain": [
       "<Figure size 432x288 with 1 Axes>"
      ]
     },
     "metadata": {
      "needs_background": "light"
     },
     "output_type": "display_data"
    }
   ],
   "source": [
    "df['oil_bbl_d_total_production'].plot()"
   ]
  },
  {
   "cell_type": "code",
   "execution_count": null,
   "metadata": {},
   "outputs": [],
   "source": []
  },
  {
   "cell_type": "code",
   "execution_count": null,
   "metadata": {},
   "outputs": [],
   "source": []
  }
 ],
 "metadata": {
  "kernelspec": {
   "display_name": "Python 3",
   "language": "python",
   "name": "python3"
  },
  "language_info": {
   "codemirror_mode": {
    "name": "ipython",
    "version": 3
   },
   "file_extension": ".py",
   "mimetype": "text/x-python",
   "name": "python",
   "nbconvert_exporter": "python",
   "pygments_lexer": "ipython3",
   "version": "3.7.4"
  },
  "toc": {
   "base_numbering": 1,
   "nav_menu": {},
   "number_sections": false,
   "sideBar": true,
   "skip_h1_title": false,
   "title_cell": "Table of Contents",
   "title_sidebar": "Contents",
   "toc_cell": true,
   "toc_position": {
    "height": "calc(100% - 180px)",
    "left": "10px",
    "top": "150px",
    "width": "165px"
   },
   "toc_section_display": true,
   "toc_window_display": true
  }
 },
 "nbformat": 4,
 "nbformat_minor": 4
}
