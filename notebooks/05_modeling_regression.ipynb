{
 "cells": [
  {
   "cell_type": "markdown",
   "metadata": {},
   "source": [
    "# Modeling using Regression\n",
    "\n",
    "---"
   ]
  },
  {
   "cell_type": "markdown",
   "metadata": {
    "toc": true
   },
   "source": [
    "<h1>Table of Contents<span class=\"tocSkip\"></span></h1>\n",
    "<div class=\"toc\"><ul class=\"toc-item\"><li><span><a href=\"#Modeling\" data-toc-modified-id=\"Modeling-1\">Modeling</a></span></li></ul></div>"
   ]
  },
  {
   "cell_type": "code",
   "execution_count": 65,
   "metadata": {},
   "outputs": [
    {
     "name": "stdout",
     "output_type": "stream",
     "text": [
      "The autoreload extension is already loaded. To reload it, use:\n",
      "  %reload_ext autoreload\n"
     ]
    }
   ],
   "source": [
    "import os\n",
    "import sys\n",
    "module_path = os.path.abspath(os.path.join('..'))\n",
    "if module_path not in sys.path:\n",
    "    sys.path.append(module_path)\n",
    "    \n",
    "%load_ext autoreload\n",
    "%autoreload 2"
   ]
  },
  {
   "cell_type": "code",
   "execution_count": 66,
   "metadata": {},
   "outputs": [],
   "source": [
    "import pandas as pd\n",
    "from sklearn.model_selection import train_test_split, cross_val_score\n",
    "from sklearn.linear_model import LinearRegression\n",
    "from sklearn.tree import DecisionTreeRegressor\n",
    "from sklearn.ensemble import RandomForestRegressor\n",
    "from sklearn.ensemble import ExtraTreesRegressor\n",
    "import numpy as np\n",
    "import datetime as dt\n",
    "from sklearn.model_selection import cross_val_predict\n",
    "import matplotlib.pyplot as plt\n",
    "import seaborn as sns\n",
    "import matplotlib.patches as mpatches\n"
   ]
  },
  {
   "cell_type": "code",
   "execution_count": 67,
   "metadata": {},
   "outputs": [],
   "source": [
    "from tools.tools import read_json, get_current_time"
   ]
  },
  {
   "cell_type": "code",
   "execution_count": 68,
   "metadata": {},
   "outputs": [],
   "source": [
    "plt.style.use('ggplot')"
   ]
  },
  {
   "cell_type": "code",
   "execution_count": 69,
   "metadata": {},
   "outputs": [],
   "source": [
    "config = read_json('../config.json')\n",
    "\n",
    "current_date = get_current_time('yyyymmdd')\n",
    "\n",
    "wd = f\"{config['workspace_directory']}/data\""
   ]
  },
  {
   "cell_type": "code",
   "execution_count": 70,
   "metadata": {},
   "outputs": [],
   "source": [
    "df = pd.read_csv(f\"{wd}/processing/basin_int_viirs_for_modeling.csv\")"
   ]
  },
  {
   "cell_type": "code",
   "execution_count": 71,
   "metadata": {},
   "outputs": [
    {
     "data": {
      "text/html": [
       "<div>\n",
       "<style scoped>\n",
       "    .dataframe tbody tr th:only-of-type {\n",
       "        vertical-align: middle;\n",
       "    }\n",
       "\n",
       "    .dataframe tbody tr th {\n",
       "        vertical-align: top;\n",
       "    }\n",
       "\n",
       "    .dataframe thead th {\n",
       "        text-align: right;\n",
       "    }\n",
       "</style>\n",
       "<table border=\"1\" class=\"dataframe\">\n",
       "  <thead>\n",
       "    <tr style=\"text-align: right;\">\n",
       "      <th></th>\n",
       "      <th>year_month</th>\n",
       "      <th>region</th>\n",
       "      <th>obs_day_cnt_avg</th>\n",
       "      <th>obs_day_cnt_med</th>\n",
       "      <th>obs_day_cnt_sum</th>\n",
       "      <th>obs_day_cnt_min</th>\n",
       "      <th>obs_day_cnt_max</th>\n",
       "      <th>qf_fit_day_avg_avg</th>\n",
       "      <th>qf_fit_day_avg_med</th>\n",
       "      <th>qf_fit_day_avg_sum</th>\n",
       "      <th>...</th>\n",
       "      <th>qf_fit_day_min_min_per_squaremeters</th>\n",
       "      <th>qf_fit_day_min_max_per_squaremeters</th>\n",
       "      <th>qf_fit_day_max_avg_per_squaremeters</th>\n",
       "      <th>qf_fit_day_max_med_per_squaremeters</th>\n",
       "      <th>qf_fit_day_max_sum_per_squaremeters</th>\n",
       "      <th>qf_fit_day_max_min_per_squaremeters</th>\n",
       "      <th>qf_fit_day_max_max_per_squaremeters</th>\n",
       "      <th>month</th>\n",
       "      <th>oil_bbl_d_total_production</th>\n",
       "      <th>year</th>\n",
       "    </tr>\n",
       "  </thead>\n",
       "  <tbody>\n",
       "    <tr>\n",
       "      <td>0</td>\n",
       "      <td>2012-03-01</td>\n",
       "      <td>Anadarko Region</td>\n",
       "      <td>13.041667</td>\n",
       "      <td>12.5</td>\n",
       "      <td>313</td>\n",
       "      <td>3</td>\n",
       "      <td>33</td>\n",
       "      <td>4.786164</td>\n",
       "      <td>4.291667</td>\n",
       "      <td>114.867926</td>\n",
       "      <td>...</td>\n",
       "      <td>0.0</td>\n",
       "      <td>0.0</td>\n",
       "      <td>4.185230e-10</td>\n",
       "      <td>4.505471e-10</td>\n",
       "      <td>1.004455e-08</td>\n",
       "      <td>0.0</td>\n",
       "      <td>7.023235e-10</td>\n",
       "      <td>3</td>\n",
       "      <td>254203.561</td>\n",
       "      <td>2012</td>\n",
       "    </tr>\n",
       "    <tr>\n",
       "      <td>1</td>\n",
       "      <td>2012-03-01</td>\n",
       "      <td>Appalachia Region</td>\n",
       "      <td>31.071429</td>\n",
       "      <td>32.0</td>\n",
       "      <td>870</td>\n",
       "      <td>1</td>\n",
       "      <td>86</td>\n",
       "      <td>9.502222</td>\n",
       "      <td>8.966184</td>\n",
       "      <td>266.062205</td>\n",
       "      <td>...</td>\n",
       "      <td>0.0</td>\n",
       "      <td>0.0</td>\n",
       "      <td>1.925259e-10</td>\n",
       "      <td>1.769157e-10</td>\n",
       "      <td>5.390726e-09</td>\n",
       "      <td>0.0</td>\n",
       "      <td>2.757804e-10</td>\n",
       "      <td>3</td>\n",
       "      <td>32000.000</td>\n",
       "      <td>2012</td>\n",
       "    </tr>\n",
       "    <tr>\n",
       "      <td>2</td>\n",
       "      <td>2012-03-01</td>\n",
       "      <td>Bakken Region</td>\n",
       "      <td>260.321429</td>\n",
       "      <td>249.0</td>\n",
       "      <td>7289</td>\n",
       "      <td>2</td>\n",
       "      <td>571</td>\n",
       "      <td>1.497039</td>\n",
       "      <td>1.500962</td>\n",
       "      <td>41.917086</td>\n",
       "      <td>...</td>\n",
       "      <td>0.0</td>\n",
       "      <td>0.0</td>\n",
       "      <td>2.919411e-10</td>\n",
       "      <td>3.725575e-10</td>\n",
       "      <td>8.174350e-09</td>\n",
       "      <td>0.0</td>\n",
       "      <td>5.807514e-10</td>\n",
       "      <td>3</td>\n",
       "      <td>595203.806</td>\n",
       "      <td>2012</td>\n",
       "    </tr>\n",
       "  </tbody>\n",
       "</table>\n",
       "<p>3 rows × 66 columns</p>\n",
       "</div>"
      ],
      "text/plain": [
       "   year_month             region  obs_day_cnt_avg  obs_day_cnt_med  \\\n",
       "0  2012-03-01    Anadarko Region        13.041667             12.5   \n",
       "1  2012-03-01  Appalachia Region        31.071429             32.0   \n",
       "2  2012-03-01      Bakken Region       260.321429            249.0   \n",
       "\n",
       "   obs_day_cnt_sum  obs_day_cnt_min  obs_day_cnt_max  qf_fit_day_avg_avg  \\\n",
       "0              313                3               33            4.786164   \n",
       "1              870                1               86            9.502222   \n",
       "2             7289                2              571            1.497039   \n",
       "\n",
       "   qf_fit_day_avg_med  qf_fit_day_avg_sum  ...  \\\n",
       "0            4.291667          114.867926  ...   \n",
       "1            8.966184          266.062205  ...   \n",
       "2            1.500962           41.917086  ...   \n",
       "\n",
       "   qf_fit_day_min_min_per_squaremeters  qf_fit_day_min_max_per_squaremeters  \\\n",
       "0                                  0.0                                  0.0   \n",
       "1                                  0.0                                  0.0   \n",
       "2                                  0.0                                  0.0   \n",
       "\n",
       "   qf_fit_day_max_avg_per_squaremeters  qf_fit_day_max_med_per_squaremeters  \\\n",
       "0                         4.185230e-10                         4.505471e-10   \n",
       "1                         1.925259e-10                         1.769157e-10   \n",
       "2                         2.919411e-10                         3.725575e-10   \n",
       "\n",
       "   qf_fit_day_max_sum_per_squaremeters  qf_fit_day_max_min_per_squaremeters  \\\n",
       "0                         1.004455e-08                                  0.0   \n",
       "1                         5.390726e-09                                  0.0   \n",
       "2                         8.174350e-09                                  0.0   \n",
       "\n",
       "   qf_fit_day_max_max_per_squaremeters  month  oil_bbl_d_total_production  \\\n",
       "0                         7.023235e-10      3                  254203.561   \n",
       "1                         2.757804e-10      3                   32000.000   \n",
       "2                         5.807514e-10      3                  595203.806   \n",
       "\n",
       "   year  \n",
       "0  2012  \n",
       "1  2012  \n",
       "2  2012  \n",
       "\n",
       "[3 rows x 66 columns]"
      ]
     },
     "execution_count": 71,
     "metadata": {},
     "output_type": "execute_result"
    }
   ],
   "source": [
    "df.head(3)"
   ]
  },
  {
   "cell_type": "code",
   "execution_count": 72,
   "metadata": {},
   "outputs": [],
   "source": [
    "df['epochtime'] = (pd.to_datetime(df['year_month']) - dt.datetime(1970,1,1)).dt.total_seconds()"
   ]
  },
  {
   "cell_type": "code",
   "execution_count": 73,
   "metadata": {},
   "outputs": [],
   "source": [
    "X = df.drop(columns=[\n",
    "    'oil_bbl_d_total_production',\n",
    "])\n",
    "\n",
    "X = pd.get_dummies(X)\n",
    "\n",
    "y = df['oil_bbl_d_total_production']\n",
    "\n",
    "X_train, X_test, y_train, y_test = train_test_split(X, y, random_state=42, test_size=0.25)"
   ]
  },
  {
   "cell_type": "markdown",
   "metadata": {},
   "source": [
    "## Linear Regression"
   ]
  },
  {
   "cell_type": "code",
   "execution_count": 74,
   "metadata": {},
   "outputs": [],
   "source": [
    "lr = LinearRegression()\n",
    "lr.fit(X_train, y_train);"
   ]
  },
  {
   "cell_type": "code",
   "execution_count": 75,
   "metadata": {},
   "outputs": [
    {
     "data": {
      "text/plain": [
       "0.9379489011864182"
      ]
     },
     "execution_count": 75,
     "metadata": {},
     "output_type": "execute_result"
    }
   ],
   "source": [
    "lr.score(X_train, y_train)"
   ]
  },
  {
   "cell_type": "code",
   "execution_count": 76,
   "metadata": {},
   "outputs": [
    {
     "data": {
      "text/plain": [
       "0.5561272966907718"
      ]
     },
     "execution_count": 76,
     "metadata": {},
     "output_type": "execute_result"
    }
   ],
   "source": [
    "lr.score(X_test, y_test)"
   ]
  },
  {
   "cell_type": "code",
   "execution_count": 77,
   "metadata": {},
   "outputs": [
    {
     "data": {
      "text/plain": [
       "0.7757313837475615"
      ]
     },
     "execution_count": 77,
     "metadata": {},
     "output_type": "execute_result"
    }
   ],
   "source": [
    "cross_val_score(lr, X, y, cv=10).mean()"
   ]
  },
  {
   "cell_type": "markdown",
   "metadata": {},
   "source": [
    "## Random Forest"
   ]
  },
  {
   "cell_type": "code",
   "execution_count": 78,
   "metadata": {},
   "outputs": [],
   "source": [
    "rf = RandomForestRegressor(n_estimators=500, random_state=42)\n",
    "rf.fit(X_train, y_train);"
   ]
  },
  {
   "cell_type": "code",
   "execution_count": 79,
   "metadata": {},
   "outputs": [
    {
     "data": {
      "text/plain": [
       "0.9986047917192388"
      ]
     },
     "execution_count": 79,
     "metadata": {},
     "output_type": "execute_result"
    }
   ],
   "source": [
    "rf.score(X_train, y_train)"
   ]
  },
  {
   "cell_type": "code",
   "execution_count": 80,
   "metadata": {},
   "outputs": [
    {
     "data": {
      "text/plain": [
       "0.9866625145011108"
      ]
     },
     "execution_count": 80,
     "metadata": {},
     "output_type": "execute_result"
    }
   ],
   "source": [
    "rf.score(X_test, y_test)"
   ]
  },
  {
   "cell_type": "code",
   "execution_count": 81,
   "metadata": {},
   "outputs": [
    {
     "data": {
      "text/plain": [
       "0.9331975692853189"
      ]
     },
     "execution_count": 81,
     "metadata": {},
     "output_type": "execute_result"
    }
   ],
   "source": [
    "cross_val_score(rf, X, y, cv=10).mean()"
   ]
  },
  {
   "cell_type": "code",
   "execution_count": 82,
   "metadata": {},
   "outputs": [
    {
     "data": {
      "text/plain": [
       "region_Permian Region     0.444083\n",
       "epochtime                 0.158912\n",
       "obs_day_cnt_avg           0.134437\n",
       "obs_day_cnt_med           0.123756\n",
       "obs_day_cnt_max           0.039441\n",
       "year                      0.024999\n",
       "qf_fit_day_avg_avg        0.010927\n",
       "qf_fit_day_med_med        0.009935\n",
       "aland                     0.008595\n",
       "obs_day_cnt_sum           0.008126\n",
       "qf_fit_day_med_avg        0.005931\n",
       "qf_fit_day_sum_avg        0.004291\n",
       "qf_fit_day_sum_med        0.003952\n",
       "qf_fit_day_med_sum        0.003537\n",
       "region_Anadarko Region    0.002878\n",
       "dtype: float64"
      ]
     },
     "execution_count": 82,
     "metadata": {},
     "output_type": "execute_result"
    }
   ],
   "source": [
    "important_features = pd.Series(data=rf.feature_importances_,index=X.columns)\n",
    "important_features.sort_values(ascending=False,inplace=True)\n",
    "important_features.head(15)"
   ]
  },
  {
   "cell_type": "markdown",
   "metadata": {},
   "source": [
    "## Extra Trees"
   ]
  },
  {
   "cell_type": "code",
   "execution_count": 83,
   "metadata": {},
   "outputs": [],
   "source": [
    "et = ExtraTreesRegressor(random_state=42, n_estimators=500)\n",
    "et.fit(X_train, y_train);"
   ]
  },
  {
   "cell_type": "code",
   "execution_count": 84,
   "metadata": {},
   "outputs": [
    {
     "data": {
      "text/plain": [
       "1.0"
      ]
     },
     "execution_count": 84,
     "metadata": {},
     "output_type": "execute_result"
    }
   ],
   "source": [
    "et.score(X_train, y_train)"
   ]
  },
  {
   "cell_type": "code",
   "execution_count": 85,
   "metadata": {},
   "outputs": [
    {
     "data": {
      "text/plain": [
       "0.9953180550102854"
      ]
     },
     "execution_count": 85,
     "metadata": {},
     "output_type": "execute_result"
    }
   ],
   "source": [
    "et.score(X_test, y_test)"
   ]
  },
  {
   "cell_type": "code",
   "execution_count": 86,
   "metadata": {},
   "outputs": [
    {
     "data": {
      "text/plain": [
       "0.9569336839015797"
      ]
     },
     "execution_count": 86,
     "metadata": {},
     "output_type": "execute_result"
    }
   ],
   "source": [
    "cross_val_score(et, X, y, cv=10).mean()"
   ]
  },
  {
   "cell_type": "code",
   "execution_count": 87,
   "metadata": {},
   "outputs": [
    {
     "data": {
      "text/plain": [
       "region_Permian Region               0.558261\n",
       "qf_fit_day_med_med                  0.085773\n",
       "year                                0.044770\n",
       "obs_day_cnt_sum_per_squaremeters    0.043781\n",
       "epochtime                           0.039163\n",
       "qf_fit_day_med_avg                  0.029690\n",
       "obs_day_cnt_sum                     0.025978\n",
       "obs_day_cnt_avg                     0.025572\n",
       "region_Eagle Ford Region            0.023403\n",
       "obs_day_cnt_med                     0.023244\n",
       "obs_day_cnt_max                     0.018703\n",
       "qf_fit_day_med_max                  0.012168\n",
       "region_Appalachia Region            0.011556\n",
       "qf_fit_day_med_sum                  0.008634\n",
       "region_Haynesville Region           0.007579\n",
       "dtype: float64"
      ]
     },
     "execution_count": 87,
     "metadata": {},
     "output_type": "execute_result"
    }
   ],
   "source": [
    "important_features = pd.Series(data=et.feature_importances_,index=X.columns)\n",
    "important_features.sort_values(ascending=False,inplace=True)\n",
    "important_features.head(15)"
   ]
  },
  {
   "cell_type": "markdown",
   "metadata": {},
   "source": [
    "# Interpreting "
   ]
  },
  {
   "cell_type": "code",
   "execution_count": 88,
   "metadata": {},
   "outputs": [
    {
     "data": {
      "image/png": "[encoded data removed]",
      "text/plain": [
       "<Figure size 576x576 with 1 Axes>"
      ]
     },
     "metadata": {},
     "output_type": "display_data"
    }
   ],
   "source": [
    "predicted = cross_val_predict(et, X, y, cv=10)\n",
    "\n",
    "color_labels = df['region'].unique()\n",
    "# print(color_labels)\n",
    "# List of RGB triplets\n",
    "rgb_values = sns.color_palette(\"Set2\", 8)\n",
    "\n",
    "# Map label to RGB\n",
    "color_map = dict(zip(color_labels, rgb_values))\n",
    "\n",
    "plt.figure(figsize=(8, 8))\n",
    "# fig, ax = plt.subplots()\n",
    "plt.scatter(y, predicted, edgecolors=(0, 0, 0), c=df['region'].map(color_map))\n",
    "plt.plot([y.min(), y.max()], [y.min(), y.max()], 'k--', lw=4)\n",
    "#ax.set_xlabel('Measured')\n",
    "#ax.set_ylabel('Predicted')\n",
    "#plt.legend()\n",
    "plt.show();"
   ]
  },
  {
   "cell_type": "code",
   "execution_count": 89,
   "metadata": {},
   "outputs": [],
   "source": [
    "resids = y - predicted"
   ]
  },
  {
   "cell_type": "code",
   "execution_count": 90,
   "metadata": {},
   "outputs": [
    {
     "data": {
      "text/plain": [
       "<matplotlib.lines.Line2D at 0x7fe11ba41650>"
      ]
     },
     "execution_count": 90,
     "metadata": {},
     "output_type": "execute_result"
    },
    {
     "data": {
      "image/png": "[encoded data removed]",
      "text/plain": [
       "<Figure size 576x576 with 1 Axes>"
      ]
     },
     "metadata": {},
     "output_type": "display_data"
    }
   ],
   "source": [
    "# Normality of residuals assumption\n",
    "plt.figure(figsize=(8, 8))\n",
    "\n",
    "plt.hist(resids, bins=25);\n",
    "plt.axvline(0, color='red')"
   ]
  },
  {
   "cell_type": "code",
   "execution_count": 91,
   "metadata": {},
   "outputs": [
    {
     "data": {
      "image/png": "[encoded data removed]",
      "text/plain": [
       "<Figure size 576x576 with 1 Axes>"
      ]
     },
     "metadata": {},
     "output_type": "display_data"
    }
   ],
   "source": [
    "plt.figure(figsize=(8, 8))\n",
    "\n",
    "plt.scatter(predicted, resids, edgecolors='black', c=df['region'].map(color_map))\n",
    "\n",
    "#legend_elements = [Patch(facecolor='orange', edgecolor='r', label='Color Patch')]\n",
    "plt.legend(handles=[\n",
    "    mpatches.Patch(color='red', label='The red data'),\n",
    "    mpatches.Patch(color='blue', label='The blue data'),\n",
    "    mpatches.Patch(color=(0.8980392156862745,0.7686274509803922,0.5803921568627451), label='Permian Region'),\n",
    "])\n",
    "plt.axhline(0, color='red');"
   ]
  },
  {
   "cell_type": "code",
   "execution_count": null,
   "metadata": {},
   "outputs": [],
   "source": []
  }
 ],
 "metadata": {
  "kernelspec": {
   "display_name": "Python 3",
   "language": "python",
   "name": "python3"
  },
  "language_info": {
   "codemirror_mode": {
    "name": "ipython",
    "version": 3
   },
   "file_extension": ".py",
   "mimetype": "text/x-python",
   "name": "python",
   "nbconvert_exporter": "python",
   "pygments_lexer": "ipython3",
   "version": "3.7.4"
  },
  "toc": {
   "base_numbering": 1,
   "nav_menu": {},
   "number_sections": false,
   "sideBar": true,
   "skip_h1_title": false,
   "title_cell": "Table of Contents",
   "title_sidebar": "Contents",
   "toc_cell": true,
   "toc_position": {
    "height": "calc(100% - 180px)",
    "left": "10px",
    "top": "150px",
    "width": "165px"
   },
   "toc_section_display": true,
   "toc_window_display": true
  },
  "toc-showcode": false
 },
 "nbformat": 4,
 "nbformat_minor": 4
}
