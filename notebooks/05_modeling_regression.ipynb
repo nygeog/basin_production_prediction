{
 "cells": [
  {
   "cell_type": "markdown",
   "metadata": {},
   "source": [
    "# Modeling using Regression\n",
    "\n",
    "---"
   ]
  },
  {
   "cell_type": "markdown",
   "metadata": {
    "toc": true
   },
   "source": [
    "<h1>Table of Contents<span class=\"tocSkip\"></span></h1>\n",
    "<div class=\"toc\"><ul class=\"toc-item\"><li><span><a href=\"#Modeling-using-Regression\" data-toc-modified-id=\"Modeling-using-Regression-1\">Modeling using Regression</a></span><ul class=\"toc-item\"><li><span><a href=\"#Linear-Regression-All-Regions\" data-toc-modified-id=\"Linear-Regression-All-Regions-1.1\">Linear Regression All Regions</a></span></li><li><span><a href=\"#Linear-Regression-Individual-Regions\" data-toc-modified-id=\"Linear-Regression-Individual-Regions-1.2\">Linear Regression Individual Regions</a></span></li><li><span><a href=\"#Random-Forest\" data-toc-modified-id=\"Random-Forest-1.3\">Random Forest</a></span></li><li><span><a href=\"#Extra-Trees\" data-toc-modified-id=\"Extra-Trees-1.4\">Extra Trees</a></span></li></ul></li><li><span><a href=\"#Interpreting\" data-toc-modified-id=\"Interpreting-2\">Interpreting</a></span></li></ul></div>"
   ]
  },
  {
   "cell_type": "code",
   "execution_count": 4,
   "metadata": {},
   "outputs": [
    {
     "name": "stdout",
     "output_type": "stream",
     "text": [
      "The autoreload extension is already loaded. To reload it, use:\n",
      "  %reload_ext autoreload\n"
     ]
    }
   ],
   "source": [
    "import os\n",
    "import sys\n",
    "module_path = os.path.abspath(os.path.join('..'))\n",
    "if module_path not in sys.path:\n",
    "    sys.path.append(module_path)\n",
    "    \n",
    "%load_ext autoreload\n",
    "%autoreload 2"
   ]
  },
  {
   "cell_type": "code",
   "execution_count": 5,
   "metadata": {},
   "outputs": [],
   "source": [
    "import pandas as pd\n",
    "from sklearn.model_selection import train_test_split, cross_val_score\n",
    "from sklearn.linear_model import LinearRegression\n",
    "from sklearn.tree import DecisionTreeRegressor\n",
    "from sklearn.ensemble import RandomForestRegressor\n",
    "from sklearn.ensemble import ExtraTreesRegressor\n",
    "import numpy as np\n",
    "import datetime as dt\n",
    "from sklearn.model_selection import cross_val_predict\n",
    "import matplotlib.pyplot as plt\n",
    "import seaborn as sns\n",
    "import matplotlib.patches as mpatches\n"
   ]
  },
  {
   "cell_type": "code",
   "execution_count": 6,
   "metadata": {},
   "outputs": [],
   "source": [
    "from tools.tools import read_json, get_current_time"
   ]
  },
  {
   "cell_type": "code",
   "execution_count": 7,
   "metadata": {},
   "outputs": [],
   "source": [
    "plt.style.use('ggplot')"
   ]
  },
  {
   "cell_type": "code",
   "execution_count": 8,
   "metadata": {},
   "outputs": [],
   "source": [
    "basin_colors_hex = {  # manually defined dictionary of EIA basin-level standardized colors \n",
    "    \"Anadarko Region\":    \"#2BA2CF\", \n",
    "    \"Appalachia Region\":  \"#769F5D\",\n",
    "    \"Bakken Region\":      \"#F6C432\", \n",
    "    \"Eagle Ford Region\":  \"#48366B\", \n",
    "    \"Haynesville Region\": \"#807B8F\",\n",
    "    \"Niobrara Region\":    \"#9D3341\",\n",
    "    \"Permian Region\":     \"#6F4B27\",\n",
    "}"
   ]
  },
  {
   "cell_type": "code",
   "execution_count": 9,
   "metadata": {},
   "outputs": [],
   "source": [
    "config = read_json('../config.json')\n",
    "\n",
    "current_date = get_current_time('yyyymmdd')\n",
    "\n",
    "wd = f\"{config['workspace_directory']}/data\""
   ]
  },
  {
   "cell_type": "code",
   "execution_count": 108,
   "metadata": {},
   "outputs": [],
   "source": [
    "df = pd.read_csv(f\"{wd}/processing/basin_int_viirs_for_modeling.csv\")"
   ]
  },
  {
   "cell_type": "code",
   "execution_count": 110,
   "metadata": {},
   "outputs": [],
   "source": [
    "region_list = list(df['region'].unique())"
   ]
  },
  {
   "cell_type": "code",
   "execution_count": 11,
   "metadata": {},
   "outputs": [
    {
     "data": {
      "text/html": [
       "<div>\n",
       "<style scoped>\n",
       "    .dataframe tbody tr th:only-of-type {\n",
       "        vertical-align: middle;\n",
       "    }\n",
       "\n",
       "    .dataframe tbody tr th {\n",
       "        vertical-align: top;\n",
       "    }\n",
       "\n",
       "    .dataframe thead th {\n",
       "        text-align: right;\n",
       "    }\n",
       "</style>\n",
       "<table border=\"1\" class=\"dataframe\">\n",
       "  <thead>\n",
       "    <tr style=\"text-align: right;\">\n",
       "      <th></th>\n",
       "      <th>year_month</th>\n",
       "      <th>region</th>\n",
       "      <th>latest_day_in_month</th>\n",
       "      <th>obs_day_cnt_avg</th>\n",
       "      <th>obs_day_cnt_med</th>\n",
       "      <th>obs_day_cnt_sum</th>\n",
       "      <th>obs_day_cnt_min</th>\n",
       "      <th>obs_day_cnt_max</th>\n",
       "      <th>qf_fit_day_avg_avg</th>\n",
       "      <th>qf_fit_day_avg_med</th>\n",
       "      <th>...</th>\n",
       "      <th>obs_day_cnt_avg_over_pct_month_completed</th>\n",
       "      <th>obs_day_cnt_med_over_pct_month_completed</th>\n",
       "      <th>obs_day_cnt_sum_over_pct_month_completed</th>\n",
       "      <th>obs_day_cnt_min_over_pct_month_completed</th>\n",
       "      <th>obs_day_cnt_max_over_pct_month_completed</th>\n",
       "      <th>obs_day_cnt_avg_per_squaremeters_over_pct_month_completed</th>\n",
       "      <th>obs_day_cnt_med_per_squaremeters_over_pct_month_completed</th>\n",
       "      <th>obs_day_cnt_sum_per_squaremeters_over_pct_month_completed</th>\n",
       "      <th>obs_day_cnt_min_per_squaremeters_over_pct_month_completed</th>\n",
       "      <th>obs_day_cnt_max_per_squaremeters_over_pct_month_completed</th>\n",
       "    </tr>\n",
       "  </thead>\n",
       "  <tbody>\n",
       "    <tr>\n",
       "      <td>0</td>\n",
       "      <td>2012-03-01</td>\n",
       "      <td>Anadarko Region</td>\n",
       "      <td>2012-03-31</td>\n",
       "      <td>13.041667</td>\n",
       "      <td>12.5</td>\n",
       "      <td>313</td>\n",
       "      <td>3</td>\n",
       "      <td>33</td>\n",
       "      <td>4.786164</td>\n",
       "      <td>4.291667</td>\n",
       "      <td>...</td>\n",
       "      <td>13.041667</td>\n",
       "      <td>12.5</td>\n",
       "      <td>313.0</td>\n",
       "      <td>3.0</td>\n",
       "      <td>33.0</td>\n",
       "      <td>1.728202e-10</td>\n",
       "      <td>1.656423e-10</td>\n",
       "      <td>4.147684e-09</td>\n",
       "      <td>3.975416e-11</td>\n",
       "      <td>4.372958e-10</td>\n",
       "    </tr>\n",
       "    <tr>\n",
       "      <td>1</td>\n",
       "      <td>2012-03-01</td>\n",
       "      <td>Appalachia Region</td>\n",
       "      <td>2012-03-31</td>\n",
       "      <td>31.071429</td>\n",
       "      <td>32.0</td>\n",
       "      <td>870</td>\n",
       "      <td>1</td>\n",
       "      <td>86</td>\n",
       "      <td>9.502222</td>\n",
       "      <td>8.966184</td>\n",
       "      <td>...</td>\n",
       "      <td>31.071429</td>\n",
       "      <td>32.0</td>\n",
       "      <td>870.0</td>\n",
       "      <td>1.0</td>\n",
       "      <td>86.0</td>\n",
       "      <td>1.616772e-10</td>\n",
       "      <td>1.665089e-10</td>\n",
       "      <td>4.526961e-09</td>\n",
       "      <td>5.203404e-12</td>\n",
       "      <td>4.474927e-10</td>\n",
       "    </tr>\n",
       "    <tr>\n",
       "      <td>2</td>\n",
       "      <td>2012-03-01</td>\n",
       "      <td>Bakken Region</td>\n",
       "      <td>2012-03-31</td>\n",
       "      <td>260.321429</td>\n",
       "      <td>249.0</td>\n",
       "      <td>7289</td>\n",
       "      <td>2</td>\n",
       "      <td>571</td>\n",
       "      <td>1.497039</td>\n",
       "      <td>1.500962</td>\n",
       "      <td>...</td>\n",
       "      <td>260.321429</td>\n",
       "      <td>249.0</td>\n",
       "      <td>7289.0</td>\n",
       "      <td>2.0</td>\n",
       "      <td>571.0</td>\n",
       "      <td>2.852491e-09</td>\n",
       "      <td>2.728436e-09</td>\n",
       "      <td>7.986976e-08</td>\n",
       "      <td>2.191515e-11</td>\n",
       "      <td>6.256775e-09</td>\n",
       "    </tr>\n",
       "  </tbody>\n",
       "</table>\n",
       "<p>3 rows × 84 columns</p>\n",
       "</div>"
      ],
      "text/plain": [
       "   year_month             region latest_day_in_month  obs_day_cnt_avg  \\\n",
       "0  2012-03-01    Anadarko Region          2012-03-31        13.041667   \n",
       "1  2012-03-01  Appalachia Region          2012-03-31        31.071429   \n",
       "2  2012-03-01      Bakken Region          2012-03-31       260.321429   \n",
       "\n",
       "   obs_day_cnt_med  obs_day_cnt_sum  obs_day_cnt_min  obs_day_cnt_max  \\\n",
       "0             12.5              313                3               33   \n",
       "1             32.0              870                1               86   \n",
       "2            249.0             7289                2              571   \n",
       "\n",
       "   qf_fit_day_avg_avg  qf_fit_day_avg_med  ...  \\\n",
       "0            4.786164            4.291667  ...   \n",
       "1            9.502222            8.966184  ...   \n",
       "2            1.497039            1.500962  ...   \n",
       "\n",
       "   obs_day_cnt_avg_over_pct_month_completed  \\\n",
       "0                                 13.041667   \n",
       "1                                 31.071429   \n",
       "2                                260.321429   \n",
       "\n",
       "   obs_day_cnt_med_over_pct_month_completed  \\\n",
       "0                                      12.5   \n",
       "1                                      32.0   \n",
       "2                                     249.0   \n",
       "\n",
       "   obs_day_cnt_sum_over_pct_month_completed  \\\n",
       "0                                     313.0   \n",
       "1                                     870.0   \n",
       "2                                    7289.0   \n",
       "\n",
       "   obs_day_cnt_min_over_pct_month_completed  \\\n",
       "0                                       3.0   \n",
       "1                                       1.0   \n",
       "2                                       2.0   \n",
       "\n",
       "   obs_day_cnt_max_over_pct_month_completed  \\\n",
       "0                                      33.0   \n",
       "1                                      86.0   \n",
       "2                                     571.0   \n",
       "\n",
       "   obs_day_cnt_avg_per_squaremeters_over_pct_month_completed  \\\n",
       "0                                       1.728202e-10           \n",
       "1                                       1.616772e-10           \n",
       "2                                       2.852491e-09           \n",
       "\n",
       "   obs_day_cnt_med_per_squaremeters_over_pct_month_completed  \\\n",
       "0                                       1.656423e-10           \n",
       "1                                       1.665089e-10           \n",
       "2                                       2.728436e-09           \n",
       "\n",
       "   obs_day_cnt_sum_per_squaremeters_over_pct_month_completed  \\\n",
       "0                                       4.147684e-09           \n",
       "1                                       4.526961e-09           \n",
       "2                                       7.986976e-08           \n",
       "\n",
       "   obs_day_cnt_min_per_squaremeters_over_pct_month_completed  \\\n",
       "0                                       3.975416e-11           \n",
       "1                                       5.203404e-12           \n",
       "2                                       2.191515e-11           \n",
       "\n",
       "   obs_day_cnt_max_per_squaremeters_over_pct_month_completed  \n",
       "0                                       4.372958e-10          \n",
       "1                                       4.474927e-10          \n",
       "2                                       6.256775e-09          \n",
       "\n",
       "[3 rows x 84 columns]"
      ]
     },
     "execution_count": 11,
     "metadata": {},
     "output_type": "execute_result"
    }
   ],
   "source": [
    "df.head(3)"
   ]
  },
  {
   "cell_type": "code",
   "execution_count": 12,
   "metadata": {},
   "outputs": [
    {
     "data": {
      "text/plain": [
       "(679, 84)"
      ]
     },
     "execution_count": 12,
     "metadata": {},
     "output_type": "execute_result"
    }
   ],
   "source": [
    "df.shape"
   ]
  },
  {
   "cell_type": "code",
   "execution_count": 200,
   "metadata": {},
   "outputs": [],
   "source": [
    "X = df.drop(columns=[\n",
    "    'oil_bbl_d_total_production',\n",
    "    'latest_day_in_month',\n",
    "    'last_day_of_month',\n",
    "    'first_day_of_month',\n",
    "    'year_month',\n",
    "])\n",
    "\n",
    "X = pd.get_dummies(X)\n",
    "\n",
    "y = df['oil_bbl_d_total_production']\n",
    "\n",
    "X_train, X_test, y_train, y_test = train_test_split(\n",
    "    X, \n",
    "    y, \n",
    "    test_size=0.25,\n",
    "    random_state=42,\n",
    ")"
   ]
  },
  {
   "cell_type": "code",
   "execution_count": 201,
   "metadata": {},
   "outputs": [
    {
     "data": {
      "text/plain": [
       "(509, 92)"
      ]
     },
     "execution_count": 201,
     "metadata": {},
     "output_type": "execute_result"
    }
   ],
   "source": [
    "X_train.shape"
   ]
  },
  {
   "cell_type": "code",
   "execution_count": 202,
   "metadata": {},
   "outputs": [
    {
     "name": "stdout",
     "output_type": "stream",
     "text": [
      "obs_day_cnt_avg\n",
      "obs_day_cnt_med\n",
      "obs_day_cnt_sum\n",
      "obs_day_cnt_min\n",
      "obs_day_cnt_max\n",
      "qf_fit_day_avg_avg\n",
      "qf_fit_day_avg_med\n",
      "qf_fit_day_avg_sum\n",
      "qf_fit_day_avg_min\n",
      "qf_fit_day_avg_max\n",
      "qf_fit_day_med_avg\n",
      "qf_fit_day_med_med\n",
      "qf_fit_day_med_sum\n",
      "qf_fit_day_med_min\n",
      "qf_fit_day_med_max\n",
      "qf_fit_day_sum_avg\n",
      "qf_fit_day_sum_med\n",
      "qf_fit_day_sum_sum\n",
      "qf_fit_day_sum_min\n",
      "qf_fit_day_sum_max\n",
      "qf_fit_day_min_avg\n",
      "qf_fit_day_min_med\n",
      "qf_fit_day_min_sum\n",
      "qf_fit_day_min_min\n",
      "qf_fit_day_min_max\n",
      "qf_fit_day_max_avg\n",
      "qf_fit_day_max_med\n",
      "qf_fit_day_max_sum\n",
      "qf_fit_day_max_min\n",
      "qf_fit_day_max_max\n",
      "aland\n",
      "obs_day_cnt_avg_per_squaremeters\n",
      "obs_day_cnt_med_per_squaremeters\n",
      "obs_day_cnt_sum_per_squaremeters\n",
      "obs_day_cnt_min_per_squaremeters\n",
      "obs_day_cnt_max_per_squaremeters\n",
      "qf_fit_day_avg_avg_per_squaremeters\n",
      "qf_fit_day_avg_med_per_squaremeters\n",
      "qf_fit_day_avg_sum_per_squaremeters\n",
      "qf_fit_day_avg_min_per_squaremeters\n",
      "qf_fit_day_avg_max_per_squaremeters\n",
      "qf_fit_day_med_avg_per_squaremeters\n",
      "qf_fit_day_med_med_per_squaremeters\n",
      "qf_fit_day_med_sum_per_squaremeters\n",
      "qf_fit_day_med_min_per_squaremeters\n",
      "qf_fit_day_med_max_per_squaremeters\n",
      "qf_fit_day_sum_avg_per_squaremeters\n",
      "qf_fit_day_sum_med_per_squaremeters\n",
      "qf_fit_day_sum_sum_per_squaremeters\n",
      "qf_fit_day_sum_min_per_squaremeters\n",
      "qf_fit_day_sum_max_per_squaremeters\n",
      "qf_fit_day_min_avg_per_squaremeters\n",
      "qf_fit_day_min_med_per_squaremeters\n",
      "qf_fit_day_min_sum_per_squaremeters\n",
      "qf_fit_day_min_min_per_squaremeters\n",
      "qf_fit_day_min_max_per_squaremeters\n",
      "qf_fit_day_max_avg_per_squaremeters\n",
      "qf_fit_day_max_med_per_squaremeters\n",
      "qf_fit_day_max_sum_per_squaremeters\n",
      "qf_fit_day_max_min_per_squaremeters\n",
      "qf_fit_day_max_max_per_squaremeters\n",
      "month\n",
      "year\n",
      "epochtime\n",
      "last_day_of_month_epochtime\n",
      "first_day_of_month_epochtime\n",
      "latest_day_in_month_epochtime\n",
      "pct_month_completed\n",
      "obs_day_cnt_avg_over_pct_month_completed\n",
      "obs_day_cnt_med_over_pct_month_completed\n",
      "obs_day_cnt_sum_over_pct_month_completed\n",
      "obs_day_cnt_min_over_pct_month_completed\n",
      "obs_day_cnt_max_over_pct_month_completed\n",
      "obs_day_cnt_avg_per_squaremeters_over_pct_month_completed\n",
      "obs_day_cnt_med_per_squaremeters_over_pct_month_completed\n",
      "obs_day_cnt_sum_per_squaremeters_over_pct_month_completed\n",
      "obs_day_cnt_min_per_squaremeters_over_pct_month_completed\n",
      "obs_day_cnt_max_per_squaremeters_over_pct_month_completed\n",
      "region_Anadarko Region\n",
      "region_Appalachia Region\n",
      "region_Bakken Region\n",
      "region_Eagle Ford Region\n",
      "region_Haynesville Region\n",
      "region_Niobrara Region\n",
      "region_Permian Region\n",
      "colors_#2BA2CF\n",
      "colors_#48366B\n",
      "colors_#6F4B27\n",
      "colors_#769F5D\n",
      "colors_#807B8F\n",
      "colors_#9D3341\n",
      "colors_#F6C432\n"
     ]
    }
   ],
   "source": [
    "for i in X.columns:\n",
    "    print(i)  # check the columns putting into the model. "
   ]
  },
  {
   "cell_type": "code",
   "execution_count": 203,
   "metadata": {},
   "outputs": [
    {
     "data": {
      "text/plain": [
       "(170, 92)"
      ]
     },
     "execution_count": 203,
     "metadata": {},
     "output_type": "execute_result"
    }
   ],
   "source": [
    "X_test.shape"
   ]
  },
  {
   "cell_type": "markdown",
   "metadata": {},
   "source": [
    "## Linear Regression All Regions"
   ]
  },
  {
   "cell_type": "code",
   "execution_count": 204,
   "metadata": {},
   "outputs": [],
   "source": [
    "lr = LinearRegression()\n",
    "lr.fit(X_train, y_train);"
   ]
  },
  {
   "cell_type": "code",
   "execution_count": 205,
   "metadata": {},
   "outputs": [
    {
     "data": {
      "text/plain": [
       "0.9284652720119193"
      ]
     },
     "execution_count": 205,
     "metadata": {},
     "output_type": "execute_result"
    }
   ],
   "source": [
    "lr.score(X_train, y_train)"
   ]
  },
  {
   "cell_type": "code",
   "execution_count": 206,
   "metadata": {},
   "outputs": [
    {
     "data": {
      "text/plain": [
       "-9.437069504802942e-05"
      ]
     },
     "execution_count": 206,
     "metadata": {},
     "output_type": "execute_result"
    }
   ],
   "source": [
    "lr.score(X_test, y_test)"
   ]
  },
  {
   "cell_type": "code",
   "execution_count": 207,
   "metadata": {},
   "outputs": [
    {
     "data": {
      "text/plain": [
       "-18.74313449830307"
      ]
     },
     "execution_count": 207,
     "metadata": {},
     "output_type": "execute_result"
    }
   ],
   "source": [
    "cross_val_score(lr, X, y, cv=10).mean()"
   ]
  },
  {
   "cell_type": "code",
   "execution_count": 208,
   "metadata": {},
   "outputs": [],
   "source": [
    "# Not good test score or cross val. Linear Regression does terribly. \n",
    "# Next try for individual regions. "
   ]
  },
  {
   "cell_type": "markdown",
   "metadata": {},
   "source": [
    "## Linear Regression Individual Regions"
   ]
  },
  {
   "cell_type": "code",
   "execution_count": 209,
   "metadata": {},
   "outputs": [
    {
     "name": "stdout",
     "output_type": "stream",
     "text": [
      "Anadarko Region train_score_lr: 0.9363749376744117 test_score_lr: 0.6748751092816008 cross_val_score_lr: -5.67324886277433\n",
      "Appalachia Region train_score_lr: 0.9191137204273848 test_score_lr: 0.6217166835603352 cross_val_score_lr: -5.67324886277433\n",
      "Bakken Region train_score_lr: 0.8678112195215714 test_score_lr: 0.6986558870756028 cross_val_score_lr: -5.67324886277433\n",
      "Eagle Ford Region train_score_lr: 0.7800431274381919 test_score_lr: -1.3345465237748777 cross_val_score_lr: -5.67324886277433\n",
      "Haynesville Region train_score_lr: 0.9086195373230165 test_score_lr: 0.3727300220514495 cross_val_score_lr: -5.67324886277433\n",
      "Niobrara Region train_score_lr: 0.9680902591669558 test_score_lr: -0.7017268421349283 cross_val_score_lr: -5.67324886277433\n",
      "Permian Region train_score_lr: 0.9923873091090426 test_score_lr: 0.9682094672052732 cross_val_score_lr: -5.67324886277433\n"
     ]
    }
   ],
   "source": [
    "region_lr_dict = {}\n",
    "for region in region_list:\n",
    "    df_select = df[df['region'] == region]\n",
    "\n",
    "    X_lr = df_select.drop(columns=[\n",
    "        'oil_bbl_d_total_production',\n",
    "        'latest_day_in_month',\n",
    "        'last_day_of_month',\n",
    "        'first_day_of_month',\n",
    "        'year_month',\n",
    "    ])\n",
    "\n",
    "    X_lr = pd.get_dummies(X_lr)\n",
    "\n",
    "    y_lr = df_select['oil_bbl_d_total_production']\n",
    "\n",
    "    X_train_lr, X_test_lr, y_train_lr, y_test_lr = train_test_split(\n",
    "        X_lr, \n",
    "        y_lr, \n",
    "        random_state=42, \n",
    "        test_size=0.25,\n",
    "    )\n",
    "\n",
    "    lr = LinearRegression()\n",
    "    lr.fit(X_train_lr, y_train_lr);\n",
    "\n",
    "    train_score_lr = lr.score(X_train_lr, y_train_lr)\n",
    "\n",
    "    test_score_lr = lr.score(X_test_lr, y_test_lr)\n",
    "    \n",
    "    cross_val_score_lr = cross_val_score(lr, X, y, cv=3).mean()\n",
    "    \n",
    "    region_lr_dict[region] = {\n",
    "        \"train_score_lr\": train_score_lr,\n",
    "        \"test_score_lr\": test_score_lr,\n",
    "        \"cross_val_score_lr\": cross_val_score_lr,\n",
    "        \"model\": lr,\n",
    "    }\n",
    "    \n",
    "    print(\n",
    "        region,\n",
    "        \"train_score_lr:\", train_score_lr,\n",
    "        \"test_score_lr:\", test_score_lr,\n",
    "        \"cross_val_score_lr:\", cross_val_score_lr,\n",
    "    ) "
   ]
  },
  {
   "cell_type": "code",
   "execution_count": 210,
   "metadata": {},
   "outputs": [],
   "source": [
    "# These scores are not great either. Perhaps Tree-based. "
   ]
  },
  {
   "cell_type": "markdown",
   "metadata": {},
   "source": [
    "## Random Forest"
   ]
  },
  {
   "cell_type": "code",
   "execution_count": 211,
   "metadata": {},
   "outputs": [],
   "source": [
    "rf = RandomForestRegressor(n_estimators=500, random_state=42)\n",
    "rf.fit(X_train, y_train);"
   ]
  },
  {
   "cell_type": "code",
   "execution_count": 212,
   "metadata": {},
   "outputs": [
    {
     "data": {
      "text/plain": [
       "0.9988596379775738"
      ]
     },
     "execution_count": 212,
     "metadata": {},
     "output_type": "execute_result"
    }
   ],
   "source": [
    "rf.score(X_train, y_train)"
   ]
  },
  {
   "cell_type": "code",
   "execution_count": 213,
   "metadata": {},
   "outputs": [
    {
     "data": {
      "text/plain": [
       "0.9947515048964083"
      ]
     },
     "execution_count": 213,
     "metadata": {},
     "output_type": "execute_result"
    }
   ],
   "source": [
    "rf.score(X_test, y_test)"
   ]
  },
  {
   "cell_type": "code",
   "execution_count": null,
   "metadata": {},
   "outputs": [],
   "source": [
    "cross_val_score(rf, X, y, cv=10).mean()"
   ]
  },
  {
   "cell_type": "code",
   "execution_count": null,
   "metadata": {},
   "outputs": [],
   "source": [
    "important_features = pd.Series(data=rf.feature_importances_,index=X.columns)\n",
    "important_features.sort_values(ascending=False,inplace=True)\n",
    "important_features.head(20)"
   ]
  },
  {
   "cell_type": "markdown",
   "metadata": {},
   "source": [
    "## Extra Trees"
   ]
  },
  {
   "cell_type": "code",
   "execution_count": null,
   "metadata": {},
   "outputs": [],
   "source": [
    "et = ExtraTreesRegressor(random_state=42, n_estimators=500)\n",
    "et.fit(X_train, y_train);"
   ]
  },
  {
   "cell_type": "code",
   "execution_count": null,
   "metadata": {},
   "outputs": [],
   "source": [
    "et.score(X_train, y_train)"
   ]
  },
  {
   "cell_type": "code",
   "execution_count": null,
   "metadata": {},
   "outputs": [],
   "source": [
    "et.score(X_test, y_test)"
   ]
  },
  {
   "cell_type": "code",
   "execution_count": null,
   "metadata": {},
   "outputs": [],
   "source": [
    "cross_val_score(et, X, y, cv=10).mean()"
   ]
  },
  {
   "cell_type": "code",
   "execution_count": null,
   "metadata": {},
   "outputs": [],
   "source": [
    "important_features = pd.Series(data=et.feature_importances_,index=X.columns)\n",
    "important_features.sort_values(ascending=False,inplace=True)\n",
    "important_features.head(20)"
   ]
  },
  {
   "cell_type": "code",
   "execution_count": null,
   "metadata": {},
   "outputs": [],
   "source": [
    "y_train.shape"
   ]
  },
  {
   "cell_type": "code",
   "execution_count": null,
   "metadata": {},
   "outputs": [],
   "source": [
    "X"
   ]
  },
  {
   "cell_type": "code",
   "execution_count": null,
   "metadata": {},
   "outputs": [],
   "source": [
    "from sklearn.metrics import mean_squared_error\n",
    "\n",
    "from math import sqrt\n",
    "\n",
    "rmse = sqrt(mean_squared_error(y_test, et.predict(X_test)))\n",
    "\n",
    "print(rmse)\n",
    "\n",
    "272245.29239885614 / rmse"
   ]
  },
  {
   "cell_type": "markdown",
   "metadata": {},
   "source": [
    "# Interpreting "
   ]
  },
  {
   "cell_type": "code",
   "execution_count": null,
   "metadata": {},
   "outputs": [],
   "source": [
    "predicted = cross_val_predict(et, X, y, cv=10)"
   ]
  },
  {
   "cell_type": "code",
   "execution_count": null,
   "metadata": {},
   "outputs": [],
   "source": [
    "df['colors'] = df['region'].map(basin_colors_hex)  # adding custom colors column for plots"
   ]
  },
  {
   "cell_type": "code",
   "execution_count": null,
   "metadata": {},
   "outputs": [],
   "source": [
    "color_labels = df['region'].unique()\n",
    "# print(color_labels)\n",
    "# List of RGB triplets\n",
    "rgb_values = sns.color_palette(\"Set2\", 7)\n",
    "\n",
    "# Map label to RGB\n",
    "color_map = dict(zip(color_labels, rgb_values))\n",
    "\n",
    "plt.figure(figsize=(16, 16))\n",
    "# fig, ax = plt.subplots()\n",
    "\n",
    "plt.plot([y.min(), y.max()], [y.min(), y.max()], 'k--', lw=5, color='gray', alpha=0.75)\n",
    "\n",
    "plt.scatter(y, predicted, c=df['colors'], edgecolors='white', s=150, alpha=1, linewidths=0.75)\n",
    "\n",
    "plt.xlabel('Measured', fontsize=16)\n",
    "plt.ylabel('Predicted', fontsize=16)\n",
    "\n",
    "#plt.legend()\n",
    "plt.show();"
   ]
  },
  {
   "cell_type": "code",
   "execution_count": null,
   "metadata": {},
   "outputs": [],
   "source": [
    "resids = y - predicted"
   ]
  },
  {
   "cell_type": "code",
   "execution_count": null,
   "metadata": {},
   "outputs": [],
   "source": [
    "# Normality of residuals assumption\n",
    "plt.figure(figsize=(16, 16))\n",
    "\n",
    "plt.hist(resids, bins=25)\n",
    "plt.axvline(0, color='black');"
   ]
  },
  {
   "cell_type": "code",
   "execution_count": null,
   "metadata": {},
   "outputs": [],
   "source": [
    "plt.figure(figsize=(16, 16))\n",
    "\n",
    "plt.scatter(predicted, resids, edgecolors='black', c=df['colors'])\n",
    "\n",
    "#legend_elements = [Patch(facecolor='orange', edgecolor='r', label='Color Patch')]\n",
    "plt.legend()\n",
    "plt.axhline(0, color='red');"
   ]
  },
  {
   "cell_type": "code",
   "execution_count": null,
   "metadata": {},
   "outputs": [],
   "source": [
    "df['predicted'] = predicted"
   ]
  },
  {
   "cell_type": "code",
   "execution_count": null,
   "metadata": {},
   "outputs": [],
   "source": [
    "#df.set_index('year_month', inplace=True)\n",
    "df.sort_index(inplace=True)  # sort by datetime just to be safe"
   ]
  },
  {
   "cell_type": "code",
   "execution_count": null,
   "metadata": {},
   "outputs": [],
   "source": [
    "def eia_variable_plot(df_in, pred_var, actual_var, legend_loc=2):\n",
    "    fig, ax = plt.subplots(1, 1, figsize=(16, 8))\n",
    "\n",
    "    region_list = list(df_in['region'].unique())\n",
    "    region_list.sort()\n",
    "\n",
    "    for region in region_list:\n",
    "        df_pred = df_in[df_in['region'] == region][['region', pred_var, 'colors']]\n",
    "        df_pred.plot(\n",
    "            label=region,\n",
    "            legend=True,\n",
    "            ax=ax,\n",
    "            color=df_pred['colors'],\n",
    "            linewidth=2.5,\n",
    "            linestyle='dashed',\n",
    "        )\n",
    "        \n",
    "        df_actual = df_in[df_in['region'] == region][['region', actual_var, 'colors']]\n",
    "        df_actual.plot(\n",
    "            label=region,\n",
    "            legend=True,\n",
    "            ax=ax,\n",
    "            color=df_actual['colors'],\n",
    "            linewidth=2.5, \n",
    "        )\n",
    "\n",
    "    fmt = '{x:,.0f}'\n",
    "    # tick = mtick.StrMethodFormatter(fmt)\n",
    "    # ax.yaxis.set_major_formatter(tick) \n",
    "    # ax.yaxis.set_minor_formatter(tick) \n",
    "\n",
    "    ax.set_ylabel(pred_var.replace('_', ' ').upper())\n",
    "    ax.set_xlabel(\"MONTHLY EIA REPORTS\")\n",
    "    \n",
    "    plt.legend(\n",
    "        title='REGIONS', \n",
    "        loc=legend_loc, \n",
    "        shadow=True, \n",
    "        facecolor='white', \n",
    "        labels=[val for val in region_list for _ in (0, 1)],  #region_list,\n",
    "    )\n",
    "    plt.title(pred_var.replace('_', ' ').upper())\n",
    "    \n",
    "    plt.savefig(f'../images/eia_report_{pred_var}.png', dpi=300)\n",
    "    plt.show();"
   ]
  },
  {
   "cell_type": "code",
   "execution_count": null,
   "metadata": {},
   "outputs": [],
   "source": [
    "pred_var = 'predicted'\n",
    "actual_var = 'oil_bbl_d_total_production'\n",
    "eia_variable_plot(df, pred_var, actual_var)"
   ]
  },
  {
   "cell_type": "code",
   "execution_count": null,
   "metadata": {},
   "outputs": [],
   "source": [
    "pred_var = 'predicted'\n",
    "actual_var = 'oil_bbl_d_total_production'\n",
    "eia_variable_plot(df[df['region'] == 'Anadarko Region'], pred_var, actual_var)"
   ]
  },
  {
   "cell_type": "code",
   "execution_count": null,
   "metadata": {},
   "outputs": [],
   "source": [
    "eia_variable_plot(df[df['region'] == 'Appalachia Region'], pred_var, actual_var)"
   ]
  },
  {
   "cell_type": "code",
   "execution_count": null,
   "metadata": {},
   "outputs": [],
   "source": [
    "eia_variable_plot(df[df['region'] == \"Bakken Region\"], pred_var, actual_var)"
   ]
  },
  {
   "cell_type": "code",
   "execution_count": null,
   "metadata": {},
   "outputs": [],
   "source": [
    "eia_variable_plot(df[df['region'] == \"Eagle Ford Region\"], pred_var, actual_var)"
   ]
  },
  {
   "cell_type": "code",
   "execution_count": null,
   "metadata": {},
   "outputs": [],
   "source": [
    "eia_variable_plot(df[df['region'] == \"Haynesville Region\"], pred_var, actual_var)\n"
   ]
  },
  {
   "cell_type": "code",
   "execution_count": null,
   "metadata": {},
   "outputs": [],
   "source": [
    "eia_variable_plot(df[df['region'] == \"Niobrara Region\"], pred_var, actual_var)\n"
   ]
  },
  {
   "cell_type": "code",
   "execution_count": null,
   "metadata": {},
   "outputs": [],
   "source": [
    "eia_variable_plot(df[df['region'] == \"Permian Region\"], pred_var, actual_var)"
   ]
  },
  {
   "cell_type": "code",
   "execution_count": null,
   "metadata": {},
   "outputs": [],
   "source": []
  },
  {
   "cell_type": "code",
   "execution_count": null,
   "metadata": {},
   "outputs": [],
   "source": [
    "\n",
    "#eia_variable_plot(df, var)"
   ]
  },
  {
   "cell_type": "code",
   "execution_count": null,
   "metadata": {},
   "outputs": [],
   "source": [
    "plt.figsize=(20, 10)\n",
    "\n",
    "df[df['region'] == 'Permian Region'][['obs_day_cnt_sum_over_pct_month_completed']].plot()\n",
    "df[df['region'] == 'Permian Region'][['predicted']].plot()\n",
    "df[df['region'] == 'Permian Region'][['oil_bbl_d_total_production']].plot()"
   ]
  },
  {
   "cell_type": "code",
   "execution_count": null,
   "metadata": {},
   "outputs": [],
   "source": [
    "plt.figsize=(20, 10)\n",
    "\n",
    "df[df['region'] == 'Bakken Region'][['obs_day_cnt_sum_over_pct_month_completed']].plot()\n",
    "#df[df['region'] == 'Bakken Region'][['predicted']].plot()\n",
    "df[df['region'] == 'Bakken Region'][['oil_bbl_d_total_production']].plot()"
   ]
  },
  {
   "cell_type": "code",
   "execution_count": null,
   "metadata": {},
   "outputs": [],
   "source": [
    "df[df['region'] == 'Bakken Region'][['obs_day_cnt_sum_over_pct_month_completed']].rolling(6).mean().plot()\n",
    "df[df['region'] == 'Bakken Region'][['obs_day_cnt_sum_over_pct_month_completed']].rolling(3).mean().plot()\n",
    "\n",
    "df[df['region'] == 'Bakken Region'][['obs_day_cnt_sum_over_pct_month_completed']].plot()"
   ]
  },
  {
   "cell_type": "code",
   "execution_count": null,
   "metadata": {},
   "outputs": [],
   "source": []
  },
  {
   "cell_type": "code",
   "execution_count": null,
   "metadata": {},
   "outputs": [],
   "source": []
  },
  {
   "cell_type": "code",
   "execution_count": null,
   "metadata": {},
   "outputs": [],
   "source": []
  },
  {
   "cell_type": "code",
   "execution_count": null,
   "metadata": {},
   "outputs": [],
   "source": []
  }
 ],
 "metadata": {
  "kernelspec": {
   "display_name": "Python 3",
   "language": "python",
   "name": "python3"
  },
  "language_info": {
   "codemirror_mode": {
    "name": "ipython",
    "version": 3
   },
   "file_extension": ".py",
   "mimetype": "text/x-python",
   "name": "python",
   "nbconvert_exporter": "python",
   "pygments_lexer": "ipython3",
   "version": "3.7.4"
  },
  "toc": {
   "base_numbering": 1,
   "nav_menu": {},
   "number_sections": false,
   "sideBar": true,
   "skip_h1_title": false,
   "title_cell": "Table of Contents",
   "title_sidebar": "Contents",
   "toc_cell": true,
   "toc_position": {
    "height": "calc(100% - 180px)",
    "left": "10px",
    "top": "150px",
    "width": "165px"
   },
   "toc_section_display": true,
   "toc_window_display": true
  },
  "toc-showcode": false
 },
 "nbformat": 4,
 "nbformat_minor": 4
}
