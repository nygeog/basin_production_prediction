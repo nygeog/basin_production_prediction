{
 "cells": [
  {
   "cell_type": "markdown",
   "metadata": {},
   "source": [
    "# Results and Conclusion\n",
    "\n",
    "---"
   ]
  },
  {
   "cell_type": "markdown",
   "metadata": {
    "toc": true
   },
   "source": [
    "<h1>Table of Contents<span class=\"tocSkip\"></span></h1>\n",
    "<div class=\"toc\"><ul class=\"toc-item\"><li><span><a href=\"#Results-and-Conclusion\" data-toc-modified-id=\"Results-and-Conclusion-1\">Results and Conclusion</a></span><ul class=\"toc-item\"><li><span><a href=\"#Recommendations\" data-toc-modified-id=\"Recommendations-1.1\">Recommendations</a></span><ul class=\"toc-item\"><li><span><a href=\"#Additional-Data-Sources\" data-toc-modified-id=\"Additional-Data-Sources-1.1.1\">Additional Data Sources</a></span></li></ul></li></ul></li></ul></div>"
   ]
  },
  {
   "cell_type": "code",
   "execution_count": 1,
   "metadata": {},
   "outputs": [],
   "source": [
    "# Create a map or plots for each Basin"
   ]
  },
  {
   "cell_type": "markdown",
   "metadata": {},
   "source": [
    "## Recommendations\n",
    "\n",
    "Due to time, organizational and reportin restrictions, the scope of this project has some limitations set by certain timeline and oversight by General Assembly and our instructions.\n",
    "\n",
    "\n",
    "### Additional Data Sources\n",
    "\n",
    "One such area for potential improvement or additional insights would be to include more \n",
    "\n",
    "* Baker Hughes North American Rig Counts - this data tracks monthly rig counts, this would be beneficial for inclusion for an additional perspective on rigs and the types of rigs. \n",
    "  * https://rigcount.bakerhughes.com/na-rig-count\n",
    "\n",
    "\n",
    "* Other data sources from US Energy Information Administration (EIA) - no specific data identified but worth exploring. \n",
    "  * https://www.eia.gov/maps/maps.htm\n",
    "\n"
   ]
  }
 ],
 "metadata": {
  "kernelspec": {
   "display_name": "Python 3",
   "language": "python",
   "name": "python3"
  },
  "language_info": {
   "codemirror_mode": {
    "name": "ipython",
    "version": 3
   },
   "file_extension": ".py",
   "mimetype": "text/x-python",
   "name": "python",
   "nbconvert_exporter": "python",
   "pygments_lexer": "ipython3",
   "version": "3.7.4"
  },
  "toc": {
   "base_numbering": 1,
   "nav_menu": {},
   "number_sections": false,
   "sideBar": true,
   "skip_h1_title": false,
   "title_cell": "Table of Contents",
   "title_sidebar": "Contents",
   "toc_cell": true,
   "toc_position": {
    "height": "calc(100% - 180px)",
    "left": "10px",
    "top": "150px",
    "width": "165px"
   },
   "toc_section_display": true,
   "toc_window_display": true
  }
 },
 "nbformat": 4,
 "nbformat_minor": 4
}
