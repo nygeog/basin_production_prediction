{
 "cells": [
  {
   "cell_type": "code",
   "execution_count": 8,
   "metadata": {},
   "outputs": [],
   "source": [
    "import pandas as pd\n",
    "import geopandas as gpd"
   ]
  },
  {
   "cell_type": "code",
   "execution_count": 7,
   "metadata": {},
   "outputs": [
    {
     "data": {
      "text/html": [
       "<div>\n",
       "<style scoped>\n",
       "    .dataframe tbody tr th:only-of-type {\n",
       "        vertical-align: middle;\n",
       "    }\n",
       "\n",
       "    .dataframe tbody tr th {\n",
       "        vertical-align: top;\n",
       "    }\n",
       "\n",
       "    .dataframe thead th {\n",
       "        text-align: right;\n",
       "    }\n",
       "</style>\n",
       "<table border=\"1\" class=\"dataframe\">\n",
       "  <thead>\n",
       "    <tr style=\"text-align: right;\">\n",
       "      <th></th>\n",
       "      <th>id</th>\n",
       "      <th>id_Key</th>\n",
       "      <th>Date_Proc</th>\n",
       "      <th>Lat_GMTCO</th>\n",
       "      <th>Lon_GMTCO</th>\n",
       "      <th>Date_Mscan</th>\n",
       "      <th>Date_LTZ</th>\n",
       "      <th>Temp_BB</th>\n",
       "      <th>Temp_Bkg</th>\n",
       "      <th>ESF_BB</th>\n",
       "      <th>...</th>\n",
       "      <th>Cloud_Mask</th>\n",
       "      <th>QF_Fit</th>\n",
       "      <th>QF_Detect</th>\n",
       "      <th>Sample_M10</th>\n",
       "      <th>Line_M10</th>\n",
       "      <th>Sample_DNB</th>\n",
       "      <th>Line_DNB</th>\n",
       "      <th>File_M10</th>\n",
       "      <th>File_DNB</th>\n",
       "      <th>Source_ID</th>\n",
       "    </tr>\n",
       "  </thead>\n",
       "  <tbody>\n",
       "    <tr>\n",
       "      <th>0</th>\n",
       "      <td>2</td>\n",
       "      <td>x1000966E_y503894N_l0030_s0792_v30</td>\n",
       "      <td>2017/12/05 11:45:51</td>\n",
       "      <td>50.389370</td>\n",
       "      <td>100.096634</td>\n",
       "      <td>2017/12/01 18:46:02.701</td>\n",
       "      <td>2017-12-02 02:46:02.701</td>\n",
       "      <td>967</td>\n",
       "      <td>249</td>\n",
       "      <td>0.000018</td>\n",
       "      <td>...</td>\n",
       "      <td>0</td>\n",
       "      <td>34</td>\n",
       "      <td>12848</td>\n",
       "      <td>792</td>\n",
       "      <td>30</td>\n",
       "      <td>1078</td>\n",
       "      <td>32</td>\n",
       "      <td>SVM10_npp_d20171201_t1846006_e1847248_b31587_c...</td>\n",
       "      <td>SVDNB_npp_d20171201_t1846006_e1847248_b31587_c...</td>\n",
       "      <td>NaN</td>\n",
       "    </tr>\n",
       "    <tr>\n",
       "      <th>1</th>\n",
       "      <td>3</td>\n",
       "      <td>x1001052E_y503926N_l0034_s0793_v30</td>\n",
       "      <td>2017/12/05 11:45:51</td>\n",
       "      <td>50.392555</td>\n",
       "      <td>100.105202</td>\n",
       "      <td>2017/12/01 18:46:04.480</td>\n",
       "      <td>2017-12-02 02:46:04.480</td>\n",
       "      <td>1016</td>\n",
       "      <td>249</td>\n",
       "      <td>0.000015</td>\n",
       "      <td>...</td>\n",
       "      <td>999999</td>\n",
       "      <td>34</td>\n",
       "      <td>13872</td>\n",
       "      <td>793</td>\n",
       "      <td>34</td>\n",
       "      <td>1079</td>\n",
       "      <td>31</td>\n",
       "      <td>SVM10_npp_d20171201_t1846006_e1847248_b31587_c...</td>\n",
       "      <td>SVDNB_npp_d20171201_t1846006_e1847248_b31587_c...</td>\n",
       "      <td>NaN</td>\n",
       "    </tr>\n",
       "    <tr>\n",
       "      <th>2</th>\n",
       "      <td>12</td>\n",
       "      <td>x1191472E_y459453N_l0238_s2461_v30</td>\n",
       "      <td>2017/12/05 11:45:51</td>\n",
       "      <td>45.945339</td>\n",
       "      <td>119.147217</td>\n",
       "      <td>2017/12/01 18:46:25.832</td>\n",
       "      <td>2017-12-02 02:46:25.832</td>\n",
       "      <td>986</td>\n",
       "      <td>249</td>\n",
       "      <td>0.000092</td>\n",
       "      <td>...</td>\n",
       "      <td>0</td>\n",
       "      <td>34</td>\n",
       "      <td>16241</td>\n",
       "      <td>2461</td>\n",
       "      <td>238</td>\n",
       "      <td>3063</td>\n",
       "      <td>240</td>\n",
       "      <td>SVM10_npp_d20171201_t1846006_e1847248_b31587_c...</td>\n",
       "      <td>SVDNB_npp_d20171201_t1846006_e1847248_b31587_c...</td>\n",
       "      <td>NaN</td>\n",
       "    </tr>\n",
       "  </tbody>\n",
       "</table>\n",
       "<p>3 rows × 26 columns</p>\n",
       "</div>"
      ],
      "text/plain": [
       "   id                              id_Key            Date_Proc  Lat_GMTCO  \\\n",
       "0   2  x1000966E_y503894N_l0030_s0792_v30  2017/12/05 11:45:51  50.389370   \n",
       "1   3  x1001052E_y503926N_l0034_s0793_v30  2017/12/05 11:45:51  50.392555   \n",
       "2  12  x1191472E_y459453N_l0238_s2461_v30  2017/12/05 11:45:51  45.945339   \n",
       "\n",
       "    Lon_GMTCO               Date_Mscan                 Date_LTZ  Temp_BB  \\\n",
       "0  100.096634  2017/12/01 18:46:02.701  2017-12-02 02:46:02.701      967   \n",
       "1  100.105202  2017/12/01 18:46:04.480  2017-12-02 02:46:04.480     1016   \n",
       "2  119.147217  2017/12/01 18:46:25.832  2017-12-02 02:46:25.832      986   \n",
       "\n",
       "   Temp_Bkg    ESF_BB  ...  Cloud_Mask  QF_Fit  QF_Detect  Sample_M10  \\\n",
       "0       249  0.000018  ...           0      34      12848         792   \n",
       "1       249  0.000015  ...      999999      34      13872         793   \n",
       "2       249  0.000092  ...           0      34      16241        2461   \n",
       "\n",
       "   Line_M10  Sample_DNB  Line_DNB  \\\n",
       "0        30        1078        32   \n",
       "1        34        1079        31   \n",
       "2       238        3063       240   \n",
       "\n",
       "                                            File_M10  \\\n",
       "0  SVM10_npp_d20171201_t1846006_e1847248_b31587_c...   \n",
       "1  SVM10_npp_d20171201_t1846006_e1847248_b31587_c...   \n",
       "2  SVM10_npp_d20171201_t1846006_e1847248_b31587_c...   \n",
       "\n",
       "                                            File_DNB  Source_ID  \n",
       "0  SVDNB_npp_d20171201_t1846006_e1847248_b31587_c...        NaN  \n",
       "1  SVDNB_npp_d20171201_t1846006_e1847248_b31587_c...        NaN  \n",
       "2  SVDNB_npp_d20171201_t1846006_e1847248_b31587_c...        NaN  \n",
       "\n",
       "[3 rows x 26 columns]"
      ]
     },
     "execution_count": 7,
     "metadata": {},
     "output_type": "execute_result"
    }
   ],
   "source": [
    "df = pd.read_csv('../data/input/viirs/VNF_npp_d20171201_noaa_v30-ez.csv')\n",
    "\n",
    "df.head(3)"
   ]
  },
  {
   "cell_type": "code",
   "execution_count": 10,
   "metadata": {},
   "outputs": [
    {
     "data": {
      "text/plain": [
       "<matplotlib.axes._subplots.AxesSubplot at 0x11f2c5710>"
      ]
     },
     "execution_count": 10,
     "metadata": {},
     "output_type": "execute_result"
    },
    {
     "data": {
      "image/png": "[encoded data removed]",
      "text/plain": [
       "<Figure size 432x288 with 1 Axes>"
      ]
     },
     "metadata": {
      "needs_background": "light"
     },
     "output_type": "display_data"
    }
   ],
   "source": [
    "census = gpd.read_file('../data/input/census/tl_2017_us_county.shp')\n",
    "\n",
    "census.plot()"
   ]
  },
  {
   "cell_type": "code",
   "execution_count": null,
   "metadata": {},
   "outputs": [],
   "source": []
  }
 ],
 "metadata": {
  "kernelspec": {
   "display_name": "Python [conda env:dsi] *",
   "language": "python",
   "name": "conda-env-dsi-py"
  },
  "language_info": {
   "codemirror_mode": {
    "name": "ipython",
    "version": 3
   },
   "file_extension": ".py",
   "mimetype": "text/x-python",
   "name": "python",
   "nbconvert_exporter": "python",
   "pygments_lexer": "ipython3",
   "version": "3.7.5"
  },
  "toc": {
   "base_numbering": 1,
   "nav_menu": {},
   "number_sections": true,
   "sideBar": true,
   "skip_h1_title": false,
   "title_cell": "Table of Contents",
   "title_sidebar": "Contents",
   "toc_cell": false,
   "toc_position": {},
   "toc_section_display": true,
   "toc_window_display": false
  }
 },
 "nbformat": 4,
 "nbformat_minor": 1
}
