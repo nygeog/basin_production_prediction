{
 "cells": [
  {
   "cell_type": "markdown",
   "metadata": {},
   "source": [
    "# Exploratory Data Analysis "
   ]
  },
  {
   "cell_type": "code",
   "execution_count": 8,
   "metadata": {},
   "outputs": [],
   "source": [
    "import pandas as pd\n",
    "import geopandas as gpd\n",
    "import numpy as np\n",
    "from shapely.geometry import Point\n",
    "import us\n",
    "import seaborn as sns"
   ]
  },
  {
   "cell_type": "code",
   "execution_count": 9,
   "metadata": {},
   "outputs": [
    {
     "data": {
      "text/plain": [
       "'/Users/danielmsheehan/general_assembly/github/projects/project_6/capstone/notebooks'"
      ]
     },
     "execution_count": 9,
     "metadata": {},
     "output_type": "execute_result"
    }
   ],
   "source": [
    "import os\n",
    "os.getcwd()\n"
   ]
  },
  {
   "cell_type": "markdown",
   "metadata": {},
   "source": [
    "## Global Gas Flaring Estimates — Remotely Sensed VIIRS Nightfire Combustion\n",
    "\n"
   ]
  },
  {
   "cell_type": "code",
   "execution_count": 63,
   "metadata": {},
   "outputs": [
    {
     "data": {
      "text/html": [
       "<div>\n",
       "<style scoped>\n",
       "    .dataframe tbody tr th:only-of-type {\n",
       "        vertical-align: middle;\n",
       "    }\n",
       "\n",
       "    .dataframe tbody tr th {\n",
       "        vertical-align: top;\n",
       "    }\n",
       "\n",
       "    .dataframe thead th {\n",
       "        text-align: right;\n",
       "    }\n",
       "</style>\n",
       "<table border=\"1\" class=\"dataframe\">\n",
       "  <thead>\n",
       "    <tr style=\"text-align: right;\">\n",
       "      <th></th>\n",
       "      <th>id</th>\n",
       "      <th>id_key</th>\n",
       "      <th>date_proc</th>\n",
       "      <th>lat_gmtco</th>\n",
       "      <th>lon_gmtco</th>\n",
       "      <th>date_mscan</th>\n",
       "      <th>date_ltz</th>\n",
       "      <th>temp_bb</th>\n",
       "      <th>temp_bkg</th>\n",
       "      <th>esf_bb</th>\n",
       "      <th>...</th>\n",
       "      <th>cloud_mask</th>\n",
       "      <th>qf_fit</th>\n",
       "      <th>qf_detect</th>\n",
       "      <th>sample_m10</th>\n",
       "      <th>line_m10</th>\n",
       "      <th>sample_dnb</th>\n",
       "      <th>line_dnb</th>\n",
       "      <th>file_m10</th>\n",
       "      <th>file_dnb</th>\n",
       "      <th>source_id</th>\n",
       "    </tr>\n",
       "  </thead>\n",
       "  <tbody>\n",
       "    <tr>\n",
       "      <th>0</th>\n",
       "      <td>2</td>\n",
       "      <td>x0279708E_y454359N_l0038_s0267_v30</td>\n",
       "      <td>2020/02/22 19:56:44</td>\n",
       "      <td>45.435940</td>\n",
       "      <td>27.970837</td>\n",
       "      <td>2020/02/22 23:06:45.073</td>\n",
       "      <td>2020-02-23 01:06:45.073</td>\n",
       "      <td>1106</td>\n",
       "      <td>271</td>\n",
       "      <td>1.071880e-05</td>\n",
       "      <td>...</td>\n",
       "      <td>0</td>\n",
       "      <td>34</td>\n",
       "      <td>439856</td>\n",
       "      <td>267</td>\n",
       "      <td>38</td>\n",
       "      <td>455</td>\n",
       "      <td>36</td>\n",
       "      <td>SVM10_npp_d20200222_t2306412_e2308054_b43124_c...</td>\n",
       "      <td>SVDNB_npp_d20200222_t2306412_e2308054_b43124_c...</td>\n",
       "      <td>NaN</td>\n",
       "    </tr>\n",
       "    <tr>\n",
       "      <th>1</th>\n",
       "      <td>3</td>\n",
       "      <td>x0294098E_y453165N_l0045_s0388_v30</td>\n",
       "      <td>2020/02/22 19:56:44</td>\n",
       "      <td>45.316528</td>\n",
       "      <td>29.409781</td>\n",
       "      <td>2020/02/22 23:06:45.073</td>\n",
       "      <td>2020-02-23 01:06:45.073</td>\n",
       "      <td>1280</td>\n",
       "      <td>272</td>\n",
       "      <td>5.967420e-05</td>\n",
       "      <td>...</td>\n",
       "      <td>0</td>\n",
       "      <td>34</td>\n",
       "      <td>442363</td>\n",
       "      <td>388</td>\n",
       "      <td>45</td>\n",
       "      <td>602</td>\n",
       "      <td>48</td>\n",
       "      <td>SVM10_npp_d20200222_t2306412_e2308054_b43124_c...</td>\n",
       "      <td>SVDNB_npp_d20200222_t2306412_e2308054_b43124_c...</td>\n",
       "      <td>NaN</td>\n",
       "    </tr>\n",
       "    <tr>\n",
       "      <th>2</th>\n",
       "      <td>9</td>\n",
       "      <td>x0294162E_y453154N_l0052_s0389_v30</td>\n",
       "      <td>2020/02/22 19:56:44</td>\n",
       "      <td>45.315372</td>\n",
       "      <td>29.416176</td>\n",
       "      <td>2020/02/22 23:06:46.852</td>\n",
       "      <td>2020-02-23 01:06:46.852</td>\n",
       "      <td>1341</td>\n",
       "      <td>273</td>\n",
       "      <td>7.602250e-05</td>\n",
       "      <td>...</td>\n",
       "      <td>0</td>\n",
       "      <td>34</td>\n",
       "      <td>507775</td>\n",
       "      <td>389</td>\n",
       "      <td>52</td>\n",
       "      <td>603</td>\n",
       "      <td>48</td>\n",
       "      <td>SVM10_npp_d20200222_t2306412_e2308054_b43124_c...</td>\n",
       "      <td>SVDNB_npp_d20200222_t2306412_e2308054_b43124_c...</td>\n",
       "      <td>NaN</td>\n",
       "    </tr>\n",
       "    <tr>\n",
       "      <th>3</th>\n",
       "      <td>13</td>\n",
       "      <td>x0290613E_y452111N_l0062_s0358_v30</td>\n",
       "      <td>2020/02/22 19:56:44</td>\n",
       "      <td>45.211079</td>\n",
       "      <td>29.061270</td>\n",
       "      <td>2020/02/22 23:06:46.852</td>\n",
       "      <td>2020-02-23 01:06:46.852</td>\n",
       "      <td>1429</td>\n",
       "      <td>269</td>\n",
       "      <td>4.331870e-06</td>\n",
       "      <td>...</td>\n",
       "      <td>0</td>\n",
       "      <td>34</td>\n",
       "      <td>375667</td>\n",
       "      <td>358</td>\n",
       "      <td>62</td>\n",
       "      <td>568</td>\n",
       "      <td>67</td>\n",
       "      <td>SVM10_npp_d20200222_t2306412_e2308054_b43124_c...</td>\n",
       "      <td>SVDNB_npp_d20200222_t2306412_e2308054_b43124_c...</td>\n",
       "      <td>NaN</td>\n",
       "    </tr>\n",
       "    <tr>\n",
       "      <th>4</th>\n",
       "      <td>14</td>\n",
       "      <td>x0290551E_y452114N_l0069_s0358_v30</td>\n",
       "      <td>2020/02/22 19:56:44</td>\n",
       "      <td>45.211395</td>\n",
       "      <td>29.055119</td>\n",
       "      <td>2020/02/22 23:06:48.632</td>\n",
       "      <td>2020-02-23 01:06:48.632</td>\n",
       "      <td>1294</td>\n",
       "      <td>269</td>\n",
       "      <td>9.670350e-06</td>\n",
       "      <td>...</td>\n",
       "      <td>0</td>\n",
       "      <td>34</td>\n",
       "      <td>507763</td>\n",
       "      <td>358</td>\n",
       "      <td>69</td>\n",
       "      <td>568</td>\n",
       "      <td>67</td>\n",
       "      <td>SVM10_npp_d20200222_t2306412_e2308054_b43124_c...</td>\n",
       "      <td>SVDNB_npp_d20200222_t2306412_e2308054_b43124_c...</td>\n",
       "      <td>NaN</td>\n",
       "    </tr>\n",
       "    <tr>\n",
       "      <th>5</th>\n",
       "      <td>16</td>\n",
       "      <td>x0410357E_y441896N_l0069_s1405_v30</td>\n",
       "      <td>2020/02/22 19:56:44</td>\n",
       "      <td>44.189610</td>\n",
       "      <td>41.035664</td>\n",
       "      <td>2020/02/22 23:06:48.632</td>\n",
       "      <td>2020-02-23 02:06:48.632</td>\n",
       "      <td>1453</td>\n",
       "      <td>999999</td>\n",
       "      <td>2.125170e-06</td>\n",
       "      <td>...</td>\n",
       "      <td>1</td>\n",
       "      <td>1</td>\n",
       "      <td>375105</td>\n",
       "      <td>1405</td>\n",
       "      <td>69</td>\n",
       "      <td>1829</td>\n",
       "      <td>69</td>\n",
       "      <td>SVM10_npp_d20200222_t2306412_e2308054_b43124_c...</td>\n",
       "      <td>SVDNB_npp_d20200222_t2306412_e2308054_b43124_c...</td>\n",
       "      <td>NaN</td>\n",
       "    </tr>\n",
       "    <tr>\n",
       "      <th>6</th>\n",
       "      <td>17</td>\n",
       "      <td>x0410459E_y441882N_l0069_s1406_v30</td>\n",
       "      <td>2020/02/22 19:56:44</td>\n",
       "      <td>44.188183</td>\n",
       "      <td>41.045853</td>\n",
       "      <td>2020/02/22 23:06:48.632</td>\n",
       "      <td>2020-02-23 02:06:48.632</td>\n",
       "      <td>1708</td>\n",
       "      <td>999999</td>\n",
       "      <td>8.464700e-07</td>\n",
       "      <td>...</td>\n",
       "      <td>2</td>\n",
       "      <td>1</td>\n",
       "      <td>366849</td>\n",
       "      <td>1406</td>\n",
       "      <td>69</td>\n",
       "      <td>1830</td>\n",
       "      <td>69</td>\n",
       "      <td>SVM10_npp_d20200222_t2306412_e2308054_b43124_c...</td>\n",
       "      <td>SVDNB_npp_d20200222_t2306412_e2308054_b43124_c...</td>\n",
       "      <td>NaN</td>\n",
       "    </tr>\n",
       "    <tr>\n",
       "      <th>7</th>\n",
       "      <td>18</td>\n",
       "      <td>x0410338E_y441829N_l0070_s1405_v30</td>\n",
       "      <td>2020/02/22 19:56:44</td>\n",
       "      <td>44.182930</td>\n",
       "      <td>41.033760</td>\n",
       "      <td>2020/02/22 23:06:48.632</td>\n",
       "      <td>2020-02-23 02:06:48.632</td>\n",
       "      <td>999999</td>\n",
       "      <td>999999</td>\n",
       "      <td>9.999990e+05</td>\n",
       "      <td>...</td>\n",
       "      <td>1</td>\n",
       "      <td>0</td>\n",
       "      <td>505920</td>\n",
       "      <td>1405</td>\n",
       "      <td>70</td>\n",
       "      <td>1829</td>\n",
       "      <td>70</td>\n",
       "      <td>SVM10_npp_d20200222_t2306412_e2308054_b43124_c...</td>\n",
       "      <td>SVDNB_npp_d20200222_t2306412_e2308054_b43124_c...</td>\n",
       "      <td>NaN</td>\n",
       "    </tr>\n",
       "    <tr>\n",
       "      <th>8</th>\n",
       "      <td>19</td>\n",
       "      <td>x0410439E_y441815N_l0070_s1406_v30</td>\n",
       "      <td>2020/02/22 19:56:44</td>\n",
       "      <td>44.181511</td>\n",
       "      <td>41.043907</td>\n",
       "      <td>2020/02/22 23:06:48.632</td>\n",
       "      <td>2020-02-23 02:06:48.632</td>\n",
       "      <td>999999</td>\n",
       "      <td>999999</td>\n",
       "      <td>9.999990e+05</td>\n",
       "      <td>...</td>\n",
       "      <td>1</td>\n",
       "      <td>0</td>\n",
       "      <td>506432</td>\n",
       "      <td>1406</td>\n",
       "      <td>70</td>\n",
       "      <td>1830</td>\n",
       "      <td>70</td>\n",
       "      <td>SVM10_npp_d20200222_t2306412_e2308054_b43124_c...</td>\n",
       "      <td>SVDNB_npp_d20200222_t2306412_e2308054_b43124_c...</td>\n",
       "      <td>NaN</td>\n",
       "    </tr>\n",
       "    <tr>\n",
       "      <th>9</th>\n",
       "      <td>20</td>\n",
       "      <td>x0294761E_y451745N_l0071_s0396_v30</td>\n",
       "      <td>2020/02/22 19:56:44</td>\n",
       "      <td>45.174454</td>\n",
       "      <td>29.476070</td>\n",
       "      <td>2020/02/22 23:06:48.632</td>\n",
       "      <td>2020-02-23 01:06:48.632</td>\n",
       "      <td>1447</td>\n",
       "      <td>270</td>\n",
       "      <td>3.197710e-06</td>\n",
       "      <td>...</td>\n",
       "      <td>0</td>\n",
       "      <td>34</td>\n",
       "      <td>439920</td>\n",
       "      <td>396</td>\n",
       "      <td>71</td>\n",
       "      <td>611</td>\n",
       "      <td>70</td>\n",
       "      <td>SVM10_npp_d20200222_t2306412_e2308054_b43124_c...</td>\n",
       "      <td>SVDNB_npp_d20200222_t2306412_e2308054_b43124_c...</td>\n",
       "      <td>NaN</td>\n",
       "    </tr>\n",
       "    <tr>\n",
       "      <th>10</th>\n",
       "      <td>21</td>\n",
       "      <td>x0584297E_y402533N_l0071_s3066_v30</td>\n",
       "      <td>2020/02/22 19:56:44</td>\n",
       "      <td>40.253315</td>\n",
       "      <td>58.429665</td>\n",
       "      <td>2020/02/22 23:06:48.632</td>\n",
       "      <td>2020-02-23 04:06:48.632</td>\n",
       "      <td>999999</td>\n",
       "      <td>999999</td>\n",
       "      <td>9.999990e+05</td>\n",
       "      <td>...</td>\n",
       "      <td>1</td>\n",
       "      <td>0</td>\n",
       "      <td>375040</td>\n",
       "      <td>3066</td>\n",
       "      <td>71</td>\n",
       "      <td>3814</td>\n",
       "      <td>70</td>\n",
       "      <td>SVM10_npp_d20200222_t2306412_e2308054_b43124_c...</td>\n",
       "      <td>SVDNB_npp_d20200222_t2306412_e2308054_b43124_c...</td>\n",
       "      <td>NaN</td>\n",
       "    </tr>\n",
       "    <tr>\n",
       "      <th>11</th>\n",
       "      <td>22</td>\n",
       "      <td>x0584434E_y402489N_l0071_s3067_v30</td>\n",
       "      <td>2020/02/22 19:56:44</td>\n",
       "      <td>40.248928</td>\n",
       "      <td>58.443443</td>\n",
       "      <td>2020/02/22 23:06:48.632</td>\n",
       "      <td>2020-02-23 04:06:48.632</td>\n",
       "      <td>1286</td>\n",
       "      <td>272</td>\n",
       "      <td>6.064410e-06</td>\n",
       "      <td>...</td>\n",
       "      <td>0</td>\n",
       "      <td>34</td>\n",
       "      <td>507760</td>\n",
       "      <td>3067</td>\n",
       "      <td>71</td>\n",
       "      <td>3815</td>\n",
       "      <td>70</td>\n",
       "      <td>SVM10_npp_d20200222_t2306412_e2308054_b43124_c...</td>\n",
       "      <td>SVDNB_npp_d20200222_t2306412_e2308054_b43124_c...</td>\n",
       "      <td>NaN</td>\n",
       "    </tr>\n",
       "    <tr>\n",
       "      <th>12</th>\n",
       "      <td>23</td>\n",
       "      <td>x0294201E_y450723N_l0087_s0392_v30</td>\n",
       "      <td>2020/02/22 19:56:44</td>\n",
       "      <td>45.072308</td>\n",
       "      <td>29.420090</td>\n",
       "      <td>2020/02/22 23:06:50.411</td>\n",
       "      <td>2020-02-23 01:06:50.411</td>\n",
       "      <td>999999</td>\n",
       "      <td>999999</td>\n",
       "      <td>9.999990e+05</td>\n",
       "      <td>...</td>\n",
       "      <td>0</td>\n",
       "      <td>0</td>\n",
       "      <td>426048</td>\n",
       "      <td>392</td>\n",
       "      <td>87</td>\n",
       "      <td>607</td>\n",
       "      <td>86</td>\n",
       "      <td>SVM10_npp_d20200222_t2306412_e2308054_b43124_c...</td>\n",
       "      <td>SVDNB_npp_d20200222_t2306412_e2308054_b43124_c...</td>\n",
       "      <td>NaN</td>\n",
       "    </tr>\n",
       "    <tr>\n",
       "      <th>13</th>\n",
       "      <td>25</td>\n",
       "      <td>x0293848E_y450392N_l0090_s0389_v30</td>\n",
       "      <td>2020/02/22 19:56:44</td>\n",
       "      <td>45.039196</td>\n",
       "      <td>29.384846</td>\n",
       "      <td>2020/02/22 23:06:50.411</td>\n",
       "      <td>2020-02-23 01:06:50.411</td>\n",
       "      <td>1366</td>\n",
       "      <td>268</td>\n",
       "      <td>1.481490e-05</td>\n",
       "      <td>...</td>\n",
       "      <td>0</td>\n",
       "      <td>34</td>\n",
       "      <td>442353</td>\n",
       "      <td>389</td>\n",
       "      <td>90</td>\n",
       "      <td>603</td>\n",
       "      <td>91</td>\n",
       "      <td>SVM10_npp_d20200222_t2306412_e2308054_b43124_c...</td>\n",
       "      <td>SVDNB_npp_d20200222_t2306412_e2308054_b43124_c...</td>\n",
       "      <td>NaN</td>\n",
       "    </tr>\n",
       "    <tr>\n",
       "      <th>14</th>\n",
       "      <td>35</td>\n",
       "      <td>x0293940E_y450161N_l0092_s0390_v30</td>\n",
       "      <td>2020/02/22 19:56:44</td>\n",
       "      <td>45.016060</td>\n",
       "      <td>29.394033</td>\n",
       "      <td>2020/02/22 23:06:50.411</td>\n",
       "      <td>2020-02-23 01:06:50.411</td>\n",
       "      <td>1252</td>\n",
       "      <td>270</td>\n",
       "      <td>2.346000e-04</td>\n",
       "      <td>...</td>\n",
       "      <td>0</td>\n",
       "      <td>34</td>\n",
       "      <td>442367</td>\n",
       "      <td>390</td>\n",
       "      <td>92</td>\n",
       "      <td>604</td>\n",
       "      <td>94</td>\n",
       "      <td>SVM10_npp_d20200222_t2306412_e2308054_b43124_c...</td>\n",
       "      <td>SVDNB_npp_d20200222_t2306412_e2308054_b43124_c...</td>\n",
       "      <td>NaN</td>\n",
       "    </tr>\n",
       "    <tr>\n",
       "      <th>15</th>\n",
       "      <td>49</td>\n",
       "      <td>x0295851E_y448698N_l0118_s0410_v30</td>\n",
       "      <td>2020/02/22 19:56:44</td>\n",
       "      <td>44.869839</td>\n",
       "      <td>29.585142</td>\n",
       "      <td>2020/02/22 23:06:53.970</td>\n",
       "      <td>2020-02-23 01:06:53.970</td>\n",
       "      <td>1368</td>\n",
       "      <td>269</td>\n",
       "      <td>1.424170e-05</td>\n",
       "      <td>...</td>\n",
       "      <td>0</td>\n",
       "      <td>34</td>\n",
       "      <td>442297</td>\n",
       "      <td>410</td>\n",
       "      <td>118</td>\n",
       "      <td>626</td>\n",
       "      <td>116</td>\n",
       "      <td>SVM10_npp_d20200222_t2306412_e2308054_b43124_c...</td>\n",
       "      <td>SVDNB_npp_d20200222_t2306412_e2308054_b43124_c...</td>\n",
       "      <td>NaN</td>\n",
       "    </tr>\n",
       "    <tr>\n",
       "      <th>16</th>\n",
       "      <td>53</td>\n",
       "      <td>x0526206E_y415223N_l0124_s2516_v30</td>\n",
       "      <td>2020/02/22 19:56:44</td>\n",
       "      <td>41.522308</td>\n",
       "      <td>52.620571</td>\n",
       "      <td>2020/02/22 23:06:53.970</td>\n",
       "      <td>2020-02-23 04:06:53.970</td>\n",
       "      <td>1599</td>\n",
       "      <td>999999</td>\n",
       "      <td>1.136840e-06</td>\n",
       "      <td>...</td>\n",
       "      <td>3</td>\n",
       "      <td>1</td>\n",
       "      <td>440641</td>\n",
       "      <td>2516</td>\n",
       "      <td>124</td>\n",
       "      <td>3148</td>\n",
       "      <td>126</td>\n",
       "      <td>SVM10_npp_d20200222_t2306412_e2308054_b43124_c...</td>\n",
       "      <td>SVDNB_npp_d20200222_t2306412_e2308054_b43124_c...</td>\n",
       "      <td>NaN</td>\n",
       "    </tr>\n",
       "    <tr>\n",
       "      <th>17</th>\n",
       "      <td>54</td>\n",
       "      <td>x0434656E_y433099N_l0144_s1677_v30</td>\n",
       "      <td>2020/02/22 19:56:44</td>\n",
       "      <td>43.309872</td>\n",
       "      <td>43.465584</td>\n",
       "      <td>2020/02/22 23:06:55.749</td>\n",
       "      <td>2020-02-23 02:06:55.749</td>\n",
       "      <td>959</td>\n",
       "      <td>252</td>\n",
       "      <td>3.676980e-05</td>\n",
       "      <td>...</td>\n",
       "      <td>3</td>\n",
       "      <td>34</td>\n",
       "      <td>507697</td>\n",
       "      <td>1677</td>\n",
       "      <td>144</td>\n",
       "      <td>2114</td>\n",
       "      <td>144</td>\n",
       "      <td>SVM10_npp_d20200222_t2306412_e2308054_b43124_c...</td>\n",
       "      <td>SVDNB_npp_d20200222_t2306412_e2308054_b43124_c...</td>\n",
       "      <td>NaN</td>\n",
       "    </tr>\n",
       "    <tr>\n",
       "      <th>18</th>\n",
       "      <td>60</td>\n",
       "      <td>x0529453E_y400322N_l0327_s2608_v30</td>\n",
       "      <td>2020/02/22 19:56:44</td>\n",
       "      <td>40.032215</td>\n",
       "      <td>52.945332</td>\n",
       "      <td>2020/02/22 23:07:17.100</td>\n",
       "      <td>2020-02-23 04:07:17.100</td>\n",
       "      <td>999999</td>\n",
       "      <td>999999</td>\n",
       "      <td>9.999990e+05</td>\n",
       "      <td>...</td>\n",
       "      <td>3</td>\n",
       "      <td>0</td>\n",
       "      <td>438848</td>\n",
       "      <td>2608</td>\n",
       "      <td>327</td>\n",
       "      <td>3264</td>\n",
       "      <td>326</td>\n",
       "      <td>SVM10_npp_d20200222_t2306412_e2308054_b43124_c...</td>\n",
       "      <td>SVDNB_npp_d20200222_t2306412_e2308054_b43124_c...</td>\n",
       "      <td>NaN</td>\n",
       "    </tr>\n",
       "    <tr>\n",
       "      <th>19</th>\n",
       "      <td>63</td>\n",
       "      <td>x0537695E_y395189N_l0365_s2727_v30</td>\n",
       "      <td>2020/02/22 19:56:44</td>\n",
       "      <td>39.518929</td>\n",
       "      <td>53.769508</td>\n",
       "      <td>2020/02/22 23:07:20.659</td>\n",
       "      <td>2020-02-23 04:07:20.659</td>\n",
       "      <td>1819</td>\n",
       "      <td>272</td>\n",
       "      <td>2.322970e-06</td>\n",
       "      <td>...</td>\n",
       "      <td>0</td>\n",
       "      <td>34</td>\n",
       "      <td>507697</td>\n",
       "      <td>2727</td>\n",
       "      <td>365</td>\n",
       "      <td>3378</td>\n",
       "      <td>367</td>\n",
       "      <td>SVM10_npp_d20200222_t2306412_e2308054_b43124_c...</td>\n",
       "      <td>SVDNB_npp_d20200222_t2306412_e2308054_b43124_c...</td>\n",
       "      <td>NaN</td>\n",
       "    </tr>\n",
       "  </tbody>\n",
       "</table>\n",
       "<p>20 rows × 26 columns</p>\n",
       "</div>"
      ],
      "text/plain": [
       "    id                              id_key            date_proc  lat_gmtco  \\\n",
       "0    2  x0279708E_y454359N_l0038_s0267_v30  2020/02/22 19:56:44  45.435940   \n",
       "1    3  x0294098E_y453165N_l0045_s0388_v30  2020/02/22 19:56:44  45.316528   \n",
       "2    9  x0294162E_y453154N_l0052_s0389_v30  2020/02/22 19:56:44  45.315372   \n",
       "3   13  x0290613E_y452111N_l0062_s0358_v30  2020/02/22 19:56:44  45.211079   \n",
       "4   14  x0290551E_y452114N_l0069_s0358_v30  2020/02/22 19:56:44  45.211395   \n",
       "5   16  x0410357E_y441896N_l0069_s1405_v30  2020/02/22 19:56:44  44.189610   \n",
       "6   17  x0410459E_y441882N_l0069_s1406_v30  2020/02/22 19:56:44  44.188183   \n",
       "7   18  x0410338E_y441829N_l0070_s1405_v30  2020/02/22 19:56:44  44.182930   \n",
       "8   19  x0410439E_y441815N_l0070_s1406_v30  2020/02/22 19:56:44  44.181511   \n",
       "9   20  x0294761E_y451745N_l0071_s0396_v30  2020/02/22 19:56:44  45.174454   \n",
       "10  21  x0584297E_y402533N_l0071_s3066_v30  2020/02/22 19:56:44  40.253315   \n",
       "11  22  x0584434E_y402489N_l0071_s3067_v30  2020/02/22 19:56:44  40.248928   \n",
       "12  23  x0294201E_y450723N_l0087_s0392_v30  2020/02/22 19:56:44  45.072308   \n",
       "13  25  x0293848E_y450392N_l0090_s0389_v30  2020/02/22 19:56:44  45.039196   \n",
       "14  35  x0293940E_y450161N_l0092_s0390_v30  2020/02/22 19:56:44  45.016060   \n",
       "15  49  x0295851E_y448698N_l0118_s0410_v30  2020/02/22 19:56:44  44.869839   \n",
       "16  53  x0526206E_y415223N_l0124_s2516_v30  2020/02/22 19:56:44  41.522308   \n",
       "17  54  x0434656E_y433099N_l0144_s1677_v30  2020/02/22 19:56:44  43.309872   \n",
       "18  60  x0529453E_y400322N_l0327_s2608_v30  2020/02/22 19:56:44  40.032215   \n",
       "19  63  x0537695E_y395189N_l0365_s2727_v30  2020/02/22 19:56:44  39.518929   \n",
       "\n",
       "    lon_gmtco               date_mscan                 date_ltz  temp_bb  \\\n",
       "0   27.970837  2020/02/22 23:06:45.073  2020-02-23 01:06:45.073     1106   \n",
       "1   29.409781  2020/02/22 23:06:45.073  2020-02-23 01:06:45.073     1280   \n",
       "2   29.416176  2020/02/22 23:06:46.852  2020-02-23 01:06:46.852     1341   \n",
       "3   29.061270  2020/02/22 23:06:46.852  2020-02-23 01:06:46.852     1429   \n",
       "4   29.055119  2020/02/22 23:06:48.632  2020-02-23 01:06:48.632     1294   \n",
       "5   41.035664  2020/02/22 23:06:48.632  2020-02-23 02:06:48.632     1453   \n",
       "6   41.045853  2020/02/22 23:06:48.632  2020-02-23 02:06:48.632     1708   \n",
       "7   41.033760  2020/02/22 23:06:48.632  2020-02-23 02:06:48.632   999999   \n",
       "8   41.043907  2020/02/22 23:06:48.632  2020-02-23 02:06:48.632   999999   \n",
       "9   29.476070  2020/02/22 23:06:48.632  2020-02-23 01:06:48.632     1447   \n",
       "10  58.429665  2020/02/22 23:06:48.632  2020-02-23 04:06:48.632   999999   \n",
       "11  58.443443  2020/02/22 23:06:48.632  2020-02-23 04:06:48.632     1286   \n",
       "12  29.420090  2020/02/22 23:06:50.411  2020-02-23 01:06:50.411   999999   \n",
       "13  29.384846  2020/02/22 23:06:50.411  2020-02-23 01:06:50.411     1366   \n",
       "14  29.394033  2020/02/22 23:06:50.411  2020-02-23 01:06:50.411     1252   \n",
       "15  29.585142  2020/02/22 23:06:53.970  2020-02-23 01:06:53.970     1368   \n",
       "16  52.620571  2020/02/22 23:06:53.970  2020-02-23 04:06:53.970     1599   \n",
       "17  43.465584  2020/02/22 23:06:55.749  2020-02-23 02:06:55.749      959   \n",
       "18  52.945332  2020/02/22 23:07:17.100  2020-02-23 04:07:17.100   999999   \n",
       "19  53.769508  2020/02/22 23:07:20.659  2020-02-23 04:07:20.659     1819   \n",
       "\n",
       "    temp_bkg        esf_bb  ...  cloud_mask  qf_fit  qf_detect  sample_m10  \\\n",
       "0        271  1.071880e-05  ...           0      34     439856         267   \n",
       "1        272  5.967420e-05  ...           0      34     442363         388   \n",
       "2        273  7.602250e-05  ...           0      34     507775         389   \n",
       "3        269  4.331870e-06  ...           0      34     375667         358   \n",
       "4        269  9.670350e-06  ...           0      34     507763         358   \n",
       "5     999999  2.125170e-06  ...           1       1     375105        1405   \n",
       "6     999999  8.464700e-07  ...           2       1     366849        1406   \n",
       "7     999999  9.999990e+05  ...           1       0     505920        1405   \n",
       "8     999999  9.999990e+05  ...           1       0     506432        1406   \n",
       "9        270  3.197710e-06  ...           0      34     439920         396   \n",
       "10    999999  9.999990e+05  ...           1       0     375040        3066   \n",
       "11       272  6.064410e-06  ...           0      34     507760        3067   \n",
       "12    999999  9.999990e+05  ...           0       0     426048         392   \n",
       "13       268  1.481490e-05  ...           0      34     442353         389   \n",
       "14       270  2.346000e-04  ...           0      34     442367         390   \n",
       "15       269  1.424170e-05  ...           0      34     442297         410   \n",
       "16    999999  1.136840e-06  ...           3       1     440641        2516   \n",
       "17       252  3.676980e-05  ...           3      34     507697        1677   \n",
       "18    999999  9.999990e+05  ...           3       0     438848        2608   \n",
       "19       272  2.322970e-06  ...           0      34     507697        2727   \n",
       "\n",
       "    line_m10  sample_dnb  line_dnb  \\\n",
       "0         38         455        36   \n",
       "1         45         602        48   \n",
       "2         52         603        48   \n",
       "3         62         568        67   \n",
       "4         69         568        67   \n",
       "5         69        1829        69   \n",
       "6         69        1830        69   \n",
       "7         70        1829        70   \n",
       "8         70        1830        70   \n",
       "9         71         611        70   \n",
       "10        71        3814        70   \n",
       "11        71        3815        70   \n",
       "12        87         607        86   \n",
       "13        90         603        91   \n",
       "14        92         604        94   \n",
       "15       118         626       116   \n",
       "16       124        3148       126   \n",
       "17       144        2114       144   \n",
       "18       327        3264       326   \n",
       "19       365        3378       367   \n",
       "\n",
       "                                             file_m10  \\\n",
       "0   SVM10_npp_d20200222_t2306412_e2308054_b43124_c...   \n",
       "1   SVM10_npp_d20200222_t2306412_e2308054_b43124_c...   \n",
       "2   SVM10_npp_d20200222_t2306412_e2308054_b43124_c...   \n",
       "3   SVM10_npp_d20200222_t2306412_e2308054_b43124_c...   \n",
       "4   SVM10_npp_d20200222_t2306412_e2308054_b43124_c...   \n",
       "5   SVM10_npp_d20200222_t2306412_e2308054_b43124_c...   \n",
       "6   SVM10_npp_d20200222_t2306412_e2308054_b43124_c...   \n",
       "7   SVM10_npp_d20200222_t2306412_e2308054_b43124_c...   \n",
       "8   SVM10_npp_d20200222_t2306412_e2308054_b43124_c...   \n",
       "9   SVM10_npp_d20200222_t2306412_e2308054_b43124_c...   \n",
       "10  SVM10_npp_d20200222_t2306412_e2308054_b43124_c...   \n",
       "11  SVM10_npp_d20200222_t2306412_e2308054_b43124_c...   \n",
       "12  SVM10_npp_d20200222_t2306412_e2308054_b43124_c...   \n",
       "13  SVM10_npp_d20200222_t2306412_e2308054_b43124_c...   \n",
       "14  SVM10_npp_d20200222_t2306412_e2308054_b43124_c...   \n",
       "15  SVM10_npp_d20200222_t2306412_e2308054_b43124_c...   \n",
       "16  SVM10_npp_d20200222_t2306412_e2308054_b43124_c...   \n",
       "17  SVM10_npp_d20200222_t2306412_e2308054_b43124_c...   \n",
       "18  SVM10_npp_d20200222_t2306412_e2308054_b43124_c...   \n",
       "19  SVM10_npp_d20200222_t2306412_e2308054_b43124_c...   \n",
       "\n",
       "                                             file_dnb  source_id  \n",
       "0   SVDNB_npp_d20200222_t2306412_e2308054_b43124_c...        NaN  \n",
       "1   SVDNB_npp_d20200222_t2306412_e2308054_b43124_c...        NaN  \n",
       "2   SVDNB_npp_d20200222_t2306412_e2308054_b43124_c...        NaN  \n",
       "3   SVDNB_npp_d20200222_t2306412_e2308054_b43124_c...        NaN  \n",
       "4   SVDNB_npp_d20200222_t2306412_e2308054_b43124_c...        NaN  \n",
       "5   SVDNB_npp_d20200222_t2306412_e2308054_b43124_c...        NaN  \n",
       "6   SVDNB_npp_d20200222_t2306412_e2308054_b43124_c...        NaN  \n",
       "7   SVDNB_npp_d20200222_t2306412_e2308054_b43124_c...        NaN  \n",
       "8   SVDNB_npp_d20200222_t2306412_e2308054_b43124_c...        NaN  \n",
       "9   SVDNB_npp_d20200222_t2306412_e2308054_b43124_c...        NaN  \n",
       "10  SVDNB_npp_d20200222_t2306412_e2308054_b43124_c...        NaN  \n",
       "11  SVDNB_npp_d20200222_t2306412_e2308054_b43124_c...        NaN  \n",
       "12  SVDNB_npp_d20200222_t2306412_e2308054_b43124_c...        NaN  \n",
       "13  SVDNB_npp_d20200222_t2306412_e2308054_b43124_c...        NaN  \n",
       "14  SVDNB_npp_d20200222_t2306412_e2308054_b43124_c...        NaN  \n",
       "15  SVDNB_npp_d20200222_t2306412_e2308054_b43124_c...        NaN  \n",
       "16  SVDNB_npp_d20200222_t2306412_e2308054_b43124_c...        NaN  \n",
       "17  SVDNB_npp_d20200222_t2306412_e2308054_b43124_c...        NaN  \n",
       "18  SVDNB_npp_d20200222_t2306412_e2308054_b43124_c...        NaN  \n",
       "19  SVDNB_npp_d20200222_t2306412_e2308054_b43124_c...        NaN  \n",
       "\n",
       "[20 rows x 26 columns]"
      ]
     },
     "execution_count": 63,
     "metadata": {},
     "output_type": "execute_result"
    }
   ],
   "source": [
    "viirs = pd.read_csv('../data/input/viirs/VNF_npp_d20200222_noaa_v30-ez.csv')\n",
    "\n",
    "viirs.columns = [c.lower() for c in viirs.columns]\n",
    "\n",
    "viirs.head(20)"
   ]
  },
  {
   "cell_type": "code",
   "execution_count": 70,
   "metadata": {},
   "outputs": [
    {
     "data": {
      "text/plain": [
       "<matplotlib.axes._subplots.AxesSubplot at 0x1a40aa6990>"
      ]
     },
     "execution_count": 70,
     "metadata": {},
     "output_type": "execute_result"
    },
    {
     "data": {
      "image/png": "[encoded data removed]",
      "text/plain": [
       "<Figure size 1800x720 with 2 Axes>"
      ]
     },
     "metadata": {
      "needs_background": "light"
     },
     "output_type": "display_data"
    }
   ],
   "source": [
    "viirs = viirs.replace(999999, np.nan)\n",
    "\n",
    "import missingno as msno\n",
    "\n",
    "msno.matrix(viirs)"
   ]
  },
  {
   "cell_type": "code",
   "execution_count": 72,
   "metadata": {},
   "outputs": [
    {
     "data": {
      "text/plain": [
       "id                0\n",
       "id_key            0\n",
       "date_proc         0\n",
       "lat_gmtco         0\n",
       "lon_gmtco         0\n",
       "date_mscan        0\n",
       "date_ltz          0\n",
       "temp_bb        4930\n",
       "temp_bkg       8547\n",
       "esf_bb         4930\n",
       "rhi            4930\n",
       "rh             4930\n",
       "methane_eq    13771\n",
       "co2_eq        13771\n",
       "area_pixel     4930\n",
       "area_bb        4930\n",
       "cloud_mask      659\n",
       "qf_fit            0\n",
       "qf_detect         0\n",
       "sample_m10        0\n",
       "line_m10          0\n",
       "sample_dnb       19\n",
       "line_dnb         19\n",
       "file_m10          0\n",
       "file_dnb          0\n",
       "source_id     13771\n",
       "dtype: int64"
      ]
     },
     "execution_count": 72,
     "metadata": {},
     "output_type": "execute_result"
    }
   ],
   "source": [
    "viirs.isnull().sum()   # 13771 total "
   ]
  },
  {
   "cell_type": "code",
   "execution_count": 73,
   "metadata": {},
   "outputs": [
    {
     "data": {
      "text/plain": [
       "(13771, 26)"
      ]
     },
     "execution_count": 73,
     "metadata": {},
     "output_type": "execute_result"
    }
   ],
   "source": [
    "viirs.shape"
   ]
  },
  {
   "cell_type": "code",
   "execution_count": 74,
   "metadata": {},
   "outputs": [
    {
     "data": {
      "text/plain": [
       "<matplotlib.axes._subplots.AxesSubplot at 0x1a40f78b90>"
      ]
     },
     "execution_count": 74,
     "metadata": {},
     "output_type": "execute_result"
    },
    {
     "data": {
      "image/png": "[encoded data removed]",
      "text/plain": [
       "<Figure size 432x288 with 1 Axes>"
      ]
     },
     "metadata": {
      "needs_background": "light"
     },
     "output_type": "display_data"
    }
   ],
   "source": [
    "# From Noah's Local Folium Lesson \n",
    "\n",
    "## Create point geometries column\n",
    "geom = [Point(xy) for xy in zip(viirs['lon_gmtco'], viirs['lat_gmtco'])]\n",
    "\n",
    "## Set the coordinate reference system we'll be using. \n",
    "## EPSG:4326 is the CRS for the WGS1984 datum (standard for maps of the whole world)\n",
    "crs = {'init':'epsg:4326'}\n",
    "viirs_gdf = gpd.GeoDataFrame(viirs, crs =crs, geometry=geom)\n",
    "viirs_gdf.plot(viirs_gdf['temp_bb']);"
   ]
  },
  {
   "cell_type": "markdown",
   "metadata": {},
   "source": [
    "## US Census County Shapefiles\n",
    "\n",
    "### Delineating EIA Basins"
   ]
  },
  {
   "cell_type": "code",
   "execution_count": 75,
   "metadata": {},
   "outputs": [
    {
     "data": {
      "text/plain": [
       "<matplotlib.axes._subplots.AxesSubplot at 0x1a423f6990>"
      ]
     },
     "execution_count": 75,
     "metadata": {},
     "output_type": "execute_result"
    },
    {
     "data": {
      "image/png": "[encoded data removed]",
      "text/plain": [
       "<Figure size 432x288 with 1 Axes>"
      ]
     },
     "metadata": {
      "needs_background": "light"
     },
     "output_type": "display_data"
    }
   ],
   "source": [
    "census = gpd.read_file('../data/input/census/tl_2017_us_county.shp')\n",
    "\n",
    "census.columns = [c.lower() for c in census.columns]\n",
    "\n",
    "census.plot()"
   ]
  },
  {
   "cell_type": "code",
   "execution_count": 76,
   "metadata": {},
   "outputs": [
    {
     "data": {
      "text/html": [
       "<div>\n",
       "<style scoped>\n",
       "    .dataframe tbody tr th:only-of-type {\n",
       "        vertical-align: middle;\n",
       "    }\n",
       "\n",
       "    .dataframe tbody tr th {\n",
       "        vertical-align: top;\n",
       "    }\n",
       "\n",
       "    .dataframe thead th {\n",
       "        text-align: right;\n",
       "    }\n",
       "</style>\n",
       "<table border=\"1\" class=\"dataframe\">\n",
       "  <thead>\n",
       "    <tr style=\"text-align: right;\">\n",
       "      <th></th>\n",
       "      <th>statefp</th>\n",
       "      <th>countyfp</th>\n",
       "      <th>countyns</th>\n",
       "      <th>geoid</th>\n",
       "      <th>name</th>\n",
       "      <th>namelsad</th>\n",
       "      <th>lsad</th>\n",
       "      <th>classfp</th>\n",
       "      <th>mtfcc</th>\n",
       "      <th>csafp</th>\n",
       "      <th>cbsafp</th>\n",
       "      <th>metdivfp</th>\n",
       "      <th>funcstat</th>\n",
       "      <th>aland</th>\n",
       "      <th>awater</th>\n",
       "      <th>intptlat</th>\n",
       "      <th>intptlon</th>\n",
       "      <th>geometry</th>\n",
       "    </tr>\n",
       "  </thead>\n",
       "  <tbody>\n",
       "    <tr>\n",
       "      <th>0</th>\n",
       "      <td>31</td>\n",
       "      <td>039</td>\n",
       "      <td>00835841</td>\n",
       "      <td>31039</td>\n",
       "      <td>Cuming</td>\n",
       "      <td>Cuming County</td>\n",
       "      <td>06</td>\n",
       "      <td>H1</td>\n",
       "      <td>G4020</td>\n",
       "      <td>None</td>\n",
       "      <td>None</td>\n",
       "      <td>None</td>\n",
       "      <td>A</td>\n",
       "      <td>1477641638</td>\n",
       "      <td>10701538</td>\n",
       "      <td>+41.9158651</td>\n",
       "      <td>-096.7885168</td>\n",
       "      <td>POLYGON ((-97.01952 42.00410, -97.01952 42.004...</td>\n",
       "    </tr>\n",
       "    <tr>\n",
       "      <th>1</th>\n",
       "      <td>53</td>\n",
       "      <td>069</td>\n",
       "      <td>01513275</td>\n",
       "      <td>53069</td>\n",
       "      <td>Wahkiakum</td>\n",
       "      <td>Wahkiakum County</td>\n",
       "      <td>06</td>\n",
       "      <td>H1</td>\n",
       "      <td>G4020</td>\n",
       "      <td>None</td>\n",
       "      <td>None</td>\n",
       "      <td>None</td>\n",
       "      <td>A</td>\n",
       "      <td>680956787</td>\n",
       "      <td>61588406</td>\n",
       "      <td>+46.2946377</td>\n",
       "      <td>-123.4244583</td>\n",
       "      <td>POLYGON ((-123.43639 46.23820, -123.44759 46.2...</td>\n",
       "    </tr>\n",
       "  </tbody>\n",
       "</table>\n",
       "</div>"
      ],
      "text/plain": [
       "  statefp countyfp  countyns  geoid       name          namelsad lsad classfp  \\\n",
       "0      31      039  00835841  31039     Cuming     Cuming County   06      H1   \n",
       "1      53      069  01513275  53069  Wahkiakum  Wahkiakum County   06      H1   \n",
       "\n",
       "   mtfcc csafp cbsafp metdivfp funcstat       aland    awater     intptlat  \\\n",
       "0  G4020  None   None     None        A  1477641638  10701538  +41.9158651   \n",
       "1  G4020  None   None     None        A   680956787  61588406  +46.2946377   \n",
       "\n",
       "       intptlon                                           geometry  \n",
       "0  -096.7885168  POLYGON ((-97.01952 42.00410, -97.01952 42.004...  \n",
       "1  -123.4244583  POLYGON ((-123.43639 46.23820, -123.44759 46.2...  "
      ]
     },
     "execution_count": 76,
     "metadata": {},
     "output_type": "execute_result"
    }
   ],
   "source": [
    "census.head(2)"
   ]
  },
  {
   "cell_type": "code",
   "execution_count": 77,
   "metadata": {},
   "outputs": [
    {
     "data": {
      "text/plain": [
       "(3233, 18)"
      ]
     },
     "execution_count": 77,
     "metadata": {},
     "output_type": "execute_result"
    }
   ],
   "source": [
    "census.shape"
   ]
  },
  {
   "cell_type": "code",
   "execution_count": 78,
   "metadata": {},
   "outputs": [],
   "source": [
    "## US Energy  "
   ]
  },
  {
   "cell_type": "markdown",
   "metadata": {},
   "source": [
    "## U.S. Energy Information Administration (EIA)\n",
    "\n",
    "### County Basin Delineations Sheet"
   ]
  },
  {
   "cell_type": "code",
   "execution_count": 79,
   "metadata": {},
   "outputs": [
    {
     "data": {
      "text/html": [
       "<div>\n",
       "<style scoped>\n",
       "    .dataframe tbody tr th:only-of-type {\n",
       "        vertical-align: middle;\n",
       "    }\n",
       "\n",
       "    .dataframe tbody tr th {\n",
       "        vertical-align: top;\n",
       "    }\n",
       "\n",
       "    .dataframe thead th {\n",
       "        text-align: right;\n",
       "    }\n",
       "</style>\n",
       "<table border=\"1\" class=\"dataframe\">\n",
       "  <thead>\n",
       "    <tr style=\"text-align: right;\">\n",
       "      <th></th>\n",
       "      <th>state</th>\n",
       "      <th>county</th>\n",
       "      <th>stateid</th>\n",
       "      <th>countyid</th>\n",
       "      <th>region</th>\n",
       "      <th>geoid</th>\n",
       "    </tr>\n",
       "  </thead>\n",
       "  <tbody>\n",
       "    <tr>\n",
       "      <th>0</th>\n",
       "      <td>OK</td>\n",
       "      <td>ALFALFA</td>\n",
       "      <td>40</td>\n",
       "      <td>3</td>\n",
       "      <td>Anadarko Region</td>\n",
       "      <td>40003</td>\n",
       "    </tr>\n",
       "    <tr>\n",
       "      <th>1</th>\n",
       "      <td>OK</td>\n",
       "      <td>BEAVER</td>\n",
       "      <td>40</td>\n",
       "      <td>7</td>\n",
       "      <td>Anadarko Region</td>\n",
       "      <td>40007</td>\n",
       "    </tr>\n",
       "    <tr>\n",
       "      <th>2</th>\n",
       "      <td>OK</td>\n",
       "      <td>BECKHAM</td>\n",
       "      <td>40</td>\n",
       "      <td>9</td>\n",
       "      <td>Anadarko Region</td>\n",
       "      <td>40009</td>\n",
       "    </tr>\n",
       "    <tr>\n",
       "      <th>3</th>\n",
       "      <td>OK</td>\n",
       "      <td>BLAINE</td>\n",
       "      <td>40</td>\n",
       "      <td>11</td>\n",
       "      <td>Anadarko Region</td>\n",
       "      <td>40011</td>\n",
       "    </tr>\n",
       "    <tr>\n",
       "      <th>4</th>\n",
       "      <td>OK</td>\n",
       "      <td>CADDO</td>\n",
       "      <td>40</td>\n",
       "      <td>15</td>\n",
       "      <td>Anadarko Region</td>\n",
       "      <td>40015</td>\n",
       "    </tr>\n",
       "    <tr>\n",
       "      <th>...</th>\n",
       "      <td>...</td>\n",
       "      <td>...</td>\n",
       "      <td>...</td>\n",
       "      <td>...</td>\n",
       "      <td>...</td>\n",
       "      <td>...</td>\n",
       "    </tr>\n",
       "    <tr>\n",
       "      <th>310</th>\n",
       "      <td>TX</td>\n",
       "      <td>UPTON</td>\n",
       "      <td>48</td>\n",
       "      <td>461</td>\n",
       "      <td>Permian Region</td>\n",
       "      <td>48461</td>\n",
       "    </tr>\n",
       "    <tr>\n",
       "      <th>311</th>\n",
       "      <td>TX</td>\n",
       "      <td>VAL VERDE</td>\n",
       "      <td>48</td>\n",
       "      <td>465</td>\n",
       "      <td>Permian Region</td>\n",
       "      <td>48465</td>\n",
       "    </tr>\n",
       "    <tr>\n",
       "      <th>312</th>\n",
       "      <td>TX</td>\n",
       "      <td>WARD</td>\n",
       "      <td>48</td>\n",
       "      <td>475</td>\n",
       "      <td>Permian Region</td>\n",
       "      <td>48475</td>\n",
       "    </tr>\n",
       "    <tr>\n",
       "      <th>313</th>\n",
       "      <td>TX</td>\n",
       "      <td>WINKLER</td>\n",
       "      <td>48</td>\n",
       "      <td>495</td>\n",
       "      <td>Permian Region</td>\n",
       "      <td>48495</td>\n",
       "    </tr>\n",
       "    <tr>\n",
       "      <th>314</th>\n",
       "      <td>TX</td>\n",
       "      <td>YOAKUM</td>\n",
       "      <td>48</td>\n",
       "      <td>501</td>\n",
       "      <td>Permian Region</td>\n",
       "      <td>48501</td>\n",
       "    </tr>\n",
       "  </tbody>\n",
       "</table>\n",
       "<p>315 rows × 6 columns</p>\n",
       "</div>"
      ],
      "text/plain": [
       "    state     county stateid  countyid           region  geoid\n",
       "0      OK    ALFALFA      40         3  Anadarko Region  40003\n",
       "1      OK     BEAVER      40         7  Anadarko Region  40007\n",
       "2      OK    BECKHAM      40         9  Anadarko Region  40009\n",
       "3      OK     BLAINE      40        11  Anadarko Region  40011\n",
       "4      OK      CADDO      40        15  Anadarko Region  40015\n",
       "..    ...        ...     ...       ...              ...    ...\n",
       "310    TX      UPTON      48       461   Permian Region  48461\n",
       "311    TX  VAL VERDE      48       465   Permian Region  48465\n",
       "312    TX       WARD      48       475   Permian Region  48475\n",
       "313    TX    WINKLER      48       495   Permian Region  48495\n",
       "314    TX     YOAKUM      48       501   Permian Region  48501\n",
       "\n",
       "[315 rows x 6 columns]"
      ]
     },
     "execution_count": 79,
     "metadata": {},
     "output_type": "execute_result"
    }
   ],
   "source": [
    "eia_cnty = pd.read_excel('../data/input/eia/dpr-data.xlsx', sheet_name='RegionCounties')\n",
    "\n",
    "eia_cnty.columns = [c.lower() for c in eia_cnty.columns]\n",
    "\n",
    "def remap_state_fips(state_abbrev):\n",
    "    s = us.states.lookup(state_abbrev)\n",
    "    return s.fips\n",
    "\n",
    "eia_cnty['stateid'] = eia_cnty['state'].map(remap_state_fips)      \n",
    "\n",
    "#eia_cnty['geoid'] = eia_cnty['stateid'].str.zfill(2) + eia_cnty[\n",
    "        # 'countyid'].str.zfill(3)\n",
    "\n",
    "eia_cnty['geoid'] = eia_cnty['stateid'].astype(str).str.zfill(2) + eia_cnty['countyid'].astype(str).str.zfill(3)\n",
    "\n",
    "eia_cnty"
   ]
  },
  {
   "cell_type": "code",
   "execution_count": 80,
   "metadata": {},
   "outputs": [
    {
     "name": "stdout",
     "output_type": "stream",
     "text": [
      "(315, 4)\n"
     ]
    },
    {
     "data": {
      "text/html": [
       "<div>\n",
       "<style scoped>\n",
       "    .dataframe tbody tr th:only-of-type {\n",
       "        vertical-align: middle;\n",
       "    }\n",
       "\n",
       "    .dataframe tbody tr th {\n",
       "        vertical-align: top;\n",
       "    }\n",
       "\n",
       "    .dataframe thead th {\n",
       "        text-align: right;\n",
       "    }\n",
       "</style>\n",
       "<table border=\"1\" class=\"dataframe\">\n",
       "  <thead>\n",
       "    <tr style=\"text-align: right;\">\n",
       "      <th></th>\n",
       "      <th>geoid</th>\n",
       "      <th>region</th>\n",
       "      <th>stateid</th>\n",
       "      <th>state</th>\n",
       "    </tr>\n",
       "  </thead>\n",
       "  <tbody>\n",
       "    <tr>\n",
       "      <th>0</th>\n",
       "      <td>40003</td>\n",
       "      <td>Anadarko Region</td>\n",
       "      <td>40</td>\n",
       "      <td>OK</td>\n",
       "    </tr>\n",
       "    <tr>\n",
       "      <th>1</th>\n",
       "      <td>40007</td>\n",
       "      <td>Anadarko Region</td>\n",
       "      <td>40</td>\n",
       "      <td>OK</td>\n",
       "    </tr>\n",
       "    <tr>\n",
       "      <th>2</th>\n",
       "      <td>40009</td>\n",
       "      <td>Anadarko Region</td>\n",
       "      <td>40</td>\n",
       "      <td>OK</td>\n",
       "    </tr>\n",
       "    <tr>\n",
       "      <th>3</th>\n",
       "      <td>40011</td>\n",
       "      <td>Anadarko Region</td>\n",
       "      <td>40</td>\n",
       "      <td>OK</td>\n",
       "    </tr>\n",
       "    <tr>\n",
       "      <th>4</th>\n",
       "      <td>40015</td>\n",
       "      <td>Anadarko Region</td>\n",
       "      <td>40</td>\n",
       "      <td>OK</td>\n",
       "    </tr>\n",
       "    <tr>\n",
       "      <th>...</th>\n",
       "      <td>...</td>\n",
       "      <td>...</td>\n",
       "      <td>...</td>\n",
       "      <td>...</td>\n",
       "    </tr>\n",
       "    <tr>\n",
       "      <th>310</th>\n",
       "      <td>48461</td>\n",
       "      <td>Permian Region</td>\n",
       "      <td>48</td>\n",
       "      <td>TX</td>\n",
       "    </tr>\n",
       "    <tr>\n",
       "      <th>311</th>\n",
       "      <td>48465</td>\n",
       "      <td>Permian Region</td>\n",
       "      <td>48</td>\n",
       "      <td>TX</td>\n",
       "    </tr>\n",
       "    <tr>\n",
       "      <th>312</th>\n",
       "      <td>48475</td>\n",
       "      <td>Permian Region</td>\n",
       "      <td>48</td>\n",
       "      <td>TX</td>\n",
       "    </tr>\n",
       "    <tr>\n",
       "      <th>313</th>\n",
       "      <td>48495</td>\n",
       "      <td>Permian Region</td>\n",
       "      <td>48</td>\n",
       "      <td>TX</td>\n",
       "    </tr>\n",
       "    <tr>\n",
       "      <th>314</th>\n",
       "      <td>48501</td>\n",
       "      <td>Permian Region</td>\n",
       "      <td>48</td>\n",
       "      <td>TX</td>\n",
       "    </tr>\n",
       "  </tbody>\n",
       "</table>\n",
       "<p>315 rows × 4 columns</p>\n",
       "</div>"
      ],
      "text/plain": [
       "     geoid           region stateid state\n",
       "0    40003  Anadarko Region      40    OK\n",
       "1    40007  Anadarko Region      40    OK\n",
       "2    40009  Anadarko Region      40    OK\n",
       "3    40011  Anadarko Region      40    OK\n",
       "4    40015  Anadarko Region      40    OK\n",
       "..     ...              ...     ...   ...\n",
       "310  48461   Permian Region      48    TX\n",
       "311  48465   Permian Region      48    TX\n",
       "312  48475   Permian Region      48    TX\n",
       "313  48495   Permian Region      48    TX\n",
       "314  48501   Permian Region      48    TX\n",
       "\n",
       "[315 rows x 4 columns]"
      ]
     },
     "execution_count": 80,
     "metadata": {},
     "output_type": "execute_result"
    }
   ],
   "source": [
    "eia_cnty = eia_cnty[['geoid', 'region', 'stateid', 'state']].copy()\n",
    "eia_cnty\n",
    "\n",
    "print(eia_cnty.shape)\n",
    "\n",
    "eia_cnty"
   ]
  },
  {
   "cell_type": "code",
   "execution_count": 81,
   "metadata": {},
   "outputs": [
    {
     "data": {
      "text/plain": [
       "statefp       0\n",
       "countyfp      0\n",
       "countyns      0\n",
       "geoid         0\n",
       "name          0\n",
       "namelsad      0\n",
       "lsad          0\n",
       "classfp       0\n",
       "mtfcc         0\n",
       "csafp       231\n",
       "cbsafp      154\n",
       "metdivfp    314\n",
       "funcstat      0\n",
       "aland         0\n",
       "awater        0\n",
       "intptlat      0\n",
       "intptlon      0\n",
       "geometry      0\n",
       "region        0\n",
       "stateid       0\n",
       "state         0\n",
       "dtype: int64"
      ]
     },
     "execution_count": 81,
     "metadata": {},
     "output_type": "execute_result"
    }
   ],
   "source": [
    "basins = pd.merge(left=census, right=eia_cnty, on='geoid', how='right')\n",
    "\n",
    "basins[['region', 'geoid', 'statefp']].to_csv('../data/input/basins_test.csv', index=False)\n",
    "\n",
    "basins.isnull().sum()\n",
    "\n",
    "# So I'm still missing 48 Basins"
   ]
  },
  {
   "cell_type": "code",
   "execution_count": 82,
   "metadata": {},
   "outputs": [
    {
     "data": {
      "text/plain": [
       "<matplotlib.axes._subplots.AxesSubplot at 0x1a1f300a50>"
      ]
     },
     "execution_count": 82,
     "metadata": {},
     "output_type": "execute_result"
    },
    {
     "data": {
      "image/png": "[encoded data removed]",
      "text/plain": [
       "<Figure size 432x288 with 1 Axes>"
      ]
     },
     "metadata": {
      "needs_background": "light"
     },
     "output_type": "display_data"
    }
   ],
   "source": [
    "basins.plot(basins['region'])"
   ]
  },
  {
   "cell_type": "code",
   "execution_count": 83,
   "metadata": {},
   "outputs": [
    {
     "data": {
      "text/html": [
       "<div>\n",
       "<style scoped>\n",
       "    .dataframe tbody tr th:only-of-type {\n",
       "        vertical-align: middle;\n",
       "    }\n",
       "\n",
       "    .dataframe tbody tr th {\n",
       "        vertical-align: top;\n",
       "    }\n",
       "\n",
       "    .dataframe thead th {\n",
       "        text-align: right;\n",
       "    }\n",
       "</style>\n",
       "<table border=\"1\" class=\"dataframe\">\n",
       "  <thead>\n",
       "    <tr style=\"text-align: right;\">\n",
       "      <th></th>\n",
       "      <th></th>\n",
       "      <th></th>\n",
       "      <th>statefp</th>\n",
       "    </tr>\n",
       "    <tr>\n",
       "      <th>region</th>\n",
       "      <th>stateid</th>\n",
       "      <th>state</th>\n",
       "      <th></th>\n",
       "    </tr>\n",
       "  </thead>\n",
       "  <tbody>\n",
       "  </tbody>\n",
       "</table>\n",
       "</div>"
      ],
      "text/plain": [
       "Empty DataFrame\n",
       "Columns: [statefp]\n",
       "Index: []"
      ]
     },
     "execution_count": 83,
     "metadata": {},
     "output_type": "execute_result"
    }
   ],
   "source": [
    "x = basins[basins['statefp'].isnull()][['region', 'state', 'statefp','stateid']]\n",
    "x.groupby(['region', 'stateid', 'state']).count()"
   ]
  },
  {
   "cell_type": "code",
   "execution_count": 84,
   "metadata": {},
   "outputs": [],
   "source": [
    "texas = census[census['statefp'] == '42']\n",
    "\n",
    "# TEXAS FID's are incorrect\n",
    "\n",
    "# READ EIA DOCUMENTATION ABOUT STATE CODES\n"
   ]
  },
  {
   "cell_type": "code",
   "execution_count": 85,
   "metadata": {},
   "outputs": [
    {
     "data": {
      "text/plain": [
       "<matplotlib.axes._subplots.AxesSubplot at 0x1a3ff9ab90>"
      ]
     },
     "execution_count": 85,
     "metadata": {},
     "output_type": "execute_result"
    },
    {
     "data": {
      "image/png": "[encoded data removed]",
      "text/plain": [
       "<Figure size 432x288 with 1 Axes>"
      ]
     },
     "metadata": {
      "needs_background": "light"
     },
     "output_type": "display_data"
    }
   ],
   "source": [
    "texas_basins = basins[basins['statefp'] == '48']\n",
    "texas_basins.plot(texas_basins['region'])"
   ]
  },
  {
   "cell_type": "code",
   "execution_count": 86,
   "metadata": {},
   "outputs": [
    {
     "data": {
      "text/html": [
       "<div>\n",
       "<style scoped>\n",
       "    .dataframe tbody tr th:only-of-type {\n",
       "        vertical-align: middle;\n",
       "    }\n",
       "\n",
       "    .dataframe tbody tr th {\n",
       "        vertical-align: top;\n",
       "    }\n",
       "\n",
       "    .dataframe thead th {\n",
       "        text-align: right;\n",
       "    }\n",
       "</style>\n",
       "<table border=\"1\" class=\"dataframe\">\n",
       "  <thead>\n",
       "    <tr style=\"text-align: right;\">\n",
       "      <th></th>\n",
       "      <th>aland</th>\n",
       "      <th>awater</th>\n",
       "    </tr>\n",
       "  </thead>\n",
       "  <tbody>\n",
       "    <tr>\n",
       "      <th>count</th>\n",
       "      <td>3.233000e+03</td>\n",
       "      <td>3.233000e+03</td>\n",
       "    </tr>\n",
       "    <tr>\n",
       "      <th>mean</th>\n",
       "      <td>2.832999e+09</td>\n",
       "      <td>2.262071e+08</td>\n",
       "    </tr>\n",
       "    <tr>\n",
       "      <th>std</th>\n",
       "      <td>9.239455e+09</td>\n",
       "      <td>1.366531e+09</td>\n",
       "    </tr>\n",
       "    <tr>\n",
       "      <th>min</th>\n",
       "      <td>8.209300e+04</td>\n",
       "      <td>0.000000e+00</td>\n",
       "    </tr>\n",
       "    <tr>\n",
       "      <th>25%</th>\n",
       "      <td>1.078539e+09</td>\n",
       "      <td>7.047471e+06</td>\n",
       "    </tr>\n",
       "    <tr>\n",
       "      <th>50%</th>\n",
       "      <td>1.562337e+09</td>\n",
       "      <td>1.951985e+07</td>\n",
       "    </tr>\n",
       "    <tr>\n",
       "      <th>75%</th>\n",
       "      <td>2.367401e+09</td>\n",
       "      <td>6.202152e+07</td>\n",
       "    </tr>\n",
       "    <tr>\n",
       "      <th>max</th>\n",
       "      <td>3.770309e+11</td>\n",
       "      <td>3.539027e+10</td>\n",
       "    </tr>\n",
       "  </tbody>\n",
       "</table>\n",
       "</div>"
      ],
      "text/plain": [
       "              aland        awater\n",
       "count  3.233000e+03  3.233000e+03\n",
       "mean   2.832999e+09  2.262071e+08\n",
       "std    9.239455e+09  1.366531e+09\n",
       "min    8.209300e+04  0.000000e+00\n",
       "25%    1.078539e+09  7.047471e+06\n",
       "50%    1.562337e+09  1.951985e+07\n",
       "75%    2.367401e+09  6.202152e+07\n",
       "max    3.770309e+11  3.539027e+10"
      ]
     },
     "execution_count": 86,
     "metadata": {},
     "output_type": "execute_result"
    }
   ],
   "source": [
    "census.describe()"
   ]
  },
  {
   "cell_type": "code",
   "execution_count": 87,
   "metadata": {},
   "outputs": [
    {
     "data": {
      "text/plain": [
       "<matplotlib.axes._subplots.AxesSubplot at 0x1a3ff14c50>"
      ]
     },
     "execution_count": 87,
     "metadata": {},
     "output_type": "execute_result"
    },
    {
     "data": {
      "image/png": "[encoded data removed]",
      "text/plain": [
       "<Figure size 432x288 with 1 Axes>"
      ]
     },
     "metadata": {
      "needs_background": "light"
     },
     "output_type": "display_data"
    }
   ],
   "source": [
    "texas.plot()"
   ]
  },
  {
   "cell_type": "code",
   "execution_count": 88,
   "metadata": {},
   "outputs": [
    {
     "data": {
      "text/plain": [
       "<matplotlib.axes._subplots.AxesSubplot at 0x1a41360f50>"
      ]
     },
     "execution_count": 88,
     "metadata": {},
     "output_type": "execute_result"
    },
    {
     "data": {
      "image/png": "[encoded data removed]",
      "text/plain": [
       "<Figure size 432x288 with 1 Axes>"
      ]
     },
     "metadata": {
      "needs_background": "light"
     },
     "output_type": "display_data"
    }
   ],
   "source": [
    "census.plot()"
   ]
  },
  {
   "cell_type": "code",
   "execution_count": 89,
   "metadata": {},
   "outputs": [
    {
     "data": {
      "text/plain": [
       "48    254\n",
       "13    159\n",
       "51    133\n",
       "21    120\n",
       "29    115\n",
       "20    105\n",
       "17    102\n",
       "37    100\n",
       "19     99\n",
       "47     95\n",
       "31     93\n",
       "18     92\n",
       "39     88\n",
       "27     87\n",
       "26     83\n",
       "28     82\n",
       "72     78\n",
       "40     77\n",
       "05     75\n",
       "55     72\n",
       "12     67\n",
       "42     67\n",
       "01     67\n",
       "46     66\n",
       "08     64\n",
       "22     64\n",
       "36     62\n",
       "06     58\n",
       "30     56\n",
       "54     55\n",
       "38     53\n",
       "45     46\n",
       "16     44\n",
       "53     39\n",
       "41     36\n",
       "35     33\n",
       "49     29\n",
       "02     29\n",
       "24     24\n",
       "56     23\n",
       "34     21\n",
       "32     17\n",
       "23     16\n",
       "04     15\n",
       "50     14\n",
       "25     14\n",
       "33     10\n",
       "09      8\n",
       "44      5\n",
       "60      5\n",
       "15      5\n",
       "69      4\n",
       "10      3\n",
       "78      3\n",
       "11      1\n",
       "66      1\n",
       "Name: statefp, dtype: int64"
      ]
     },
     "execution_count": 89,
     "metadata": {},
     "output_type": "execute_result"
    }
   ],
   "source": [
    "census['statefp'].value_counts() #.sort_index()"
   ]
  },
  {
   "cell_type": "code",
   "execution_count": 90,
   "metadata": {},
   "outputs": [],
   "source": [
    "texas = census[census['statefp'] == '48']\n"
   ]
  },
  {
   "cell_type": "code",
   "execution_count": 91,
   "metadata": {},
   "outputs": [
    {
     "data": {
      "text/plain": [
       "<matplotlib.axes._subplots.AxesSubplot at 0x1a3fe94fd0>"
      ]
     },
     "execution_count": 91,
     "metadata": {},
     "output_type": "execute_result"
    },
    {
     "data": {
      "image/png": "[encoded data removed]",
      "text/plain": [
       "<Figure size 432x288 with 1 Axes>"
      ]
     },
     "metadata": {
      "needs_background": "light"
     },
     "output_type": "display_data"
    }
   ],
   "source": [
    "texas.plot()"
   ]
  },
  {
   "cell_type": "code",
   "execution_count": 92,
   "metadata": {},
   "outputs": [
    {
     "data": {
      "text/plain": [
       "(254, 18)"
      ]
     },
     "execution_count": 92,
     "metadata": {},
     "output_type": "execute_result"
    }
   ],
   "source": [
    "texas.shape"
   ]
  },
  {
   "cell_type": "code",
   "execution_count": 93,
   "metadata": {},
   "outputs": [
    {
     "data": {
      "text/plain": [
       "array(['31', '53', '35', '72', '46', '48', '06', '21', '39', '01', '13',\n",
       "       '55', '05', '41', '42', '28', '29', '08', '37', '49', '40', '51',\n",
       "       '47', '56', '54', '22', '36', '26', '18', '25', '20', '16', '12',\n",
       "       '02', '78', '32', '17', '50', '09', '30', '34', '27', '38', '24',\n",
       "       '19', '45', '23', '15', '33', '04', '10', '11', '66', '69', '60',\n",
       "       '44'], dtype=object)"
      ]
     },
     "execution_count": 93,
     "metadata": {},
     "output_type": "execute_result"
    }
   ],
   "source": [
    "census['statefp'].unique()"
   ]
  },
  {
   "cell_type": "code",
   "execution_count": 94,
   "metadata": {},
   "outputs": [
    {
     "data": {
      "text/plain": [
       "<matplotlib.axes._subplots.AxesSubplot at 0x1a41182550>"
      ]
     },
     "execution_count": 94,
     "metadata": {},
     "output_type": "execute_result"
    },
    {
     "data": {
      "image/png": "[encoded data removed]",
      "text/plain": [
       "<Figure size 432x288 with 1 Axes>"
      ]
     },
     "metadata": {
      "needs_background": "light"
     },
     "output_type": "display_data"
    }
   ],
   "source": [
    "permian_basin = basins[\n",
    "    (basins['region'] == 'Permian Region')#  & (basins['statefp'] == '48')\n",
    "]\n",
    "#df_gpd.plot()\n",
    "permian_basin.plot()\n"
   ]
  },
  {
   "cell_type": "code",
   "execution_count": 95,
   "metadata": {},
   "outputs": [],
   "source": [
    "# Look up Geopandas code for intersect and do here for\n",
    "# permian_basn and df_gpd = viirs_nightfire"
   ]
  },
  {
   "cell_type": "code",
   "execution_count": 96,
   "metadata": {},
   "outputs": [],
   "source": [
    "# Google EIA STATE FIPS CODES???!!!???\n",
    "\n"
   ]
  },
  {
   "cell_type": "code",
   "execution_count": 97,
   "metadata": {},
   "outputs": [
    {
     "name": "stderr",
     "output_type": "stream",
     "text": [
      "/Users/danielmsheehan/opt/anaconda3/envs/dsi/lib/python3.7/site-packages/geopandas/tools/sjoin.py:61: UserWarning: CRS of frames being joined does not match!({'init': 'epsg:4326'} != {'init': 'epsg:4269'})\n",
      "  \"(%s != %s)\" % (left_df.crs, right_df.crs)\n"
     ]
    }
   ],
   "source": [
    "basin_viirs = gpd.sjoin(\n",
    "    viirs_gdf, \n",
    "    permian_basin, \n",
    "    how=\"inner\", \n",
    "    op='intersects',  # warning CRS of frames do not match\n",
    ")\n",
    "\n",
    "# basin_viirs.plot('')\n"
   ]
  },
  {
   "cell_type": "code",
   "execution_count": 98,
   "metadata": {},
   "outputs": [
    {
     "data": {
      "text/plain": [
       "id              0\n",
       "id_key          0\n",
       "date_proc       0\n",
       "lat_gmtco       0\n",
       "lon_gmtco       0\n",
       "date_mscan      0\n",
       "date_ltz        0\n",
       "temp_bb        17\n",
       "temp_bkg       67\n",
       "esf_bb         17\n",
       "rhi            17\n",
       "rh             17\n",
       "methane_eq     67\n",
       "co2_eq         67\n",
       "area_pixel     17\n",
       "area_bb        17\n",
       "cloud_mask      5\n",
       "qf_fit          0\n",
       "qf_detect       0\n",
       "sample_m10      0\n",
       "line_m10        0\n",
       "sample_dnb      0\n",
       "line_dnb        0\n",
       "file_m10        0\n",
       "file_dnb        0\n",
       "source_id      67\n",
       "geometry        0\n",
       "index_right     0\n",
       "statefp         0\n",
       "countyfp        0\n",
       "countyns        0\n",
       "geoid           0\n",
       "name            0\n",
       "namelsad        0\n",
       "lsad            0\n",
       "classfp         0\n",
       "mtfcc           0\n",
       "csafp          43\n",
       "cbsafp         25\n",
       "metdivfp       67\n",
       "funcstat        0\n",
       "aland           0\n",
       "awater          0\n",
       "intptlat        0\n",
       "intptlon        0\n",
       "region          0\n",
       "stateid         0\n",
       "state           0\n",
       "dtype: int64"
      ]
     },
     "execution_count": 98,
     "metadata": {},
     "output_type": "execute_result"
    }
   ],
   "source": [
    "basin_viirs.isnull().sum()"
   ]
  },
  {
   "cell_type": "code",
   "execution_count": 101,
   "metadata": {},
   "outputs": [
    {
     "data": {
      "text/plain": [
       "id              0\n",
       "id_key          0\n",
       "date_proc       0\n",
       "lat_gmtco       0\n",
       "lon_gmtco       0\n",
       "date_mscan      0\n",
       "date_ltz        0\n",
       "temp_bb        17\n",
       "temp_bkg       67\n",
       "esf_bb         17\n",
       "rhi            17\n",
       "rh             17\n",
       "methane_eq     67\n",
       "co2_eq         67\n",
       "area_pixel     17\n",
       "area_bb        17\n",
       "cloud_mask      5\n",
       "qf_fit          0\n",
       "qf_detect       0\n",
       "sample_m10      0\n",
       "line_m10        0\n",
       "sample_dnb      0\n",
       "line_dnb        0\n",
       "file_m10        0\n",
       "file_dnb        0\n",
       "source_id      67\n",
       "geometry        0\n",
       "index_right     0\n",
       "statefp         0\n",
       "countyfp        0\n",
       "countyns        0\n",
       "geoid           0\n",
       "name            0\n",
       "namelsad        0\n",
       "lsad            0\n",
       "classfp         0\n",
       "mtfcc           0\n",
       "csafp          43\n",
       "cbsafp         25\n",
       "metdivfp       67\n",
       "funcstat        0\n",
       "aland           0\n",
       "awater          0\n",
       "intptlat        0\n",
       "intptlon        0\n",
       "region          0\n",
       "stateid         0\n",
       "state           0\n",
       "dtype: int64"
      ]
     },
     "execution_count": 101,
     "metadata": {},
     "output_type": "execute_result"
    }
   ],
   "source": [
    "#basin_viirs = basin_viirs.replace(999999, np.nan)\n",
    "\n",
    "basin_viirs.isnull().sum()"
   ]
  },
  {
   "cell_type": "code",
   "execution_count": 102,
   "metadata": {},
   "outputs": [
    {
     "data": {
      "text/plain": [
       "(67, 48)"
      ]
     },
     "execution_count": 102,
     "metadata": {},
     "output_type": "execute_result"
    }
   ],
   "source": [
    "basin_viirs.shape"
   ]
  },
  {
   "cell_type": "code",
   "execution_count": 100,
   "metadata": {},
   "outputs": [],
   "source": [
    "# sns.pairplot(\n",
    "#     viirs.dropna()\n",
    "# )  # maybe try w/ basin_viirs"
   ]
  },
  {
   "cell_type": "code",
   "execution_count": null,
   "metadata": {},
   "outputs": [],
   "source": []
  },
  {
   "cell_type": "markdown",
   "metadata": {},
   "source": [
    "## Creating VIIRS Nightfire Combustion Sources Geographic Aggregation Metrics"
   ]
  },
  {
   "cell_type": "code",
   "execution_count": null,
   "metadata": {},
   "outputs": [],
   "source": [
    "\n",
    "\n"
   ]
  },
  {
   "cell_type": "code",
   "execution_count": null,
   "metadata": {},
   "outputs": [],
   "source": []
  },
  {
   "cell_type": "code",
   "execution_count": null,
   "metadata": {},
   "outputs": [],
   "source": []
  }
 ],
 "metadata": {
  "kernelspec": {
   "display_name": "Python 3",
   "language": "python",
   "name": "python3"
  },
  "language_info": {
   "codemirror_mode": {
    "name": "ipython",
    "version": 3
   },
   "file_extension": ".py",
   "mimetype": "text/x-python",
   "name": "python",
   "nbconvert_exporter": "python",
   "pygments_lexer": "ipython3",
   "version": "3.7.4"
  },
  "toc": {
   "base_numbering": 1,
   "nav_menu": {},
   "number_sections": false,
   "sideBar": true,
   "skip_h1_title": false,
   "title_cell": "Table of Contents",
   "title_sidebar": "Contents",
   "toc_cell": false,
   "toc_position": {
    "height": "calc(100% - 180px)",
    "left": "10px",
    "top": "150px",
    "width": "165px"
   },
   "toc_section_display": true,
   "toc_window_display": true
  }
 },
 "nbformat": 4,
 "nbformat_minor": 4
}
