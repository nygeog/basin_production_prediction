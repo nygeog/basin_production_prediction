{
 "cells": [
  {
   "cell_type": "markdown",
   "metadata": {},
   "source": [
    "# Exploratory Data Analysis "
   ]
  },
  {
   "cell_type": "code",
   "execution_count": 109,
   "metadata": {},
   "outputs": [],
   "source": [
    "import pandas as pd\n",
    "import geopandas as gpd\n",
    "import numpy as np\n",
    "from shapely.geometry import Point\n"
   ]
  },
  {
   "cell_type": "markdown",
   "metadata": {},
   "source": [
    "## Global Gas Flaring Estimates — Remotely Sensed VIIRS Nightfire Combustion\n",
    "\n"
   ]
  },
  {
   "cell_type": "code",
   "execution_count": 100,
   "metadata": {},
   "outputs": [
    {
     "data": {
      "text/html": [
       "<div>\n",
       "<style scoped>\n",
       "    .dataframe tbody tr th:only-of-type {\n",
       "        vertical-align: middle;\n",
       "    }\n",
       "\n",
       "    .dataframe tbody tr th {\n",
       "        vertical-align: top;\n",
       "    }\n",
       "\n",
       "    .dataframe thead th {\n",
       "        text-align: right;\n",
       "    }\n",
       "</style>\n",
       "<table border=\"1\" class=\"dataframe\">\n",
       "  <thead>\n",
       "    <tr style=\"text-align: right;\">\n",
       "      <th></th>\n",
       "      <th>id</th>\n",
       "      <th>id_key</th>\n",
       "      <th>date_proc</th>\n",
       "      <th>lat_gmtco</th>\n",
       "      <th>lon_gmtco</th>\n",
       "      <th>date_mscan</th>\n",
       "      <th>date_ltz</th>\n",
       "      <th>temp_bb</th>\n",
       "      <th>temp_bkg</th>\n",
       "      <th>esf_bb</th>\n",
       "      <th>...</th>\n",
       "      <th>cloud_mask</th>\n",
       "      <th>qf_fit</th>\n",
       "      <th>qf_detect</th>\n",
       "      <th>sample_m10</th>\n",
       "      <th>line_m10</th>\n",
       "      <th>sample_dnb</th>\n",
       "      <th>line_dnb</th>\n",
       "      <th>file_m10</th>\n",
       "      <th>file_dnb</th>\n",
       "      <th>source_id</th>\n",
       "    </tr>\n",
       "  </thead>\n",
       "  <tbody>\n",
       "    <tr>\n",
       "      <th>0</th>\n",
       "      <td>2</td>\n",
       "      <td>x1000966E_y503894N_l0030_s0792_v30</td>\n",
       "      <td>2017/12/05 11:45:51</td>\n",
       "      <td>50.389370</td>\n",
       "      <td>100.096634</td>\n",
       "      <td>2017/12/01 18:46:02.701</td>\n",
       "      <td>2017-12-02 02:46:02.701</td>\n",
       "      <td>967</td>\n",
       "      <td>249</td>\n",
       "      <td>0.000018</td>\n",
       "      <td>...</td>\n",
       "      <td>0</td>\n",
       "      <td>34</td>\n",
       "      <td>12848</td>\n",
       "      <td>792</td>\n",
       "      <td>30</td>\n",
       "      <td>1078</td>\n",
       "      <td>32</td>\n",
       "      <td>SVM10_npp_d20171201_t1846006_e1847248_b31587_c...</td>\n",
       "      <td>SVDNB_npp_d20171201_t1846006_e1847248_b31587_c...</td>\n",
       "      <td>NaN</td>\n",
       "    </tr>\n",
       "    <tr>\n",
       "      <th>1</th>\n",
       "      <td>3</td>\n",
       "      <td>x1001052E_y503926N_l0034_s0793_v30</td>\n",
       "      <td>2017/12/05 11:45:51</td>\n",
       "      <td>50.392555</td>\n",
       "      <td>100.105202</td>\n",
       "      <td>2017/12/01 18:46:04.480</td>\n",
       "      <td>2017-12-02 02:46:04.480</td>\n",
       "      <td>1016</td>\n",
       "      <td>249</td>\n",
       "      <td>0.000015</td>\n",
       "      <td>...</td>\n",
       "      <td>999999</td>\n",
       "      <td>34</td>\n",
       "      <td>13872</td>\n",
       "      <td>793</td>\n",
       "      <td>34</td>\n",
       "      <td>1079</td>\n",
       "      <td>31</td>\n",
       "      <td>SVM10_npp_d20171201_t1846006_e1847248_b31587_c...</td>\n",
       "      <td>SVDNB_npp_d20171201_t1846006_e1847248_b31587_c...</td>\n",
       "      <td>NaN</td>\n",
       "    </tr>\n",
       "    <tr>\n",
       "      <th>2</th>\n",
       "      <td>12</td>\n",
       "      <td>x1191472E_y459453N_l0238_s2461_v30</td>\n",
       "      <td>2017/12/05 11:45:51</td>\n",
       "      <td>45.945339</td>\n",
       "      <td>119.147217</td>\n",
       "      <td>2017/12/01 18:46:25.832</td>\n",
       "      <td>2017-12-02 02:46:25.832</td>\n",
       "      <td>986</td>\n",
       "      <td>249</td>\n",
       "      <td>0.000092</td>\n",
       "      <td>...</td>\n",
       "      <td>0</td>\n",
       "      <td>34</td>\n",
       "      <td>16241</td>\n",
       "      <td>2461</td>\n",
       "      <td>238</td>\n",
       "      <td>3063</td>\n",
       "      <td>240</td>\n",
       "      <td>SVM10_npp_d20171201_t1846006_e1847248_b31587_c...</td>\n",
       "      <td>SVDNB_npp_d20171201_t1846006_e1847248_b31587_c...</td>\n",
       "      <td>NaN</td>\n",
       "    </tr>\n",
       "  </tbody>\n",
       "</table>\n",
       "<p>3 rows × 26 columns</p>\n",
       "</div>"
      ],
      "text/plain": [
       "   id                              id_key            date_proc  lat_gmtco  \\\n",
       "0   2  x1000966E_y503894N_l0030_s0792_v30  2017/12/05 11:45:51  50.389370   \n",
       "1   3  x1001052E_y503926N_l0034_s0793_v30  2017/12/05 11:45:51  50.392555   \n",
       "2  12  x1191472E_y459453N_l0238_s2461_v30  2017/12/05 11:45:51  45.945339   \n",
       "\n",
       "    lon_gmtco               date_mscan                 date_ltz  temp_bb  \\\n",
       "0  100.096634  2017/12/01 18:46:02.701  2017-12-02 02:46:02.701      967   \n",
       "1  100.105202  2017/12/01 18:46:04.480  2017-12-02 02:46:04.480     1016   \n",
       "2  119.147217  2017/12/01 18:46:25.832  2017-12-02 02:46:25.832      986   \n",
       "\n",
       "   temp_bkg    esf_bb  ...  cloud_mask  qf_fit  qf_detect  sample_m10  \\\n",
       "0       249  0.000018  ...           0      34      12848         792   \n",
       "1       249  0.000015  ...      999999      34      13872         793   \n",
       "2       249  0.000092  ...           0      34      16241        2461   \n",
       "\n",
       "   line_m10  sample_dnb  line_dnb  \\\n",
       "0        30        1078        32   \n",
       "1        34        1079        31   \n",
       "2       238        3063       240   \n",
       "\n",
       "                                            file_m10  \\\n",
       "0  SVM10_npp_d20171201_t1846006_e1847248_b31587_c...   \n",
       "1  SVM10_npp_d20171201_t1846006_e1847248_b31587_c...   \n",
       "2  SVM10_npp_d20171201_t1846006_e1847248_b31587_c...   \n",
       "\n",
       "                                            file_dnb  source_id  \n",
       "0  SVDNB_npp_d20171201_t1846006_e1847248_b31587_c...        NaN  \n",
       "1  SVDNB_npp_d20171201_t1846006_e1847248_b31587_c...        NaN  \n",
       "2  SVDNB_npp_d20171201_t1846006_e1847248_b31587_c...        NaN  \n",
       "\n",
       "[3 rows x 26 columns]"
      ]
     },
     "execution_count": 100,
     "metadata": {},
     "output_type": "execute_result"
    }
   ],
   "source": [
    "df = pd.read_csv('../data/input/viirs/VNF_npp_d20171201_noaa_v30-ez.csv')\n",
    "\n",
    "df.columns = [c.lower() for c in df.columns]\n",
    "\n",
    "df.head(3)"
   ]
  },
  {
   "cell_type": "code",
   "execution_count": 102,
   "metadata": {},
   "outputs": [
    {
     "data": {
      "text/plain": [
       "<matplotlib.axes._subplots.AxesSubplot at 0x142991110>"
      ]
     },
     "execution_count": 102,
     "metadata": {},
     "output_type": "execute_result"
    },
    {
     "data": {
      "image/png": "[encoded data removed]",
      "text/plain": [
       "<Figure size 432x288 with 1 Axes>"
      ]
     },
     "metadata": {
      "needs_background": "light"
     },
     "output_type": "display_data"
    }
   ],
   "source": [
    "# From Noah's Local Folium Lesson \n",
    "\n",
    "## Create point geometries column\n",
    "geom = [Point(xy) for xy in zip(df['lon_gmtco'], df['lat_gmtco'])]\n",
    "\n",
    "## Set the coordinate reference system we'll be using. \n",
    "## EPSG:4326 is the CRS for the WGS1984 datum (standard for maps of the whole world)\n",
    "crs = {'init':'epsg:4326'}\n",
    "df_gpd = gpd.GeoDataFrame(df, crs =crs, geometry=geom)\n",
    "df_gpd.plot(df_gpd['temp_bb'])"
   ]
  },
  {
   "cell_type": "markdown",
   "metadata": {},
   "source": [
    "## US Census County Shapefiles\n",
    "\n",
    "### Delineating EIA Basins"
   ]
  },
  {
   "cell_type": "code",
   "execution_count": 67,
   "metadata": {},
   "outputs": [
    {
     "data": {
      "text/plain": [
       "<matplotlib.axes._subplots.AxesSubplot at 0x14c936590>"
      ]
     },
     "execution_count": 67,
     "metadata": {},
     "output_type": "execute_result"
    },
    {
     "data": {
      "image/png": "[encoded data removed]",
      "text/plain": [
       "<Figure size 432x288 with 1 Axes>"
      ]
     },
     "metadata": {
      "needs_background": "light"
     },
     "output_type": "display_data"
    }
   ],
   "source": [
    "census = gpd.read_file('../data/input/census/tl_2017_us_county.shp')\n",
    "\n",
    "census.columns = [c.lower() for c in census.columns]\n",
    "\n",
    "census.plot()"
   ]
  },
  {
   "cell_type": "code",
   "execution_count": 113,
   "metadata": {},
   "outputs": [
    {
     "data": {
      "text/html": [
       "<div>\n",
       "<style scoped>\n",
       "    .dataframe tbody tr th:only-of-type {\n",
       "        vertical-align: middle;\n",
       "    }\n",
       "\n",
       "    .dataframe tbody tr th {\n",
       "        vertical-align: top;\n",
       "    }\n",
       "\n",
       "    .dataframe thead th {\n",
       "        text-align: right;\n",
       "    }\n",
       "</style>\n",
       "<table border=\"1\" class=\"dataframe\">\n",
       "  <thead>\n",
       "    <tr style=\"text-align: right;\">\n",
       "      <th></th>\n",
       "      <th>statefp</th>\n",
       "      <th>countyfp</th>\n",
       "      <th>countyns</th>\n",
       "      <th>geoid</th>\n",
       "      <th>name</th>\n",
       "      <th>namelsad</th>\n",
       "      <th>lsad</th>\n",
       "      <th>classfp</th>\n",
       "      <th>mtfcc</th>\n",
       "      <th>csafp</th>\n",
       "      <th>cbsafp</th>\n",
       "      <th>metdivfp</th>\n",
       "      <th>funcstat</th>\n",
       "      <th>aland</th>\n",
       "      <th>awater</th>\n",
       "      <th>intptlat</th>\n",
       "      <th>intptlon</th>\n",
       "      <th>geometry</th>\n",
       "    </tr>\n",
       "  </thead>\n",
       "  <tbody>\n",
       "    <tr>\n",
       "      <th>0</th>\n",
       "      <td>31</td>\n",
       "      <td>039</td>\n",
       "      <td>00835841</td>\n",
       "      <td>31039</td>\n",
       "      <td>Cuming</td>\n",
       "      <td>Cuming County</td>\n",
       "      <td>06</td>\n",
       "      <td>H1</td>\n",
       "      <td>G4020</td>\n",
       "      <td>None</td>\n",
       "      <td>None</td>\n",
       "      <td>None</td>\n",
       "      <td>A</td>\n",
       "      <td>1477641638</td>\n",
       "      <td>10701538</td>\n",
       "      <td>+41.9158651</td>\n",
       "      <td>-096.7885168</td>\n",
       "      <td>POLYGON ((-97.01952 42.00410, -97.01952 42.004...</td>\n",
       "    </tr>\n",
       "    <tr>\n",
       "      <th>1</th>\n",
       "      <td>53</td>\n",
       "      <td>069</td>\n",
       "      <td>01513275</td>\n",
       "      <td>53069</td>\n",
       "      <td>Wahkiakum</td>\n",
       "      <td>Wahkiakum County</td>\n",
       "      <td>06</td>\n",
       "      <td>H1</td>\n",
       "      <td>G4020</td>\n",
       "      <td>None</td>\n",
       "      <td>None</td>\n",
       "      <td>None</td>\n",
       "      <td>A</td>\n",
       "      <td>680956787</td>\n",
       "      <td>61588406</td>\n",
       "      <td>+46.2946377</td>\n",
       "      <td>-123.4244583</td>\n",
       "      <td>POLYGON ((-123.43639 46.23820, -123.44759 46.2...</td>\n",
       "    </tr>\n",
       "  </tbody>\n",
       "</table>\n",
       "</div>"
      ],
      "text/plain": [
       "  statefp countyfp  countyns  geoid       name          namelsad lsad classfp  \\\n",
       "0      31      039  00835841  31039     Cuming     Cuming County   06      H1   \n",
       "1      53      069  01513275  53069  Wahkiakum  Wahkiakum County   06      H1   \n",
       "\n",
       "   mtfcc csafp cbsafp metdivfp funcstat       aland    awater     intptlat  \\\n",
       "0  G4020  None   None     None        A  1477641638  10701538  +41.9158651   \n",
       "1  G4020  None   None     None        A   680956787  61588406  +46.2946377   \n",
       "\n",
       "       intptlon                                           geometry  \n",
       "0  -096.7885168  POLYGON ((-97.01952 42.00410, -97.01952 42.004...  \n",
       "1  -123.4244583  POLYGON ((-123.43639 46.23820, -123.44759 46.2...  "
      ]
     },
     "execution_count": 113,
     "metadata": {},
     "output_type": "execute_result"
    }
   ],
   "source": [
    "census.head(2)"
   ]
  },
  {
   "cell_type": "code",
   "execution_count": 115,
   "metadata": {},
   "outputs": [
    {
     "data": {
      "text/plain": [
       "(3233, 18)"
      ]
     },
     "execution_count": 115,
     "metadata": {},
     "output_type": "execute_result"
    }
   ],
   "source": [
    "census.shape"
   ]
  },
  {
   "cell_type": "code",
   "execution_count": null,
   "metadata": {},
   "outputs": [],
   "source": [
    "## US Energy  "
   ]
  },
  {
   "cell_type": "markdown",
   "metadata": {},
   "source": [
    "## U.S. Energy Information Administration (EIA)\n",
    "\n",
    "### County Basin Delineations Sheet"
   ]
  },
  {
   "cell_type": "code",
   "execution_count": 71,
   "metadata": {},
   "outputs": [
    {
     "data": {
      "text/html": [
       "<div>\n",
       "<style scoped>\n",
       "    .dataframe tbody tr th:only-of-type {\n",
       "        vertical-align: middle;\n",
       "    }\n",
       "\n",
       "    .dataframe tbody tr th {\n",
       "        vertical-align: top;\n",
       "    }\n",
       "\n",
       "    .dataframe thead th {\n",
       "        text-align: right;\n",
       "    }\n",
       "</style>\n",
       "<table border=\"1\" class=\"dataframe\">\n",
       "  <thead>\n",
       "    <tr style=\"text-align: right;\">\n",
       "      <th></th>\n",
       "      <th>state</th>\n",
       "      <th>county</th>\n",
       "      <th>stateid</th>\n",
       "      <th>countyid</th>\n",
       "      <th>region</th>\n",
       "      <th>geoid</th>\n",
       "    </tr>\n",
       "  </thead>\n",
       "  <tbody>\n",
       "    <tr>\n",
       "      <th>0</th>\n",
       "      <td>OK</td>\n",
       "      <td>ALFALFA</td>\n",
       "      <td>35</td>\n",
       "      <td>3</td>\n",
       "      <td>Anadarko Region</td>\n",
       "      <td>35003</td>\n",
       "    </tr>\n",
       "    <tr>\n",
       "      <th>1</th>\n",
       "      <td>OK</td>\n",
       "      <td>BEAVER</td>\n",
       "      <td>35</td>\n",
       "      <td>7</td>\n",
       "      <td>Anadarko Region</td>\n",
       "      <td>35007</td>\n",
       "    </tr>\n",
       "    <tr>\n",
       "      <th>2</th>\n",
       "      <td>OK</td>\n",
       "      <td>BECKHAM</td>\n",
       "      <td>35</td>\n",
       "      <td>9</td>\n",
       "      <td>Anadarko Region</td>\n",
       "      <td>35009</td>\n",
       "    </tr>\n",
       "    <tr>\n",
       "      <th>3</th>\n",
       "      <td>OK</td>\n",
       "      <td>BLAINE</td>\n",
       "      <td>35</td>\n",
       "      <td>11</td>\n",
       "      <td>Anadarko Region</td>\n",
       "      <td>35011</td>\n",
       "    </tr>\n",
       "    <tr>\n",
       "      <th>4</th>\n",
       "      <td>OK</td>\n",
       "      <td>CADDO</td>\n",
       "      <td>35</td>\n",
       "      <td>15</td>\n",
       "      <td>Anadarko Region</td>\n",
       "      <td>35015</td>\n",
       "    </tr>\n",
       "    <tr>\n",
       "      <th>...</th>\n",
       "      <td>...</td>\n",
       "      <td>...</td>\n",
       "      <td>...</td>\n",
       "      <td>...</td>\n",
       "      <td>...</td>\n",
       "      <td>...</td>\n",
       "    </tr>\n",
       "    <tr>\n",
       "      <th>310</th>\n",
       "      <td>TX</td>\n",
       "      <td>UPTON</td>\n",
       "      <td>48</td>\n",
       "      <td>461</td>\n",
       "      <td>Permian Region</td>\n",
       "      <td>48461</td>\n",
       "    </tr>\n",
       "    <tr>\n",
       "      <th>311</th>\n",
       "      <td>TX</td>\n",
       "      <td>VAL VERDE</td>\n",
       "      <td>48</td>\n",
       "      <td>465</td>\n",
       "      <td>Permian Region</td>\n",
       "      <td>48465</td>\n",
       "    </tr>\n",
       "    <tr>\n",
       "      <th>312</th>\n",
       "      <td>TX</td>\n",
       "      <td>WARD</td>\n",
       "      <td>48</td>\n",
       "      <td>475</td>\n",
       "      <td>Permian Region</td>\n",
       "      <td>48475</td>\n",
       "    </tr>\n",
       "    <tr>\n",
       "      <th>313</th>\n",
       "      <td>TX</td>\n",
       "      <td>WINKLER</td>\n",
       "      <td>48</td>\n",
       "      <td>495</td>\n",
       "      <td>Permian Region</td>\n",
       "      <td>48495</td>\n",
       "    </tr>\n",
       "    <tr>\n",
       "      <th>314</th>\n",
       "      <td>TX</td>\n",
       "      <td>YOAKUM</td>\n",
       "      <td>48</td>\n",
       "      <td>501</td>\n",
       "      <td>Permian Region</td>\n",
       "      <td>48501</td>\n",
       "    </tr>\n",
       "  </tbody>\n",
       "</table>\n",
       "<p>315 rows × 6 columns</p>\n",
       "</div>"
      ],
      "text/plain": [
       "    state     county  stateid  countyid           region  geoid\n",
       "0      OK    ALFALFA       35         3  Anadarko Region  35003\n",
       "1      OK     BEAVER       35         7  Anadarko Region  35007\n",
       "2      OK    BECKHAM       35         9  Anadarko Region  35009\n",
       "3      OK     BLAINE       35        11  Anadarko Region  35011\n",
       "4      OK      CADDO       35        15  Anadarko Region  35015\n",
       "..    ...        ...      ...       ...              ...    ...\n",
       "310    TX      UPTON       48       461   Permian Region  48461\n",
       "311    TX  VAL VERDE       48       465   Permian Region  48465\n",
       "312    TX       WARD       48       475   Permian Region  48475\n",
       "313    TX    WINKLER       48       495   Permian Region  48495\n",
       "314    TX     YOAKUM       48       501   Permian Region  48501\n",
       "\n",
       "[315 rows x 6 columns]"
      ]
     },
     "execution_count": 71,
     "metadata": {},
     "output_type": "execute_result"
    }
   ],
   "source": [
    "eia_cnty = pd.read_excel('../data/input/eia/dpr-data.xlsx', sheet_name='RegionCounties')\n",
    "\n",
    "eia_cnty.columns = [c.lower() for c in eia_cnty.columns]\n",
    "\n",
    "eia_cnty['stateid'] = np.where(\n",
    "    eia_cnty['state'] == 'TX',\n",
    "    48,\n",
    "    eia_cnty['stateid'],\n",
    ")\n",
    "\n",
    "eia_cnty['geoid'] = eia_cnty['stateid'].astype(str).str.zfill(2) + eia_cnty['countyid'].astype(str).str.zfill(3)\n",
    "\n",
    "eia_cnty"
   ]
  },
  {
   "cell_type": "code",
   "execution_count": 72,
   "metadata": {},
   "outputs": [
    {
     "name": "stdout",
     "output_type": "stream",
     "text": [
      "(315, 2)\n"
     ]
    },
    {
     "data": {
      "text/html": [
       "<div>\n",
       "<style scoped>\n",
       "    .dataframe tbody tr th:only-of-type {\n",
       "        vertical-align: middle;\n",
       "    }\n",
       "\n",
       "    .dataframe tbody tr th {\n",
       "        vertical-align: top;\n",
       "    }\n",
       "\n",
       "    .dataframe thead th {\n",
       "        text-align: right;\n",
       "    }\n",
       "</style>\n",
       "<table border=\"1\" class=\"dataframe\">\n",
       "  <thead>\n",
       "    <tr style=\"text-align: right;\">\n",
       "      <th></th>\n",
       "      <th>geoid</th>\n",
       "      <th>region</th>\n",
       "    </tr>\n",
       "  </thead>\n",
       "  <tbody>\n",
       "    <tr>\n",
       "      <th>0</th>\n",
       "      <td>35003</td>\n",
       "      <td>Anadarko Region</td>\n",
       "    </tr>\n",
       "    <tr>\n",
       "      <th>1</th>\n",
       "      <td>35007</td>\n",
       "      <td>Anadarko Region</td>\n",
       "    </tr>\n",
       "    <tr>\n",
       "      <th>2</th>\n",
       "      <td>35009</td>\n",
       "      <td>Anadarko Region</td>\n",
       "    </tr>\n",
       "    <tr>\n",
       "      <th>3</th>\n",
       "      <td>35011</td>\n",
       "      <td>Anadarko Region</td>\n",
       "    </tr>\n",
       "    <tr>\n",
       "      <th>4</th>\n",
       "      <td>35015</td>\n",
       "      <td>Anadarko Region</td>\n",
       "    </tr>\n",
       "    <tr>\n",
       "      <th>...</th>\n",
       "      <td>...</td>\n",
       "      <td>...</td>\n",
       "    </tr>\n",
       "    <tr>\n",
       "      <th>310</th>\n",
       "      <td>48461</td>\n",
       "      <td>Permian Region</td>\n",
       "    </tr>\n",
       "    <tr>\n",
       "      <th>311</th>\n",
       "      <td>48465</td>\n",
       "      <td>Permian Region</td>\n",
       "    </tr>\n",
       "    <tr>\n",
       "      <th>312</th>\n",
       "      <td>48475</td>\n",
       "      <td>Permian Region</td>\n",
       "    </tr>\n",
       "    <tr>\n",
       "      <th>313</th>\n",
       "      <td>48495</td>\n",
       "      <td>Permian Region</td>\n",
       "    </tr>\n",
       "    <tr>\n",
       "      <th>314</th>\n",
       "      <td>48501</td>\n",
       "      <td>Permian Region</td>\n",
       "    </tr>\n",
       "  </tbody>\n",
       "</table>\n",
       "<p>315 rows × 2 columns</p>\n",
       "</div>"
      ],
      "text/plain": [
       "     geoid           region\n",
       "0    35003  Anadarko Region\n",
       "1    35007  Anadarko Region\n",
       "2    35009  Anadarko Region\n",
       "3    35011  Anadarko Region\n",
       "4    35015  Anadarko Region\n",
       "..     ...              ...\n",
       "310  48461   Permian Region\n",
       "311  48465   Permian Region\n",
       "312  48475   Permian Region\n",
       "313  48495   Permian Region\n",
       "314  48501   Permian Region\n",
       "\n",
       "[315 rows x 2 columns]"
      ]
     },
     "execution_count": 72,
     "metadata": {},
     "output_type": "execute_result"
    }
   ],
   "source": [
    "eia_cnty = eia_cnty[['geoid', 'region']].copy()\n",
    "eia_cnty\n",
    "\n",
    "print(eia_cnty.shape)\n",
    "\n",
    "eia_cnty"
   ]
  },
  {
   "cell_type": "code",
   "execution_count": 89,
   "metadata": {},
   "outputs": [
    {
     "data": {
      "text/plain": [
       "statefp      48\n",
       "countyfp     48\n",
       "countyns     48\n",
       "geoid         0\n",
       "name         48\n",
       "namelsad     48\n",
       "lsad         48\n",
       "classfp      48\n",
       "mtfcc        48\n",
       "csafp       229\n",
       "cbsafp      178\n",
       "metdivfp    308\n",
       "funcstat     48\n",
       "aland        48\n",
       "awater       48\n",
       "intptlat     48\n",
       "intptlon     48\n",
       "geometry     48\n",
       "region        0\n",
       "dtype: int64"
      ]
     },
     "execution_count": 89,
     "metadata": {},
     "output_type": "execute_result"
    }
   ],
   "source": [
    "basins = pd.merge(left=census, right=eia_cnty, on='geoid', how='right')\n",
    "\n",
    "basins[['region', 'geoid', 'statefp']].to_csv('../data/input/basins_test.csv', index=False)\n",
    "\n",
    "basins.isnull().sum()\n",
    "\n",
    "# So I'm still missing 48 Basins"
   ]
  },
  {
   "cell_type": "code",
   "execution_count": 85,
   "metadata": {},
   "outputs": [
    {
     "data": {
      "text/plain": [
       "<matplotlib.axes._subplots.AxesSubplot at 0x15b80c350>"
      ]
     },
     "execution_count": 85,
     "metadata": {},
     "output_type": "execute_result"
    },
    {
     "data": {
      "image/png": "[encoded data removed]",
      "text/plain": [
       "<Figure size 432x288 with 1 Axes>"
      ]
     },
     "metadata": {
      "needs_background": "light"
     },
     "output_type": "display_data"
    }
   ],
   "source": [
    "basins.plot(basins['region'])"
   ]
  },
  {
   "cell_type": "code",
   "execution_count": 116,
   "metadata": {},
   "outputs": [],
   "source": [
    "texas = census[census['statefp'] == '42']\n",
    "\n",
    "# TEXAS FID's are incorrect\n",
    "\n",
    "# READ EIA DOCUMENTATION ABOUT STATE CODES\n"
   ]
  },
  {
   "cell_type": "code",
   "execution_count": 117,
   "metadata": {},
   "outputs": [
    {
     "data": {
      "text/plain": [
       "<matplotlib.axes._subplots.AxesSubplot at 0x159c0ac90>"
      ]
     },
     "execution_count": 117,
     "metadata": {},
     "output_type": "execute_result"
    },
    {
     "data": {
      "image/png": "[encoded data removed]",
      "text/plain": [
       "<Figure size 432x288 with 1 Axes>"
      ]
     },
     "metadata": {
      "needs_background": "light"
     },
     "output_type": "display_data"
    }
   ],
   "source": [
    "texas_basins = basins[basins['statefp'] == '48']\n",
    "texas_basins.plot(texas_basins['region'])"
   ]
  },
  {
   "cell_type": "code",
   "execution_count": 76,
   "metadata": {},
   "outputs": [
    {
     "data": {
      "text/html": [
       "<div>\n",
       "<style scoped>\n",
       "    .dataframe tbody tr th:only-of-type {\n",
       "        vertical-align: middle;\n",
       "    }\n",
       "\n",
       "    .dataframe tbody tr th {\n",
       "        vertical-align: top;\n",
       "    }\n",
       "\n",
       "    .dataframe thead th {\n",
       "        text-align: right;\n",
       "    }\n",
       "</style>\n",
       "<table border=\"1\" class=\"dataframe\">\n",
       "  <thead>\n",
       "    <tr style=\"text-align: right;\">\n",
       "      <th></th>\n",
       "      <th>aland</th>\n",
       "      <th>awater</th>\n",
       "    </tr>\n",
       "  </thead>\n",
       "  <tbody>\n",
       "    <tr>\n",
       "      <th>count</th>\n",
       "      <td>3.233000e+03</td>\n",
       "      <td>3.233000e+03</td>\n",
       "    </tr>\n",
       "    <tr>\n",
       "      <th>mean</th>\n",
       "      <td>2.832999e+09</td>\n",
       "      <td>2.262071e+08</td>\n",
       "    </tr>\n",
       "    <tr>\n",
       "      <th>std</th>\n",
       "      <td>9.239455e+09</td>\n",
       "      <td>1.366531e+09</td>\n",
       "    </tr>\n",
       "    <tr>\n",
       "      <th>min</th>\n",
       "      <td>8.209300e+04</td>\n",
       "      <td>0.000000e+00</td>\n",
       "    </tr>\n",
       "    <tr>\n",
       "      <th>25%</th>\n",
       "      <td>1.078539e+09</td>\n",
       "      <td>7.047471e+06</td>\n",
       "    </tr>\n",
       "    <tr>\n",
       "      <th>50%</th>\n",
       "      <td>1.562337e+09</td>\n",
       "      <td>1.951985e+07</td>\n",
       "    </tr>\n",
       "    <tr>\n",
       "      <th>75%</th>\n",
       "      <td>2.367401e+09</td>\n",
       "      <td>6.202152e+07</td>\n",
       "    </tr>\n",
       "    <tr>\n",
       "      <th>max</th>\n",
       "      <td>3.770309e+11</td>\n",
       "      <td>3.539027e+10</td>\n",
       "    </tr>\n",
       "  </tbody>\n",
       "</table>\n",
       "</div>"
      ],
      "text/plain": [
       "              aland        awater\n",
       "count  3.233000e+03  3.233000e+03\n",
       "mean   2.832999e+09  2.262071e+08\n",
       "std    9.239455e+09  1.366531e+09\n",
       "min    8.209300e+04  0.000000e+00\n",
       "25%    1.078539e+09  7.047471e+06\n",
       "50%    1.562337e+09  1.951985e+07\n",
       "75%    2.367401e+09  6.202152e+07\n",
       "max    3.770309e+11  3.539027e+10"
      ]
     },
     "execution_count": 76,
     "metadata": {},
     "output_type": "execute_result"
    }
   ],
   "source": [
    "census.describe()"
   ]
  },
  {
   "cell_type": "code",
   "execution_count": 77,
   "metadata": {},
   "outputs": [
    {
     "data": {
      "text/plain": [
       "<matplotlib.axes._subplots.AxesSubplot at 0x15794c550>"
      ]
     },
     "execution_count": 77,
     "metadata": {},
     "output_type": "execute_result"
    },
    {
     "data": {
      "image/png": "[encoded data removed]",
      "text/plain": [
       "<Figure size 432x288 with 1 Axes>"
      ]
     },
     "metadata": {
      "needs_background": "light"
     },
     "output_type": "display_data"
    }
   ],
   "source": [
    "texas.plot()"
   ]
  },
  {
   "cell_type": "code",
   "execution_count": 78,
   "metadata": {},
   "outputs": [
    {
     "data": {
      "text/plain": [
       "<matplotlib.axes._subplots.AxesSubplot at 0x15b00c390>"
      ]
     },
     "execution_count": 78,
     "metadata": {},
     "output_type": "execute_result"
    },
    {
     "data": {
      "image/png": "[encoded data removed]",
      "text/plain": [
       "<Figure size 432x288 with 1 Axes>"
      ]
     },
     "metadata": {
      "needs_background": "light"
     },
     "output_type": "display_data"
    }
   ],
   "source": [
    "census.plot()"
   ]
  },
  {
   "cell_type": "code",
   "execution_count": 79,
   "metadata": {},
   "outputs": [
    {
     "data": {
      "text/plain": [
       "48    254\n",
       "13    159\n",
       "51    133\n",
       "21    120\n",
       "29    115\n",
       "20    105\n",
       "17    102\n",
       "37    100\n",
       "19     99\n",
       "47     95\n",
       "31     93\n",
       "18     92\n",
       "39     88\n",
       "27     87\n",
       "26     83\n",
       "28     82\n",
       "72     78\n",
       "40     77\n",
       "05     75\n",
       "55     72\n",
       "01     67\n",
       "42     67\n",
       "12     67\n",
       "46     66\n",
       "22     64\n",
       "08     64\n",
       "36     62\n",
       "06     58\n",
       "30     56\n",
       "54     55\n",
       "38     53\n",
       "45     46\n",
       "16     44\n",
       "53     39\n",
       "41     36\n",
       "35     33\n",
       "49     29\n",
       "02     29\n",
       "24     24\n",
       "56     23\n",
       "34     21\n",
       "32     17\n",
       "23     16\n",
       "04     15\n",
       "25     14\n",
       "50     14\n",
       "33     10\n",
       "09      8\n",
       "44      5\n",
       "60      5\n",
       "15      5\n",
       "69      4\n",
       "78      3\n",
       "10      3\n",
       "66      1\n",
       "11      1\n",
       "Name: statefp, dtype: int64"
      ]
     },
     "execution_count": 79,
     "metadata": {},
     "output_type": "execute_result"
    }
   ],
   "source": [
    "census['statefp'].value_counts() #.sort_index()"
   ]
  },
  {
   "cell_type": "code",
   "execution_count": 80,
   "metadata": {},
   "outputs": [],
   "source": [
    "texas = census[census['statefp'] == '48']\n"
   ]
  },
  {
   "cell_type": "code",
   "execution_count": 81,
   "metadata": {},
   "outputs": [
    {
     "data": {
      "text/plain": [
       "<matplotlib.axes._subplots.AxesSubplot at 0x158f6e690>"
      ]
     },
     "execution_count": 81,
     "metadata": {},
     "output_type": "execute_result"
    },
    {
     "data": {
      "image/png": "[encoded data removed]",
      "text/plain": [
       "<Figure size 432x288 with 1 Axes>"
      ]
     },
     "metadata": {
      "needs_background": "light"
     },
     "output_type": "display_data"
    }
   ],
   "source": [
    "texas.plot()"
   ]
  },
  {
   "cell_type": "code",
   "execution_count": 82,
   "metadata": {},
   "outputs": [
    {
     "data": {
      "text/plain": [
       "(254, 18)"
      ]
     },
     "execution_count": 82,
     "metadata": {},
     "output_type": "execute_result"
    }
   ],
   "source": [
    "texas.shape"
   ]
  },
  {
   "cell_type": "code",
   "execution_count": 83,
   "metadata": {},
   "outputs": [
    {
     "data": {
      "text/plain": [
       "array(['31', '53', '35', '72', '46', '48', '06', '21', '39', '01', '13',\n",
       "       '55', '05', '41', '42', '28', '29', '08', '37', '49', '40', '51',\n",
       "       '47', '56', '54', '22', '36', '26', '18', '25', '20', '16', '12',\n",
       "       '02', '78', '32', '17', '50', '09', '30', '34', '27', '38', '24',\n",
       "       '19', '45', '23', '15', '33', '04', '10', '11', '66', '69', '60',\n",
       "       '44'], dtype=object)"
      ]
     },
     "execution_count": 83,
     "metadata": {},
     "output_type": "execute_result"
    }
   ],
   "source": [
    "census['statefp'].unique()"
   ]
  },
  {
   "cell_type": "code",
   "execution_count": 106,
   "metadata": {},
   "outputs": [
    {
     "data": {
      "text/plain": [
       "<matplotlib.axes._subplots.AxesSubplot at 0x15356f7d0>"
      ]
     },
     "execution_count": 106,
     "metadata": {},
     "output_type": "execute_result"
    },
    {
     "data": {
      "image/png": "[encoded data removed]",
      "text/plain": [
       "<Figure size 432x288 with 1 Axes>"
      ]
     },
     "metadata": {
      "needs_background": "light"
     },
     "output_type": "display_data"
    }
   ],
   "source": [
    "permian_basin = basins[\n",
    "    (basins['region'] == 'Permian Region') & (basins['statefp'] == '48')\n",
    "]\n",
    "#df_gpd.plot()\n",
    "permian_basin.plot()\n"
   ]
  },
  {
   "cell_type": "code",
   "execution_count": null,
   "metadata": {},
   "outputs": [],
   "source": [
    "# Look up Geopandas code for intersect and do here for\n",
    "# permian_basn and df_gpd = viirs_nightfire"
   ]
  },
  {
   "cell_type": "code",
   "execution_count": 107,
   "metadata": {},
   "outputs": [],
   "source": [
    "# Google EIA STATE FIPS CODES???!!!???\n",
    "\n"
   ]
  },
  {
   "cell_type": "markdown",
   "metadata": {},
   "source": [
    "## Creating VIIRS Nightfire Combustion Sources Geographic Aggregation Metrics"
   ]
  },
  {
   "cell_type": "code",
   "execution_count": null,
   "metadata": {},
   "outputs": [],
   "source": [
    "\n",
    "\n"
   ]
  }
 ],
 "metadata": {
  "kernelspec": {
   "display_name": "Python [conda env:dsi] *",
   "language": "python",
   "name": "conda-env-dsi-py"
  },
  "language_info": {
   "codemirror_mode": {
    "name": "ipython",
    "version": 3
   },
   "file_extension": ".py",
   "mimetype": "text/x-python",
   "name": "python",
   "nbconvert_exporter": "python",
   "pygments_lexer": "ipython3",
   "version": "3.7.5"
  },
  "toc": {
   "base_numbering": 1,
   "nav_menu": {},
   "number_sections": false,
   "sideBar": true,
   "skip_h1_title": false,
   "title_cell": "Table of Contents",
   "title_sidebar": "Contents",
   "toc_cell": false,
   "toc_position": {
    "height": "calc(100% - 180px)",
    "left": "10px",
    "top": "150px",
    "width": "165px"
   },
   "toc_section_display": true,
   "toc_window_display": true
  }
 },
 "nbformat": 4,
 "nbformat_minor": 1
}
