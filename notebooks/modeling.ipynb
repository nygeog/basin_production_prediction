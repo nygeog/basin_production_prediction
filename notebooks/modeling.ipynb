{
 "cells": [
  {
   "cell_type": "code",
   "execution_count": 178,
   "metadata": {},
   "outputs": [],
   "source": [
    "import pandas as pd\n",
    "from sklearn.model_selection import train_test_split, cross_val_score\n",
    "from sklearn.linear_model import LinearRegression\n",
    "from sklearn.tree import DecisionTreeRegressor\n",
    "from sklearn.ensemble import RandomForestRegressor\n",
    "from sklearn.ensemble import ExtraTreesRegressor\n",
    "import numpy as np"
   ]
  },
  {
   "cell_type": "code",
   "execution_count": 179,
   "metadata": {},
   "outputs": [
    {
     "data": {
      "text/html": [
       "<div>\n",
       "<style scoped>\n",
       "    .dataframe tbody tr th:only-of-type {\n",
       "        vertical-align: middle;\n",
       "    }\n",
       "\n",
       "    .dataframe tbody tr th {\n",
       "        vertical-align: top;\n",
       "    }\n",
       "\n",
       "    .dataframe thead th {\n",
       "        text-align: right;\n",
       "    }\n",
       "</style>\n",
       "<table border=\"1\" class=\"dataframe\">\n",
       "  <thead>\n",
       "    <tr style=\"text-align: right;\">\n",
       "      <th></th>\n",
       "      <th>region</th>\n",
       "      <th>month_yyyymm</th>\n",
       "      <th>oil_bbl_d_total_production</th>\n",
       "      <th>rig_count</th>\n",
       "      <th>index_right</th>\n",
       "      <th>date_mscan_yyyymm</th>\n",
       "      <th>count_obs</th>\n",
       "      <th>temp_bb_mean</th>\n",
       "      <th>temp_bb_med</th>\n",
       "      <th>temp_bb_sum</th>\n",
       "      <th>temp_bb_min</th>\n",
       "      <th>temp_bb_max</th>\n",
       "    </tr>\n",
       "  </thead>\n",
       "  <tbody>\n",
       "    <tr>\n",
       "      <th>0</th>\n",
       "      <td>Anadarko Region</td>\n",
       "      <td>2007-01</td>\n",
       "      <td>126398.038</td>\n",
       "      <td>176.0</td>\n",
       "      <td>NaN</td>\n",
       "      <td>NaN</td>\n",
       "      <td>NaN</td>\n",
       "      <td>NaN</td>\n",
       "      <td>NaN</td>\n",
       "      <td>NaN</td>\n",
       "      <td>NaN</td>\n",
       "      <td>NaN</td>\n",
       "    </tr>\n",
       "    <tr>\n",
       "      <th>1</th>\n",
       "      <td>Anadarko Region</td>\n",
       "      <td>2007-02</td>\n",
       "      <td>134177.221</td>\n",
       "      <td>180.0</td>\n",
       "      <td>NaN</td>\n",
       "      <td>NaN</td>\n",
       "      <td>NaN</td>\n",
       "      <td>NaN</td>\n",
       "      <td>NaN</td>\n",
       "      <td>NaN</td>\n",
       "      <td>NaN</td>\n",
       "      <td>NaN</td>\n",
       "    </tr>\n",
       "    <tr>\n",
       "      <th>2</th>\n",
       "      <td>Anadarko Region</td>\n",
       "      <td>2007-03</td>\n",
       "      <td>137515.513</td>\n",
       "      <td>166.0</td>\n",
       "      <td>NaN</td>\n",
       "      <td>NaN</td>\n",
       "      <td>NaN</td>\n",
       "      <td>NaN</td>\n",
       "      <td>NaN</td>\n",
       "      <td>NaN</td>\n",
       "      <td>NaN</td>\n",
       "      <td>NaN</td>\n",
       "    </tr>\n",
       "  </tbody>\n",
       "</table>\n",
       "</div>"
      ],
      "text/plain": [
       "            region month_yyyymm  oil_bbl_d_total_production  rig_count  \\\n",
       "0  Anadarko Region      2007-01                  126398.038      176.0   \n",
       "1  Anadarko Region      2007-02                  134177.221      180.0   \n",
       "2  Anadarko Region      2007-03                  137515.513      166.0   \n",
       "\n",
       "  index_right date_mscan_yyyymm  count_obs  temp_bb_mean  temp_bb_med  \\\n",
       "0         NaN               NaN        NaN           NaN          NaN   \n",
       "1         NaN               NaN        NaN           NaN          NaN   \n",
       "2         NaN               NaN        NaN           NaN          NaN   \n",
       "\n",
       "   temp_bb_sum  temp_bb_min  temp_bb_max  \n",
       "0          NaN          NaN          NaN  \n",
       "1          NaN          NaN          NaN  \n",
       "2          NaN          NaN          NaN  "
      ]
     },
     "execution_count": 179,
     "metadata": {},
     "output_type": "execute_result"
    }
   ],
   "source": [
    "wd = '/Users/danielmsheehan/general_assembly/github/projects/project_6/capstone/data/'\n",
    "\n",
    "df = pd.read_csv(f\"{wd}/processing/eia_agg_viirs.csv\")\n",
    "\n",
    "#df = df.replace(999999, np.nan)\n",
    "df.head(3)"
   ]
  },
  {
   "cell_type": "code",
   "execution_count": 180,
   "metadata": {},
   "outputs": [],
   "source": [
    "df = df.loc[df['index_right'].notnull()]"
   ]
  },
  {
   "cell_type": "code",
   "execution_count": 181,
   "metadata": {},
   "outputs": [
    {
     "data": {
      "text/plain": [
       "Index(['region', 'month_yyyymm', 'oil_bbl_d_total_production', 'rig_count',\n",
       "       'index_right', 'date_mscan_yyyymm', 'count_obs', 'temp_bb_mean',\n",
       "       'temp_bb_med', 'temp_bb_sum', 'temp_bb_min', 'temp_bb_max'],\n",
       "      dtype='object')"
      ]
     },
     "execution_count": 181,
     "metadata": {},
     "output_type": "execute_result"
    }
   ],
   "source": [
    "df.columns"
   ]
  },
  {
   "cell_type": "code",
   "execution_count": 182,
   "metadata": {},
   "outputs": [
    {
     "data": {
      "text/html": [
       "<div>\n",
       "<style scoped>\n",
       "    .dataframe tbody tr th:only-of-type {\n",
       "        vertical-align: middle;\n",
       "    }\n",
       "\n",
       "    .dataframe tbody tr th {\n",
       "        vertical-align: top;\n",
       "    }\n",
       "\n",
       "    .dataframe thead th {\n",
       "        text-align: right;\n",
       "    }\n",
       "</style>\n",
       "<table border=\"1\" class=\"dataframe\">\n",
       "  <thead>\n",
       "    <tr style=\"text-align: right;\">\n",
       "      <th></th>\n",
       "      <th>region</th>\n",
       "      <th>month_yyyymm</th>\n",
       "      <th>oil_bbl_d_total_production</th>\n",
       "      <th>rig_count</th>\n",
       "      <th>index_right</th>\n",
       "      <th>date_mscan_yyyymm</th>\n",
       "      <th>count_obs</th>\n",
       "      <th>temp_bb_mean</th>\n",
       "      <th>temp_bb_med</th>\n",
       "      <th>temp_bb_sum</th>\n",
       "      <th>temp_bb_min</th>\n",
       "      <th>temp_bb_max</th>\n",
       "    </tr>\n",
       "  </thead>\n",
       "  <tbody>\n",
       "    <tr>\n",
       "      <th>131</th>\n",
       "      <td>Anadarko Region</td>\n",
       "      <td>2017-12</td>\n",
       "      <td>472219.794</td>\n",
       "      <td>118.0</td>\n",
       "      <td>Anadarko Region</td>\n",
       "      <td>2017-12</td>\n",
       "      <td>296.0</td>\n",
       "      <td>406453.121622</td>\n",
       "      <td>2039.0</td>\n",
       "      <td>120310124.0</td>\n",
       "      <td>800.0</td>\n",
       "      <td>999999.0</td>\n",
       "    </tr>\n",
       "    <tr>\n",
       "      <th>132</th>\n",
       "      <td>Anadarko Region</td>\n",
       "      <td>2018-01</td>\n",
       "      <td>510484.664</td>\n",
       "      <td>116.0</td>\n",
       "      <td>Anadarko Region</td>\n",
       "      <td>2018-01</td>\n",
       "      <td>466.0</td>\n",
       "      <td>410899.948498</td>\n",
       "      <td>2016.0</td>\n",
       "      <td>191479376.0</td>\n",
       "      <td>789.0</td>\n",
       "      <td>999999.0</td>\n",
       "    </tr>\n",
       "    <tr>\n",
       "      <th>133</th>\n",
       "      <td>Anadarko Region</td>\n",
       "      <td>2018-02</td>\n",
       "      <td>516729.421</td>\n",
       "      <td>120.0</td>\n",
       "      <td>Anadarko Region</td>\n",
       "      <td>2018-02</td>\n",
       "      <td>276.0</td>\n",
       "      <td>363413.507246</td>\n",
       "      <td>1964.5</td>\n",
       "      <td>100302128.0</td>\n",
       "      <td>729.0</td>\n",
       "      <td>999999.0</td>\n",
       "    </tr>\n",
       "    <tr>\n",
       "      <th>134</th>\n",
       "      <td>Anadarko Region</td>\n",
       "      <td>2018-03</td>\n",
       "      <td>540726.461</td>\n",
       "      <td>122.0</td>\n",
       "      <td>Anadarko Region</td>\n",
       "      <td>2018-03</td>\n",
       "      <td>386.0</td>\n",
       "      <td>425802.968912</td>\n",
       "      <td>2003.5</td>\n",
       "      <td>164359946.0</td>\n",
       "      <td>822.0</td>\n",
       "      <td>999999.0</td>\n",
       "    </tr>\n",
       "    <tr>\n",
       "      <th>135</th>\n",
       "      <td>Anadarko Region</td>\n",
       "      <td>2018-04</td>\n",
       "      <td>510012.735</td>\n",
       "      <td>126.0</td>\n",
       "      <td>Anadarko Region</td>\n",
       "      <td>2018-04</td>\n",
       "      <td>482.0</td>\n",
       "      <td>330788.970954</td>\n",
       "      <td>1800.5</td>\n",
       "      <td>159440284.0</td>\n",
       "      <td>843.0</td>\n",
       "      <td>999999.0</td>\n",
       "    </tr>\n",
       "  </tbody>\n",
       "</table>\n",
       "</div>"
      ],
      "text/plain": [
       "              region month_yyyymm  oil_bbl_d_total_production  rig_count  \\\n",
       "131  Anadarko Region      2017-12                  472219.794      118.0   \n",
       "132  Anadarko Region      2018-01                  510484.664      116.0   \n",
       "133  Anadarko Region      2018-02                  516729.421      120.0   \n",
       "134  Anadarko Region      2018-03                  540726.461      122.0   \n",
       "135  Anadarko Region      2018-04                  510012.735      126.0   \n",
       "\n",
       "         index_right date_mscan_yyyymm  count_obs   temp_bb_mean  temp_bb_med  \\\n",
       "131  Anadarko Region           2017-12      296.0  406453.121622       2039.0   \n",
       "132  Anadarko Region           2018-01      466.0  410899.948498       2016.0   \n",
       "133  Anadarko Region           2018-02      276.0  363413.507246       1964.5   \n",
       "134  Anadarko Region           2018-03      386.0  425802.968912       2003.5   \n",
       "135  Anadarko Region           2018-04      482.0  330788.970954       1800.5   \n",
       "\n",
       "     temp_bb_sum  temp_bb_min  temp_bb_max  \n",
       "131  120310124.0        800.0     999999.0  \n",
       "132  191479376.0        789.0     999999.0  \n",
       "133  100302128.0        729.0     999999.0  \n",
       "134  164359946.0        822.0     999999.0  \n",
       "135  159440284.0        843.0     999999.0  "
      ]
     },
     "execution_count": 182,
     "metadata": {},
     "output_type": "execute_result"
    }
   ],
   "source": [
    "df.head(5)"
   ]
  },
  {
   "cell_type": "code",
   "execution_count": null,
   "metadata": {},
   "outputs": [],
   "source": []
  },
  {
   "cell_type": "code",
   "execution_count": 183,
   "metadata": {},
   "outputs": [],
   "source": [
    "X = df.drop(columns=[\n",
    "    # 'region', \n",
    "    'month_yyyymm', \n",
    "    'rig_count', \n",
    "    'index_right', \n",
    "    'date_mscan_yyyymm',\n",
    "    'oil_bbl_d_total_production',\n",
    "    'temp_bb_max',\n",
    "])\n",
    "\n",
    "X = pd.get_dummies(X)\n",
    "\n",
    "y = df['oil_bbl_d_total_production']\n",
    "\n",
    "X_train, X_test, y_train, y_test = train_test_split(X, y, random_state=42, test_size=0.30)"
   ]
  },
  {
   "cell_type": "code",
   "execution_count": 184,
   "metadata": {},
   "outputs": [
    {
     "data": {
      "text/html": [
       "<div>\n",
       "<style scoped>\n",
       "    .dataframe tbody tr th:only-of-type {\n",
       "        vertical-align: middle;\n",
       "    }\n",
       "\n",
       "    .dataframe tbody tr th {\n",
       "        vertical-align: top;\n",
       "    }\n",
       "\n",
       "    .dataframe thead th {\n",
       "        text-align: right;\n",
       "    }\n",
       "</style>\n",
       "<table border=\"1\" class=\"dataframe\">\n",
       "  <thead>\n",
       "    <tr style=\"text-align: right;\">\n",
       "      <th></th>\n",
       "      <th>count_obs</th>\n",
       "      <th>temp_bb_mean</th>\n",
       "      <th>temp_bb_med</th>\n",
       "      <th>temp_bb_sum</th>\n",
       "      <th>temp_bb_min</th>\n",
       "      <th>region_Anadarko Region</th>\n",
       "      <th>region_Appalachia Region</th>\n",
       "      <th>region_Bakken Region</th>\n",
       "      <th>region_Eagle Ford Region</th>\n",
       "      <th>region_Haynesville Region</th>\n",
       "      <th>region_Niobrara Region</th>\n",
       "      <th>region_Permian Region</th>\n",
       "    </tr>\n",
       "  </thead>\n",
       "  <tbody>\n",
       "    <tr>\n",
       "      <th>131</th>\n",
       "      <td>296.0</td>\n",
       "      <td>406453.121622</td>\n",
       "      <td>2039.0</td>\n",
       "      <td>1.203101e+08</td>\n",
       "      <td>800.0</td>\n",
       "      <td>1</td>\n",
       "      <td>0</td>\n",
       "      <td>0</td>\n",
       "      <td>0</td>\n",
       "      <td>0</td>\n",
       "      <td>0</td>\n",
       "      <td>0</td>\n",
       "    </tr>\n",
       "    <tr>\n",
       "      <th>132</th>\n",
       "      <td>466.0</td>\n",
       "      <td>410899.948498</td>\n",
       "      <td>2016.0</td>\n",
       "      <td>1.914794e+08</td>\n",
       "      <td>789.0</td>\n",
       "      <td>1</td>\n",
       "      <td>0</td>\n",
       "      <td>0</td>\n",
       "      <td>0</td>\n",
       "      <td>0</td>\n",
       "      <td>0</td>\n",
       "      <td>0</td>\n",
       "    </tr>\n",
       "    <tr>\n",
       "      <th>133</th>\n",
       "      <td>276.0</td>\n",
       "      <td>363413.507246</td>\n",
       "      <td>1964.5</td>\n",
       "      <td>1.003021e+08</td>\n",
       "      <td>729.0</td>\n",
       "      <td>1</td>\n",
       "      <td>0</td>\n",
       "      <td>0</td>\n",
       "      <td>0</td>\n",
       "      <td>0</td>\n",
       "      <td>0</td>\n",
       "      <td>0</td>\n",
       "    </tr>\n",
       "    <tr>\n",
       "      <th>134</th>\n",
       "      <td>386.0</td>\n",
       "      <td>425802.968912</td>\n",
       "      <td>2003.5</td>\n",
       "      <td>1.643599e+08</td>\n",
       "      <td>822.0</td>\n",
       "      <td>1</td>\n",
       "      <td>0</td>\n",
       "      <td>0</td>\n",
       "      <td>0</td>\n",
       "      <td>0</td>\n",
       "      <td>0</td>\n",
       "      <td>0</td>\n",
       "    </tr>\n",
       "    <tr>\n",
       "      <th>135</th>\n",
       "      <td>482.0</td>\n",
       "      <td>330788.970954</td>\n",
       "      <td>1800.5</td>\n",
       "      <td>1.594403e+08</td>\n",
       "      <td>843.0</td>\n",
       "      <td>1</td>\n",
       "      <td>0</td>\n",
       "      <td>0</td>\n",
       "      <td>0</td>\n",
       "      <td>0</td>\n",
       "      <td>0</td>\n",
       "      <td>0</td>\n",
       "    </tr>\n",
       "    <tr>\n",
       "      <th>...</th>\n",
       "      <td>...</td>\n",
       "      <td>...</td>\n",
       "      <td>...</td>\n",
       "      <td>...</td>\n",
       "      <td>...</td>\n",
       "      <td>...</td>\n",
       "      <td>...</td>\n",
       "      <td>...</td>\n",
       "      <td>...</td>\n",
       "      <td>...</td>\n",
       "      <td>...</td>\n",
       "      <td>...</td>\n",
       "    </tr>\n",
       "    <tr>\n",
       "      <th>1107</th>\n",
       "      <td>9827.0</td>\n",
       "      <td>239137.155490</td>\n",
       "      <td>1908.0</td>\n",
       "      <td>2.350001e+09</td>\n",
       "      <td>883.0</td>\n",
       "      <td>0</td>\n",
       "      <td>0</td>\n",
       "      <td>0</td>\n",
       "      <td>0</td>\n",
       "      <td>0</td>\n",
       "      <td>0</td>\n",
       "      <td>1</td>\n",
       "    </tr>\n",
       "    <tr>\n",
       "      <th>1108</th>\n",
       "      <td>9285.0</td>\n",
       "      <td>257075.384060</td>\n",
       "      <td>1928.0</td>\n",
       "      <td>2.386945e+09</td>\n",
       "      <td>737.0</td>\n",
       "      <td>0</td>\n",
       "      <td>0</td>\n",
       "      <td>0</td>\n",
       "      <td>0</td>\n",
       "      <td>0</td>\n",
       "      <td>0</td>\n",
       "      <td>1</td>\n",
       "    </tr>\n",
       "    <tr>\n",
       "      <th>1109</th>\n",
       "      <td>10061.0</td>\n",
       "      <td>242248.776961</td>\n",
       "      <td>1914.0</td>\n",
       "      <td>2.437265e+09</td>\n",
       "      <td>784.0</td>\n",
       "      <td>0</td>\n",
       "      <td>0</td>\n",
       "      <td>0</td>\n",
       "      <td>0</td>\n",
       "      <td>0</td>\n",
       "      <td>0</td>\n",
       "      <td>1</td>\n",
       "    </tr>\n",
       "    <tr>\n",
       "      <th>1110</th>\n",
       "      <td>8973.0</td>\n",
       "      <td>215660.884097</td>\n",
       "      <td>1898.0</td>\n",
       "      <td>1.935125e+09</td>\n",
       "      <td>871.0</td>\n",
       "      <td>0</td>\n",
       "      <td>0</td>\n",
       "      <td>0</td>\n",
       "      <td>0</td>\n",
       "      <td>0</td>\n",
       "      <td>0</td>\n",
       "      <td>1</td>\n",
       "    </tr>\n",
       "    <tr>\n",
       "      <th>1111</th>\n",
       "      <td>6893.0</td>\n",
       "      <td>240937.051792</td>\n",
       "      <td>1911.0</td>\n",
       "      <td>1.660779e+09</td>\n",
       "      <td>710.0</td>\n",
       "      <td>0</td>\n",
       "      <td>0</td>\n",
       "      <td>0</td>\n",
       "      <td>0</td>\n",
       "      <td>0</td>\n",
       "      <td>0</td>\n",
       "      <td>1</td>\n",
       "    </tr>\n",
       "  </tbody>\n",
       "</table>\n",
       "<p>189 rows × 12 columns</p>\n",
       "</div>"
      ],
      "text/plain": [
       "      count_obs   temp_bb_mean  temp_bb_med   temp_bb_sum  temp_bb_min  \\\n",
       "131       296.0  406453.121622       2039.0  1.203101e+08        800.0   \n",
       "132       466.0  410899.948498       2016.0  1.914794e+08        789.0   \n",
       "133       276.0  363413.507246       1964.5  1.003021e+08        729.0   \n",
       "134       386.0  425802.968912       2003.5  1.643599e+08        822.0   \n",
       "135       482.0  330788.970954       1800.5  1.594403e+08        843.0   \n",
       "...         ...            ...          ...           ...          ...   \n",
       "1107     9827.0  239137.155490       1908.0  2.350001e+09        883.0   \n",
       "1108     9285.0  257075.384060       1928.0  2.386945e+09        737.0   \n",
       "1109    10061.0  242248.776961       1914.0  2.437265e+09        784.0   \n",
       "1110     8973.0  215660.884097       1898.0  1.935125e+09        871.0   \n",
       "1111     6893.0  240937.051792       1911.0  1.660779e+09        710.0   \n",
       "\n",
       "      region_Anadarko Region  region_Appalachia Region  region_Bakken Region  \\\n",
       "131                        1                         0                     0   \n",
       "132                        1                         0                     0   \n",
       "133                        1                         0                     0   \n",
       "134                        1                         0                     0   \n",
       "135                        1                         0                     0   \n",
       "...                      ...                       ...                   ...   \n",
       "1107                       0                         0                     0   \n",
       "1108                       0                         0                     0   \n",
       "1109                       0                         0                     0   \n",
       "1110                       0                         0                     0   \n",
       "1111                       0                         0                     0   \n",
       "\n",
       "      region_Eagle Ford Region  region_Haynesville Region  \\\n",
       "131                          0                          0   \n",
       "132                          0                          0   \n",
       "133                          0                          0   \n",
       "134                          0                          0   \n",
       "135                          0                          0   \n",
       "...                        ...                        ...   \n",
       "1107                         0                          0   \n",
       "1108                         0                          0   \n",
       "1109                         0                          0   \n",
       "1110                         0                          0   \n",
       "1111                         0                          0   \n",
       "\n",
       "      region_Niobrara Region  region_Permian Region  \n",
       "131                        0                      0  \n",
       "132                        0                      0  \n",
       "133                        0                      0  \n",
       "134                        0                      0  \n",
       "135                        0                      0  \n",
       "...                      ...                    ...  \n",
       "1107                       0                      1  \n",
       "1108                       0                      1  \n",
       "1109                       0                      1  \n",
       "1110                       0                      1  \n",
       "1111                       0                      1  \n",
       "\n",
       "[189 rows x 12 columns]"
      ]
     },
     "execution_count": 184,
     "metadata": {},
     "output_type": "execute_result"
    }
   ],
   "source": [
    "X"
   ]
  },
  {
   "cell_type": "code",
   "execution_count": 200,
   "metadata": {},
   "outputs": [
    {
     "data": {
      "text/plain": [
       "LinearRegression(copy_X=True, fit_intercept=True, n_jobs=None, normalize=False)"
      ]
     },
     "execution_count": 200,
     "metadata": {},
     "output_type": "execute_result"
    }
   ],
   "source": [
    "model = LinearRegression()\n",
    "model.fit(X_train, y_train)"
   ]
  },
  {
   "cell_type": "code",
   "execution_count": 201,
   "metadata": {},
   "outputs": [
    {
     "data": {
      "text/plain": [
       "0.9827862933738591"
      ]
     },
     "execution_count": 201,
     "metadata": {},
     "output_type": "execute_result"
    }
   ],
   "source": [
    "model.score(X_train, y_train)"
   ]
  },
  {
   "cell_type": "code",
   "execution_count": 202,
   "metadata": {},
   "outputs": [
    {
     "data": {
      "text/plain": [
       "0.9374240737547508"
      ]
     },
     "execution_count": 202,
     "metadata": {},
     "output_type": "execute_result"
    }
   ],
   "source": [
    "model.score(X_test, y_test)"
   ]
  },
  {
   "cell_type": "code",
   "execution_count": 203,
   "metadata": {},
   "outputs": [
    {
     "data": {
      "text/plain": [
       "0.7947059748236273"
      ]
     },
     "execution_count": 203,
     "metadata": {},
     "output_type": "execute_result"
    }
   ],
   "source": [
    "cross_val_score(model, X_test, y_test, cv=5).mean()"
   ]
  },
  {
   "cell_type": "code",
   "execution_count": 204,
   "metadata": {},
   "outputs": [
    {
     "data": {
      "text/plain": [
       "RandomForestRegressor(bootstrap=True, ccp_alpha=0.0, criterion='mse',\n",
       "                      max_depth=None, max_features='auto', max_leaf_nodes=None,\n",
       "                      max_samples=None, min_impurity_decrease=0.0,\n",
       "                      min_impurity_split=None, min_samples_leaf=1,\n",
       "                      min_samples_split=2, min_weight_fraction_leaf=0.0,\n",
       "                      n_estimators=100, n_jobs=None, oob_score=False,\n",
       "                      random_state=42, verbose=0, warm_start=False)"
      ]
     },
     "execution_count": 204,
     "metadata": {},
     "output_type": "execute_result"
    }
   ],
   "source": [
    "regressor = RandomForestRegressor(random_state=42)\n",
    "\n",
    "regressor.fit(X_train, y_train)"
   ]
  },
  {
   "cell_type": "code",
   "execution_count": 205,
   "metadata": {},
   "outputs": [
    {
     "data": {
      "text/plain": [
       "0.9965917299112856"
      ]
     },
     "execution_count": 205,
     "metadata": {},
     "output_type": "execute_result"
    }
   ],
   "source": [
    "regressor.score(X_train, y_train)"
   ]
  },
  {
   "cell_type": "code",
   "execution_count": 206,
   "metadata": {},
   "outputs": [
    {
     "data": {
      "text/plain": [
       "0.9638103994392829"
      ]
     },
     "execution_count": 206,
     "metadata": {},
     "output_type": "execute_result"
    }
   ],
   "source": [
    "regressor.score(X_test, y_test)"
   ]
  },
  {
   "cell_type": "code",
   "execution_count": 207,
   "metadata": {},
   "outputs": [
    {
     "data": {
      "text/plain": [
       "array([-1.17643805, -4.10718026,  0.26943462, -0.51100287])"
      ]
     },
     "execution_count": 207,
     "metadata": {},
     "output_type": "execute_result"
    }
   ],
   "source": [
    "cross_val_score(regressor, X, y, cv=4)"
   ]
  },
  {
   "cell_type": "code",
   "execution_count": 208,
   "metadata": {},
   "outputs": [
    {
     "data": {
      "text/plain": [
       "(132, 12)"
      ]
     },
     "execution_count": 208,
     "metadata": {},
     "output_type": "execute_result"
    }
   ],
   "source": [
    "X_train.shape"
   ]
  },
  {
   "cell_type": "code",
   "execution_count": 209,
   "metadata": {},
   "outputs": [
    {
     "data": {
      "text/plain": [
       "(57, 12)"
      ]
     },
     "execution_count": 209,
     "metadata": {},
     "output_type": "execute_result"
    }
   ],
   "source": [
    "X_test.shape"
   ]
  },
  {
   "cell_type": "code",
   "execution_count": 210,
   "metadata": {},
   "outputs": [
    {
     "data": {
      "text/plain": [
       "ExtraTreesRegressor(bootstrap=False, ccp_alpha=0.0, criterion='mse',\n",
       "                    max_depth=None, max_features='auto', max_leaf_nodes=None,\n",
       "                    max_samples=None, min_impurity_decrease=0.0,\n",
       "                    min_impurity_split=None, min_samples_leaf=1,\n",
       "                    min_samples_split=2, min_weight_fraction_leaf=0.0,\n",
       "                    n_estimators=500, n_jobs=None, oob_score=False,\n",
       "                    random_state=42, verbose=0, warm_start=False)"
      ]
     },
     "execution_count": 210,
     "metadata": {},
     "output_type": "execute_result"
    }
   ],
   "source": [
    "extratrees = ExtraTreesRegressor(random_state=42, n_estimators=500)\n",
    "\n",
    "extratrees.fit(X_train, y_train)"
   ]
  },
  {
   "cell_type": "code",
   "execution_count": 211,
   "metadata": {},
   "outputs": [
    {
     "data": {
      "text/plain": [
       "0.9999999988554754"
      ]
     },
     "execution_count": 211,
     "metadata": {},
     "output_type": "execute_result"
    }
   ],
   "source": [
    "extratrees.score(X_train, y_train)"
   ]
  },
  {
   "cell_type": "code",
   "execution_count": 212,
   "metadata": {},
   "outputs": [
    {
     "data": {
      "text/plain": [
       "0.9614768164955704"
      ]
     },
     "execution_count": 212,
     "metadata": {},
     "output_type": "execute_result"
    }
   ],
   "source": [
    "extratrees.score(X_test, y_test)"
   ]
  },
  {
   "cell_type": "code",
   "execution_count": 220,
   "metadata": {},
   "outputs": [
    {
     "data": {
      "text/plain": [
       "0.9657264770012294"
      ]
     },
     "execution_count": 220,
     "metadata": {},
     "output_type": "execute_result"
    }
   ],
   "source": [
    "cross_val_score(extratrees, X_test, y_test, cv=4).mean()"
   ]
  },
  {
   "cell_type": "code",
   "execution_count": 221,
   "metadata": {},
   "outputs": [],
   "source": [
    "from sklearn.model_selection import cross_val_predict\n",
    "import matplotlib.pyplot as plt\n",
    "import seaborn as sns"
   ]
  },
  {
   "cell_type": "code",
   "execution_count": 263,
   "metadata": {},
   "outputs": [
    {
     "name": "stdout",
     "output_type": "stream",
     "text": [
      "{'Anadarko Region': (0.4, 0.7607843137254902, 0.6470588235294118), 'Appalachia Region': (0.9882352941176471, 0.5529411764705883, 0.3843137254901961), 'Bakken Region': (0.5529411764705883, 0.6274509803921569, 0.796078431372549), 'Eagle Ford Region': (0.9058823529411765, 0.5411764705882353, 0.7647058823529411), 'Haynesville Region': (0.6509803921568628, 0.8470588235294118, 0.32941176470588235), 'Niobrara Region': (1.0, 0.8509803921568627, 0.1843137254901961), 'Permian Region': (0.8980392156862745, 0.7686274509803922, 0.5803921568627451)}\n"
     ]
    },
    {
     "data": {
      "image/png": "[encoded data removed]",
      "text/plain": [
       "<Figure size 576x576 with 1 Axes>"
      ]
     },
     "metadata": {},
     "output_type": "display_data"
    }
   ],
   "source": [
    "predicted = cross_val_predict(model, X, y, cv=10)\n",
    "\n",
    "color_labels = df['region'].unique()\n",
    "# print(color_labels)\n",
    "# List of RGB triplets\n",
    "rgb_values = sns.color_palette(\"Set2\", 8)\n",
    "\n",
    "# Map label to RGB\n",
    "color_map = dict(zip(color_labels, rgb_values))\n",
    "\n",
    "print(color_map)\n",
    "\n",
    "plt.figure(figsize=(8, 8))\n",
    "# fig, ax = plt.subplots()\n",
    "plt.scatter(y, predicted, edgecolors=(0, 0, 0), c=df['region'].map(color_map))\n",
    "plt.plot([y.min(), y.max()], [y.min(), y.max()], 'k--', lw=4)\n",
    "#ax.set_xlabel('Measured')\n",
    "#ax.set_ylabel('Predicted')\n",
    "#plt.legend()\n",
    "plt.show()"
   ]
  },
  {
   "cell_type": "code",
   "execution_count": 230,
   "metadata": {},
   "outputs": [],
   "source": [
    "resids = y - predicted"
   ]
  },
  {
   "cell_type": "code",
   "execution_count": 260,
   "metadata": {},
   "outputs": [
    {
     "data": {
      "text/plain": [
       "<matplotlib.lines.Line2D at 0x1213a3750>"
      ]
     },
     "execution_count": 260,
     "metadata": {},
     "output_type": "execute_result"
    },
    {
     "data": {
      "image/png": "[encoded data removed]",
      "text/plain": [
       "<Figure size 576x576 with 1 Axes>"
      ]
     },
     "metadata": {},
     "output_type": "display_data"
    }
   ],
   "source": [
    "# Normality of residuals assumption\n",
    "plt.figure(figsize=(8, 8))\n",
    "\n",
    "plt.hist(resids, bins=25);\n",
    "plt.axvline(0, color='red')"
   ]
  },
  {
   "cell_type": "code",
   "execution_count": 248,
   "metadata": {},
   "outputs": [
    {
     "data": {
      "text/plain": [
       "{'Anadarko Region': (0.4, 0.7607843137254902, 0.6470588235294118),\n",
       " 'Appalachia Region': (0.9882352941176471,\n",
       "  0.5529411764705883,\n",
       "  0.3843137254901961),\n",
       " 'Bakken Region': (0.5529411764705883, 0.6274509803921569, 0.796078431372549),\n",
       " 'Eagle Ford Region': (0.9058823529411765,\n",
       "  0.5411764705882353,\n",
       "  0.7647058823529411),\n",
       " 'Haynesville Region': (0.6509803921568628,\n",
       "  0.8470588235294118,\n",
       "  0.32941176470588235),\n",
       " 'Niobrara Region': (1.0, 0.8509803921568627, 0.1843137254901961),\n",
       " 'Permian Region': (0.8980392156862745,\n",
       "  0.7686274509803922,\n",
       "  0.5803921568627451)}"
      ]
     },
     "execution_count": 248,
     "metadata": {},
     "output_type": "execute_result"
    }
   ],
   "source": [
    "color_map"
   ]
  },
  {
   "cell_type": "code",
   "execution_count": 259,
   "metadata": {},
   "outputs": [],
   "source": [
    "#{k, v for k, v in color_map.items()]"
   ]
  },
  {
   "cell_type": "code",
   "execution_count": 257,
   "metadata": {},
   "outputs": [
    {
     "data": {
      "image/png": "[encoded data removed]",
      "text/plain": [
       "<Figure size 576x576 with 1 Axes>"
      ]
     },
     "metadata": {},
     "output_type": "display_data"
    }
   ],
   "source": [
    "plt.figure(figsize=(8, 8))\n",
    "\n",
    "plt.scatter(predicted, resids, edgecolors='black', c=df['region'].map(color_map))\n",
    "\n",
    "#legend_elements = [Patch(facecolor='orange', edgecolor='r', label='Color Patch')]\n",
    "#plt.legend(handles=color_map)\n",
    "plt.axhline(0, color='red');"
   ]
  },
  {
   "cell_type": "code",
   "execution_count": null,
   "metadata": {},
   "outputs": [],
   "source": []
  }
 ],
 "metadata": {
  "kernelspec": {
   "display_name": "Python [conda env:dsi] *",
   "language": "python",
   "name": "conda-env-dsi-py"
  },
  "language_info": {
   "codemirror_mode": {
    "name": "ipython",
    "version": 3
   },
   "file_extension": ".py",
   "mimetype": "text/x-python",
   "name": "python",
   "nbconvert_exporter": "python",
   "pygments_lexer": "ipython3",
   "version": "3.7.5"
  },
  "toc": {
   "base_numbering": 1,
   "nav_menu": {},
   "number_sections": true,
   "sideBar": true,
   "skip_h1_title": false,
   "title_cell": "Table of Contents",
   "title_sidebar": "Contents",
   "toc_cell": false,
   "toc_position": {},
   "toc_section_display": true,
   "toc_window_display": false
  }
 },
 "nbformat": 4,
 "nbformat_minor": 2
}
