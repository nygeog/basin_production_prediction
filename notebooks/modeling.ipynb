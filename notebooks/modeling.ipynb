{
 "cells": [
  {
   "cell_type": "code",
   "execution_count": 175,
   "metadata": {},
   "outputs": [],
   "source": [
    "import pandas as pd\n",
    "from sklearn.model_selection import train_test_split, cross_val_score\n",
    "from sklearn.linear_model import LinearRegression\n",
    "from sklearn.tree import DecisionTreeRegressor\n",
    "from sklearn.ensemble import RandomForestRegressor\n",
    "from sklearn.ensemble import ExtraTreesRegressor\n",
    "import numpy as np\n",
    "import datetime as dt\n"
   ]
  },
  {
   "cell_type": "code",
   "execution_count": 246,
   "metadata": {},
   "outputs": [
    {
     "data": {
      "text/html": [
       "<div>\n",
       "<style scoped>\n",
       "    .dataframe tbody tr th:only-of-type {\n",
       "        vertical-align: middle;\n",
       "    }\n",
       "\n",
       "    .dataframe tbody tr th {\n",
       "        vertical-align: top;\n",
       "    }\n",
       "\n",
       "    .dataframe thead th {\n",
       "        text-align: right;\n",
       "    }\n",
       "</style>\n",
       "<table border=\"1\" class=\"dataframe\">\n",
       "  <thead>\n",
       "    <tr style=\"text-align: right;\">\n",
       "      <th></th>\n",
       "      <th>year_month</th>\n",
       "      <th>region</th>\n",
       "      <th>obs_day_cnt_avg</th>\n",
       "      <th>obs_day_cnt_med</th>\n",
       "      <th>obs_day_cnt_sum</th>\n",
       "      <th>obs_day_cnt_min</th>\n",
       "      <th>obs_day_cnt_max</th>\n",
       "      <th>qf_fit_day_avg_avg</th>\n",
       "      <th>qf_fit_day_avg_med</th>\n",
       "      <th>qf_fit_day_avg_sum</th>\n",
       "      <th>...</th>\n",
       "      <th>qf_fit_day_min_sum_per_squaremeters</th>\n",
       "      <th>qf_fit_day_min_min_per_squaremeters</th>\n",
       "      <th>qf_fit_day_min_max_per_squaremeters</th>\n",
       "      <th>qf_fit_day_max_avg_per_squaremeters</th>\n",
       "      <th>qf_fit_day_max_med_per_squaremeters</th>\n",
       "      <th>qf_fit_day_max_sum_per_squaremeters</th>\n",
       "      <th>qf_fit_day_max_min_per_squaremeters</th>\n",
       "      <th>qf_fit_day_max_max_per_squaremeters</th>\n",
       "      <th>month</th>\n",
       "      <th>oil_bbl_d_total_production</th>\n",
       "    </tr>\n",
       "  </thead>\n",
       "  <tbody>\n",
       "    <tr>\n",
       "      <td>0</td>\n",
       "      <td>2012-03-01</td>\n",
       "      <td>Anadarko Region</td>\n",
       "      <td>13.041667</td>\n",
       "      <td>12.5</td>\n",
       "      <td>313</td>\n",
       "      <td>3</td>\n",
       "      <td>33</td>\n",
       "      <td>4.786164</td>\n",
       "      <td>4.291667</td>\n",
       "      <td>114.867926</td>\n",
       "      <td>...</td>\n",
       "      <td>0.0</td>\n",
       "      <td>0.0</td>\n",
       "      <td>0.0</td>\n",
       "      <td>4.185230e-10</td>\n",
       "      <td>4.505471e-10</td>\n",
       "      <td>1.004455e-08</td>\n",
       "      <td>0.0</td>\n",
       "      <td>7.023235e-10</td>\n",
       "      <td>2012-03-01</td>\n",
       "      <td>254203.561</td>\n",
       "    </tr>\n",
       "    <tr>\n",
       "      <td>1</td>\n",
       "      <td>2012-03-01</td>\n",
       "      <td>Appalachia Region</td>\n",
       "      <td>31.071429</td>\n",
       "      <td>32.0</td>\n",
       "      <td>870</td>\n",
       "      <td>1</td>\n",
       "      <td>86</td>\n",
       "      <td>9.502222</td>\n",
       "      <td>8.966184</td>\n",
       "      <td>266.062205</td>\n",
       "      <td>...</td>\n",
       "      <td>0.0</td>\n",
       "      <td>0.0</td>\n",
       "      <td>0.0</td>\n",
       "      <td>1.925259e-10</td>\n",
       "      <td>1.769157e-10</td>\n",
       "      <td>5.390726e-09</td>\n",
       "      <td>0.0</td>\n",
       "      <td>2.757804e-10</td>\n",
       "      <td>2012-03-01</td>\n",
       "      <td>32000.000</td>\n",
       "    </tr>\n",
       "    <tr>\n",
       "      <td>2</td>\n",
       "      <td>2012-03-01</td>\n",
       "      <td>Bakken Region</td>\n",
       "      <td>260.321429</td>\n",
       "      <td>249.0</td>\n",
       "      <td>7289</td>\n",
       "      <td>2</td>\n",
       "      <td>571</td>\n",
       "      <td>1.497039</td>\n",
       "      <td>1.500962</td>\n",
       "      <td>41.917086</td>\n",
       "      <td>...</td>\n",
       "      <td>0.0</td>\n",
       "      <td>0.0</td>\n",
       "      <td>0.0</td>\n",
       "      <td>2.919411e-10</td>\n",
       "      <td>3.725575e-10</td>\n",
       "      <td>8.174350e-09</td>\n",
       "      <td>0.0</td>\n",
       "      <td>5.807514e-10</td>\n",
       "      <td>2012-03-01</td>\n",
       "      <td>595203.806</td>\n",
       "    </tr>\n",
       "  </tbody>\n",
       "</table>\n",
       "<p>3 rows × 65 columns</p>\n",
       "</div>"
      ],
      "text/plain": [
       "   year_month             region  obs_day_cnt_avg  obs_day_cnt_med  \\\n",
       "0  2012-03-01    Anadarko Region        13.041667             12.5   \n",
       "1  2012-03-01  Appalachia Region        31.071429             32.0   \n",
       "2  2012-03-01      Bakken Region       260.321429            249.0   \n",
       "\n",
       "   obs_day_cnt_sum  obs_day_cnt_min  obs_day_cnt_max  qf_fit_day_avg_avg  \\\n",
       "0              313                3               33            4.786164   \n",
       "1              870                1               86            9.502222   \n",
       "2             7289                2              571            1.497039   \n",
       "\n",
       "   qf_fit_day_avg_med  qf_fit_day_avg_sum  ...  \\\n",
       "0            4.291667          114.867926  ...   \n",
       "1            8.966184          266.062205  ...   \n",
       "2            1.500962           41.917086  ...   \n",
       "\n",
       "   qf_fit_day_min_sum_per_squaremeters  qf_fit_day_min_min_per_squaremeters  \\\n",
       "0                                  0.0                                  0.0   \n",
       "1                                  0.0                                  0.0   \n",
       "2                                  0.0                                  0.0   \n",
       "\n",
       "   qf_fit_day_min_max_per_squaremeters  qf_fit_day_max_avg_per_squaremeters  \\\n",
       "0                                  0.0                         4.185230e-10   \n",
       "1                                  0.0                         1.925259e-10   \n",
       "2                                  0.0                         2.919411e-10   \n",
       "\n",
       "   qf_fit_day_max_med_per_squaremeters  qf_fit_day_max_sum_per_squaremeters  \\\n",
       "0                         4.505471e-10                         1.004455e-08   \n",
       "1                         1.769157e-10                         5.390726e-09   \n",
       "2                         3.725575e-10                         8.174350e-09   \n",
       "\n",
       "   qf_fit_day_max_min_per_squaremeters  qf_fit_day_max_max_per_squaremeters  \\\n",
       "0                                  0.0                         7.023235e-10   \n",
       "1                                  0.0                         2.757804e-10   \n",
       "2                                  0.0                         5.807514e-10   \n",
       "\n",
       "        month  oil_bbl_d_total_production  \n",
       "0  2012-03-01                  254203.561  \n",
       "1  2012-03-01                   32000.000  \n",
       "2  2012-03-01                  595203.806  \n",
       "\n",
       "[3 rows x 65 columns]"
      ]
     },
     "execution_count": 246,
     "metadata": {},
     "output_type": "execute_result"
    }
   ],
   "source": [
    "wd = '/Users/danielmsheehan/general_assembly/github/projects/project_6/capstone/data/'\n",
    "\n",
    "df = pd.read_csv(f\"{wd}/processing/basin_int_viirs_for_modeling.csv\")\n",
    "#df = df[df['region'] == 'Permian Region']  # select just permian basin\n",
    "df.head(3)"
   ]
  },
  {
   "cell_type": "code",
   "execution_count": 247,
   "metadata": {},
   "outputs": [],
   "source": [
    "# df = df.loc[df['index_right'].notnull()]\n",
    "df['epochtime'] = (pd.to_datetime(df['year_month']) - dt.datetime(1970,1,1)).dt.total_seconds()"
   ]
  },
  {
   "cell_type": "code",
   "execution_count": 281,
   "metadata": {},
   "outputs": [],
   "source": [
    "####\n",
    "# CREATE A SEP. YEAR COLUMN AND SEP MONTH COLUMN. \n",
    "#### "
   ]
  },
  {
   "cell_type": "code",
   "execution_count": 282,
   "metadata": {},
   "outputs": [
    {
     "data": {
      "text/plain": [
       "year_month                              object\n",
       "region                                  object\n",
       "obs_day_cnt_avg                        float64\n",
       "obs_day_cnt_med                        float64\n",
       "obs_day_cnt_sum                          int64\n",
       "                                        ...   \n",
       "qf_fit_day_max_min_per_squaremeters    float64\n",
       "qf_fit_day_max_max_per_squaremeters    float64\n",
       "month                                   object\n",
       "oil_bbl_d_total_production             float64\n",
       "epochtime                              float64\n",
       "Length: 66, dtype: object"
      ]
     },
     "execution_count": 282,
     "metadata": {},
     "output_type": "execute_result"
    }
   ],
   "source": [
    "df.dtypes"
   ]
  },
  {
   "cell_type": "code",
   "execution_count": 250,
   "metadata": {},
   "outputs": [
    {
     "data": {
      "text/html": [
       "<div>\n",
       "<style scoped>\n",
       "    .dataframe tbody tr th:only-of-type {\n",
       "        vertical-align: middle;\n",
       "    }\n",
       "\n",
       "    .dataframe tbody tr th {\n",
       "        vertical-align: top;\n",
       "    }\n",
       "\n",
       "    .dataframe thead th {\n",
       "        text-align: right;\n",
       "    }\n",
       "</style>\n",
       "<table border=\"1\" class=\"dataframe\">\n",
       "  <thead>\n",
       "    <tr style=\"text-align: right;\">\n",
       "      <th></th>\n",
       "      <th>year_month</th>\n",
       "      <th>region</th>\n",
       "      <th>obs_day_cnt_avg</th>\n",
       "      <th>obs_day_cnt_med</th>\n",
       "      <th>obs_day_cnt_sum</th>\n",
       "      <th>obs_day_cnt_min</th>\n",
       "      <th>obs_day_cnt_max</th>\n",
       "      <th>qf_fit_day_avg_avg</th>\n",
       "      <th>qf_fit_day_avg_med</th>\n",
       "      <th>qf_fit_day_avg_sum</th>\n",
       "      <th>...</th>\n",
       "      <th>qf_fit_day_min_min_per_squaremeters</th>\n",
       "      <th>qf_fit_day_min_max_per_squaremeters</th>\n",
       "      <th>qf_fit_day_max_avg_per_squaremeters</th>\n",
       "      <th>qf_fit_day_max_med_per_squaremeters</th>\n",
       "      <th>qf_fit_day_max_sum_per_squaremeters</th>\n",
       "      <th>qf_fit_day_max_min_per_squaremeters</th>\n",
       "      <th>qf_fit_day_max_max_per_squaremeters</th>\n",
       "      <th>month</th>\n",
       "      <th>oil_bbl_d_total_production</th>\n",
       "      <th>epochtime</th>\n",
       "    </tr>\n",
       "  </thead>\n",
       "  <tbody>\n",
       "    <tr>\n",
       "      <td>0</td>\n",
       "      <td>2012-03-01</td>\n",
       "      <td>Anadarko Region</td>\n",
       "      <td>13.041667</td>\n",
       "      <td>12.5</td>\n",
       "      <td>313</td>\n",
       "      <td>3</td>\n",
       "      <td>33</td>\n",
       "      <td>4.786164</td>\n",
       "      <td>4.291667</td>\n",
       "      <td>114.867926</td>\n",
       "      <td>...</td>\n",
       "      <td>0.0</td>\n",
       "      <td>0.000000e+00</td>\n",
       "      <td>4.185230e-10</td>\n",
       "      <td>4.505471e-10</td>\n",
       "      <td>1.004455e-08</td>\n",
       "      <td>0.0</td>\n",
       "      <td>7.023235e-10</td>\n",
       "      <td>2012-03-01</td>\n",
       "      <td>254203.5610</td>\n",
       "      <td>1.330560e+09</td>\n",
       "    </tr>\n",
       "    <tr>\n",
       "      <td>1</td>\n",
       "      <td>2012-03-01</td>\n",
       "      <td>Appalachia Region</td>\n",
       "      <td>31.071429</td>\n",
       "      <td>32.0</td>\n",
       "      <td>870</td>\n",
       "      <td>1</td>\n",
       "      <td>86</td>\n",
       "      <td>9.502222</td>\n",
       "      <td>8.966184</td>\n",
       "      <td>266.062205</td>\n",
       "      <td>...</td>\n",
       "      <td>0.0</td>\n",
       "      <td>0.000000e+00</td>\n",
       "      <td>1.925259e-10</td>\n",
       "      <td>1.769157e-10</td>\n",
       "      <td>5.390726e-09</td>\n",
       "      <td>0.0</td>\n",
       "      <td>2.757804e-10</td>\n",
       "      <td>2012-03-01</td>\n",
       "      <td>32000.0000</td>\n",
       "      <td>1.330560e+09</td>\n",
       "    </tr>\n",
       "    <tr>\n",
       "      <td>2</td>\n",
       "      <td>2012-03-01</td>\n",
       "      <td>Bakken Region</td>\n",
       "      <td>260.321429</td>\n",
       "      <td>249.0</td>\n",
       "      <td>7289</td>\n",
       "      <td>2</td>\n",
       "      <td>571</td>\n",
       "      <td>1.497039</td>\n",
       "      <td>1.500962</td>\n",
       "      <td>41.917086</td>\n",
       "      <td>...</td>\n",
       "      <td>0.0</td>\n",
       "      <td>0.000000e+00</td>\n",
       "      <td>2.919411e-10</td>\n",
       "      <td>3.725575e-10</td>\n",
       "      <td>8.174350e-09</td>\n",
       "      <td>0.0</td>\n",
       "      <td>5.807514e-10</td>\n",
       "      <td>2012-03-01</td>\n",
       "      <td>595203.8060</td>\n",
       "      <td>1.330560e+09</td>\n",
       "    </tr>\n",
       "    <tr>\n",
       "      <td>3</td>\n",
       "      <td>2012-03-01</td>\n",
       "      <td>Eagle Ford Region</td>\n",
       "      <td>48.538462</td>\n",
       "      <td>30.0</td>\n",
       "      <td>1262</td>\n",
       "      <td>1</td>\n",
       "      <td>209</td>\n",
       "      <td>1.046799</td>\n",
       "      <td>0.374157</td>\n",
       "      <td>27.216779</td>\n",
       "      <td>...</td>\n",
       "      <td>0.0</td>\n",
       "      <td>0.000000e+00</td>\n",
       "      <td>2.060932e-10</td>\n",
       "      <td>1.548677e-11</td>\n",
       "      <td>5.358424e-09</td>\n",
       "      <td>0.0</td>\n",
       "      <td>8.207991e-10</td>\n",
       "      <td>2012-03-01</td>\n",
       "      <td>506707.6120</td>\n",
       "      <td>1.330560e+09</td>\n",
       "    </tr>\n",
       "    <tr>\n",
       "      <td>4</td>\n",
       "      <td>2012-03-01</td>\n",
       "      <td>Haynesville Region</td>\n",
       "      <td>4.476190</td>\n",
       "      <td>2.0</td>\n",
       "      <td>94</td>\n",
       "      <td>1</td>\n",
       "      <td>15</td>\n",
       "      <td>8.188339</td>\n",
       "      <td>0.000000</td>\n",
       "      <td>171.955128</td>\n",
       "      <td>...</td>\n",
       "      <td>0.0</td>\n",
       "      <td>6.966864e-10</td>\n",
       "      <td>3.180949e-10</td>\n",
       "      <td>0.000000e+00</td>\n",
       "      <td>6.679993e-09</td>\n",
       "      <td>0.0</td>\n",
       "      <td>1.086011e-09</td>\n",
       "      <td>2012-03-01</td>\n",
       "      <td>52698.2258</td>\n",
       "      <td>1.330560e+09</td>\n",
       "    </tr>\n",
       "  </tbody>\n",
       "</table>\n",
       "<p>5 rows × 66 columns</p>\n",
       "</div>"
      ],
      "text/plain": [
       "   year_month              region  obs_day_cnt_avg  obs_day_cnt_med  \\\n",
       "0  2012-03-01     Anadarko Region        13.041667             12.5   \n",
       "1  2012-03-01   Appalachia Region        31.071429             32.0   \n",
       "2  2012-03-01       Bakken Region       260.321429            249.0   \n",
       "3  2012-03-01   Eagle Ford Region        48.538462             30.0   \n",
       "4  2012-03-01  Haynesville Region         4.476190              2.0   \n",
       "\n",
       "   obs_day_cnt_sum  obs_day_cnt_min  obs_day_cnt_max  qf_fit_day_avg_avg  \\\n",
       "0              313                3               33            4.786164   \n",
       "1              870                1               86            9.502222   \n",
       "2             7289                2              571            1.497039   \n",
       "3             1262                1              209            1.046799   \n",
       "4               94                1               15            8.188339   \n",
       "\n",
       "   qf_fit_day_avg_med  qf_fit_day_avg_sum  ...  \\\n",
       "0            4.291667          114.867926  ...   \n",
       "1            8.966184          266.062205  ...   \n",
       "2            1.500962           41.917086  ...   \n",
       "3            0.374157           27.216779  ...   \n",
       "4            0.000000          171.955128  ...   \n",
       "\n",
       "   qf_fit_day_min_min_per_squaremeters  qf_fit_day_min_max_per_squaremeters  \\\n",
       "0                                  0.0                         0.000000e+00   \n",
       "1                                  0.0                         0.000000e+00   \n",
       "2                                  0.0                         0.000000e+00   \n",
       "3                                  0.0                         0.000000e+00   \n",
       "4                                  0.0                         6.966864e-10   \n",
       "\n",
       "   qf_fit_day_max_avg_per_squaremeters  qf_fit_day_max_med_per_squaremeters  \\\n",
       "0                         4.185230e-10                         4.505471e-10   \n",
       "1                         1.925259e-10                         1.769157e-10   \n",
       "2                         2.919411e-10                         3.725575e-10   \n",
       "3                         2.060932e-10                         1.548677e-11   \n",
       "4                         3.180949e-10                         0.000000e+00   \n",
       "\n",
       "   qf_fit_day_max_sum_per_squaremeters  qf_fit_day_max_min_per_squaremeters  \\\n",
       "0                         1.004455e-08                                  0.0   \n",
       "1                         5.390726e-09                                  0.0   \n",
       "2                         8.174350e-09                                  0.0   \n",
       "3                         5.358424e-09                                  0.0   \n",
       "4                         6.679993e-09                                  0.0   \n",
       "\n",
       "   qf_fit_day_max_max_per_squaremeters       month  \\\n",
       "0                         7.023235e-10  2012-03-01   \n",
       "1                         2.757804e-10  2012-03-01   \n",
       "2                         5.807514e-10  2012-03-01   \n",
       "3                         8.207991e-10  2012-03-01   \n",
       "4                         1.086011e-09  2012-03-01   \n",
       "\n",
       "   oil_bbl_d_total_production     epochtime  \n",
       "0                 254203.5610  1.330560e+09  \n",
       "1                  32000.0000  1.330560e+09  \n",
       "2                 595203.8060  1.330560e+09  \n",
       "3                 506707.6120  1.330560e+09  \n",
       "4                  52698.2258  1.330560e+09  \n",
       "\n",
       "[5 rows x 66 columns]"
      ]
     },
     "execution_count": 250,
     "metadata": {},
     "output_type": "execute_result"
    }
   ],
   "source": [
    "df.head(5)"
   ]
  },
  {
   "cell_type": "code",
   "execution_count": null,
   "metadata": {},
   "outputs": [],
   "source": []
  },
  {
   "cell_type": "code",
   "execution_count": 289,
   "metadata": {},
   "outputs": [],
   "source": [
    "X = df.drop(columns=[\n",
    "    # 'region', \n",
    "    #'month_yyyymm', \n",
    "    #'rig_count', \n",
    "    #'index_right', \n",
    "    #'date_mscan_yyyymm',\n",
    "    'oil_bbl_d_total_production',\n",
    "    #'temp_bb_max',\n",
    "    'month',\n",
    "])\n",
    "\n",
    "X = pd.get_dummies(X)\n",
    "\n",
    "y = df['oil_bbl_d_total_production']\n",
    "\n",
    "X_train, X_test, y_train, y_test = train_test_split(X, y, random_state=42, test_size=0.25)"
   ]
  },
  {
   "cell_type": "code",
   "execution_count": 290,
   "metadata": {},
   "outputs": [
    {
     "data": {
      "text/html": [
       "<div>\n",
       "<style scoped>\n",
       "    .dataframe tbody tr th:only-of-type {\n",
       "        vertical-align: middle;\n",
       "    }\n",
       "\n",
       "    .dataframe tbody tr th {\n",
       "        vertical-align: top;\n",
       "    }\n",
       "\n",
       "    .dataframe thead th {\n",
       "        text-align: right;\n",
       "    }\n",
       "</style>\n",
       "<table border=\"1\" class=\"dataframe\">\n",
       "  <thead>\n",
       "    <tr style=\"text-align: right;\">\n",
       "      <th></th>\n",
       "      <th>obs_day_cnt_avg</th>\n",
       "      <th>obs_day_cnt_med</th>\n",
       "      <th>obs_day_cnt_sum</th>\n",
       "      <th>obs_day_cnt_min</th>\n",
       "      <th>obs_day_cnt_max</th>\n",
       "      <th>qf_fit_day_avg_avg</th>\n",
       "      <th>qf_fit_day_avg_med</th>\n",
       "      <th>qf_fit_day_avg_sum</th>\n",
       "      <th>qf_fit_day_avg_min</th>\n",
       "      <th>qf_fit_day_avg_max</th>\n",
       "      <th>...</th>\n",
       "      <th>year_month_2020-01-01</th>\n",
       "      <th>year_month_2020-02-01</th>\n",
       "      <th>year_month_2020-03-01</th>\n",
       "      <th>region_Anadarko Region</th>\n",
       "      <th>region_Appalachia Region</th>\n",
       "      <th>region_Bakken Region</th>\n",
       "      <th>region_Eagle Ford Region</th>\n",
       "      <th>region_Haynesville Region</th>\n",
       "      <th>region_Niobrara Region</th>\n",
       "      <th>region_Permian Region</th>\n",
       "    </tr>\n",
       "  </thead>\n",
       "  <tbody>\n",
       "    <tr>\n",
       "      <td>0</td>\n",
       "      <td>13.041667</td>\n",
       "      <td>12.5</td>\n",
       "      <td>313</td>\n",
       "      <td>3</td>\n",
       "      <td>33</td>\n",
       "      <td>4.786164</td>\n",
       "      <td>4.291667</td>\n",
       "      <td>114.867926</td>\n",
       "      <td>0.000000</td>\n",
       "      <td>15.444444</td>\n",
       "      <td>...</td>\n",
       "      <td>0</td>\n",
       "      <td>0</td>\n",
       "      <td>0</td>\n",
       "      <td>1</td>\n",
       "      <td>0</td>\n",
       "      <td>0</td>\n",
       "      <td>0</td>\n",
       "      <td>0</td>\n",
       "      <td>0</td>\n",
       "      <td>0</td>\n",
       "    </tr>\n",
       "    <tr>\n",
       "      <td>1</td>\n",
       "      <td>31.071429</td>\n",
       "      <td>32.0</td>\n",
       "      <td>870</td>\n",
       "      <td>1</td>\n",
       "      <td>86</td>\n",
       "      <td>9.502222</td>\n",
       "      <td>8.966184</td>\n",
       "      <td>266.062205</td>\n",
       "      <td>0.000000</td>\n",
       "      <td>42.400000</td>\n",
       "      <td>...</td>\n",
       "      <td>0</td>\n",
       "      <td>0</td>\n",
       "      <td>0</td>\n",
       "      <td>0</td>\n",
       "      <td>1</td>\n",
       "      <td>0</td>\n",
       "      <td>0</td>\n",
       "      <td>0</td>\n",
       "      <td>0</td>\n",
       "      <td>0</td>\n",
       "    </tr>\n",
       "    <tr>\n",
       "      <td>2</td>\n",
       "      <td>260.321429</td>\n",
       "      <td>249.0</td>\n",
       "      <td>7289</td>\n",
       "      <td>2</td>\n",
       "      <td>571</td>\n",
       "      <td>1.497039</td>\n",
       "      <td>1.500962</td>\n",
       "      <td>41.917086</td>\n",
       "      <td>0.000000</td>\n",
       "      <td>4.189956</td>\n",
       "      <td>...</td>\n",
       "      <td>0</td>\n",
       "      <td>0</td>\n",
       "      <td>0</td>\n",
       "      <td>0</td>\n",
       "      <td>0</td>\n",
       "      <td>1</td>\n",
       "      <td>0</td>\n",
       "      <td>0</td>\n",
       "      <td>0</td>\n",
       "      <td>0</td>\n",
       "    </tr>\n",
       "    <tr>\n",
       "      <td>3</td>\n",
       "      <td>48.538462</td>\n",
       "      <td>30.0</td>\n",
       "      <td>1262</td>\n",
       "      <td>1</td>\n",
       "      <td>209</td>\n",
       "      <td>1.046799</td>\n",
       "      <td>0.374157</td>\n",
       "      <td>27.216779</td>\n",
       "      <td>0.000000</td>\n",
       "      <td>5.384615</td>\n",
       "      <td>...</td>\n",
       "      <td>0</td>\n",
       "      <td>0</td>\n",
       "      <td>0</td>\n",
       "      <td>0</td>\n",
       "      <td>0</td>\n",
       "      <td>0</td>\n",
       "      <td>1</td>\n",
       "      <td>0</td>\n",
       "      <td>0</td>\n",
       "      <td>0</td>\n",
       "    </tr>\n",
       "    <tr>\n",
       "      <td>4</td>\n",
       "      <td>4.476190</td>\n",
       "      <td>2.0</td>\n",
       "      <td>94</td>\n",
       "      <td>1</td>\n",
       "      <td>15</td>\n",
       "      <td>8.188339</td>\n",
       "      <td>0.000000</td>\n",
       "      <td>171.955128</td>\n",
       "      <td>0.000000</td>\n",
       "      <td>34.000000</td>\n",
       "      <td>...</td>\n",
       "      <td>0</td>\n",
       "      <td>0</td>\n",
       "      <td>0</td>\n",
       "      <td>0</td>\n",
       "      <td>0</td>\n",
       "      <td>0</td>\n",
       "      <td>0</td>\n",
       "      <td>1</td>\n",
       "      <td>0</td>\n",
       "      <td>0</td>\n",
       "    </tr>\n",
       "    <tr>\n",
       "      <td>...</td>\n",
       "      <td>...</td>\n",
       "      <td>...</td>\n",
       "      <td>...</td>\n",
       "      <td>...</td>\n",
       "      <td>...</td>\n",
       "      <td>...</td>\n",
       "      <td>...</td>\n",
       "      <td>...</td>\n",
       "      <td>...</td>\n",
       "      <td>...</td>\n",
       "      <td>...</td>\n",
       "      <td>...</td>\n",
       "      <td>...</td>\n",
       "      <td>...</td>\n",
       "      <td>...</td>\n",
       "      <td>...</td>\n",
       "      <td>...</td>\n",
       "      <td>...</td>\n",
       "      <td>...</td>\n",
       "      <td>...</td>\n",
       "      <td>...</td>\n",
       "    </tr>\n",
       "    <tr>\n",
       "      <td>674</td>\n",
       "      <td>300.000000</td>\n",
       "      <td>292.0</td>\n",
       "      <td>900</td>\n",
       "      <td>237</td>\n",
       "      <td>371</td>\n",
       "      <td>9.713328</td>\n",
       "      <td>9.410959</td>\n",
       "      <td>29.139984</td>\n",
       "      <td>8.772152</td>\n",
       "      <td>10.956873</td>\n",
       "      <td>...</td>\n",
       "      <td>0</td>\n",
       "      <td>0</td>\n",
       "      <td>1</td>\n",
       "      <td>0</td>\n",
       "      <td>0</td>\n",
       "      <td>1</td>\n",
       "      <td>0</td>\n",
       "      <td>0</td>\n",
       "      <td>0</td>\n",
       "      <td>0</td>\n",
       "    </tr>\n",
       "    <tr>\n",
       "      <td>675</td>\n",
       "      <td>19.666667</td>\n",
       "      <td>8.0</td>\n",
       "      <td>59</td>\n",
       "      <td>3</td>\n",
       "      <td>48</td>\n",
       "      <td>1.965278</td>\n",
       "      <td>0.729167</td>\n",
       "      <td>5.895833</td>\n",
       "      <td>0.666667</td>\n",
       "      <td>4.500000</td>\n",
       "      <td>...</td>\n",
       "      <td>0</td>\n",
       "      <td>0</td>\n",
       "      <td>1</td>\n",
       "      <td>0</td>\n",
       "      <td>0</td>\n",
       "      <td>0</td>\n",
       "      <td>1</td>\n",
       "      <td>0</td>\n",
       "      <td>0</td>\n",
       "      <td>0</td>\n",
       "    </tr>\n",
       "    <tr>\n",
       "      <td>676</td>\n",
       "      <td>1.000000</td>\n",
       "      <td>1.0</td>\n",
       "      <td>2</td>\n",
       "      <td>1</td>\n",
       "      <td>1</td>\n",
       "      <td>0.000000</td>\n",
       "      <td>0.000000</td>\n",
       "      <td>0.000000</td>\n",
       "      <td>0.000000</td>\n",
       "      <td>0.000000</td>\n",
       "      <td>...</td>\n",
       "      <td>0</td>\n",
       "      <td>0</td>\n",
       "      <td>1</td>\n",
       "      <td>0</td>\n",
       "      <td>0</td>\n",
       "      <td>0</td>\n",
       "      <td>0</td>\n",
       "      <td>1</td>\n",
       "      <td>0</td>\n",
       "      <td>0</td>\n",
       "    </tr>\n",
       "    <tr>\n",
       "      <td>677</td>\n",
       "      <td>10.666667</td>\n",
       "      <td>13.0</td>\n",
       "      <td>32</td>\n",
       "      <td>4</td>\n",
       "      <td>15</td>\n",
       "      <td>6.447009</td>\n",
       "      <td>8.307692</td>\n",
       "      <td>19.341026</td>\n",
       "      <td>2.533333</td>\n",
       "      <td>8.500000</td>\n",
       "      <td>...</td>\n",
       "      <td>0</td>\n",
       "      <td>0</td>\n",
       "      <td>1</td>\n",
       "      <td>0</td>\n",
       "      <td>0</td>\n",
       "      <td>0</td>\n",
       "      <td>0</td>\n",
       "      <td>0</td>\n",
       "      <td>1</td>\n",
       "      <td>0</td>\n",
       "    </tr>\n",
       "    <tr>\n",
       "      <td>678</td>\n",
       "      <td>170.500000</td>\n",
       "      <td>170.5</td>\n",
       "      <td>341</td>\n",
       "      <td>43</td>\n",
       "      <td>298</td>\n",
       "      <td>2.639886</td>\n",
       "      <td>2.639886</td>\n",
       "      <td>5.279772</td>\n",
       "      <td>1.209302</td>\n",
       "      <td>4.070470</td>\n",
       "      <td>...</td>\n",
       "      <td>0</td>\n",
       "      <td>0</td>\n",
       "      <td>1</td>\n",
       "      <td>0</td>\n",
       "      <td>0</td>\n",
       "      <td>0</td>\n",
       "      <td>0</td>\n",
       "      <td>0</td>\n",
       "      <td>0</td>\n",
       "      <td>1</td>\n",
       "    </tr>\n",
       "  </tbody>\n",
       "</table>\n",
       "<p>679 rows × 166 columns</p>\n",
       "</div>"
      ],
      "text/plain": [
       "     obs_day_cnt_avg  obs_day_cnt_med  obs_day_cnt_sum  obs_day_cnt_min  \\\n",
       "0          13.041667             12.5              313                3   \n",
       "1          31.071429             32.0              870                1   \n",
       "2         260.321429            249.0             7289                2   \n",
       "3          48.538462             30.0             1262                1   \n",
       "4           4.476190              2.0               94                1   \n",
       "..               ...              ...              ...              ...   \n",
       "674       300.000000            292.0              900              237   \n",
       "675        19.666667              8.0               59                3   \n",
       "676         1.000000              1.0                2                1   \n",
       "677        10.666667             13.0               32                4   \n",
       "678       170.500000            170.5              341               43   \n",
       "\n",
       "     obs_day_cnt_max  qf_fit_day_avg_avg  qf_fit_day_avg_med  \\\n",
       "0                 33            4.786164            4.291667   \n",
       "1                 86            9.502222            8.966184   \n",
       "2                571            1.497039            1.500962   \n",
       "3                209            1.046799            0.374157   \n",
       "4                 15            8.188339            0.000000   \n",
       "..               ...                 ...                 ...   \n",
       "674              371            9.713328            9.410959   \n",
       "675               48            1.965278            0.729167   \n",
       "676                1            0.000000            0.000000   \n",
       "677               15            6.447009            8.307692   \n",
       "678              298            2.639886            2.639886   \n",
       "\n",
       "     qf_fit_day_avg_sum  qf_fit_day_avg_min  qf_fit_day_avg_max  ...  \\\n",
       "0            114.867926            0.000000           15.444444  ...   \n",
       "1            266.062205            0.000000           42.400000  ...   \n",
       "2             41.917086            0.000000            4.189956  ...   \n",
       "3             27.216779            0.000000            5.384615  ...   \n",
       "4            171.955128            0.000000           34.000000  ...   \n",
       "..                  ...                 ...                 ...  ...   \n",
       "674           29.139984            8.772152           10.956873  ...   \n",
       "675            5.895833            0.666667            4.500000  ...   \n",
       "676            0.000000            0.000000            0.000000  ...   \n",
       "677           19.341026            2.533333            8.500000  ...   \n",
       "678            5.279772            1.209302            4.070470  ...   \n",
       "\n",
       "     year_month_2020-01-01  year_month_2020-02-01  year_month_2020-03-01  \\\n",
       "0                        0                      0                      0   \n",
       "1                        0                      0                      0   \n",
       "2                        0                      0                      0   \n",
       "3                        0                      0                      0   \n",
       "4                        0                      0                      0   \n",
       "..                     ...                    ...                    ...   \n",
       "674                      0                      0                      1   \n",
       "675                      0                      0                      1   \n",
       "676                      0                      0                      1   \n",
       "677                      0                      0                      1   \n",
       "678                      0                      0                      1   \n",
       "\n",
       "     region_Anadarko Region  region_Appalachia Region  region_Bakken Region  \\\n",
       "0                         1                         0                     0   \n",
       "1                         0                         1                     0   \n",
       "2                         0                         0                     1   \n",
       "3                         0                         0                     0   \n",
       "4                         0                         0                     0   \n",
       "..                      ...                       ...                   ...   \n",
       "674                       0                         0                     1   \n",
       "675                       0                         0                     0   \n",
       "676                       0                         0                     0   \n",
       "677                       0                         0                     0   \n",
       "678                       0                         0                     0   \n",
       "\n",
       "     region_Eagle Ford Region  region_Haynesville Region  \\\n",
       "0                           0                          0   \n",
       "1                           0                          0   \n",
       "2                           0                          0   \n",
       "3                           1                          0   \n",
       "4                           0                          1   \n",
       "..                        ...                        ...   \n",
       "674                         0                          0   \n",
       "675                         1                          0   \n",
       "676                         0                          1   \n",
       "677                         0                          0   \n",
       "678                         0                          0   \n",
       "\n",
       "     region_Niobrara Region  region_Permian Region  \n",
       "0                         0                      0  \n",
       "1                         0                      0  \n",
       "2                         0                      0  \n",
       "3                         0                      0  \n",
       "4                         0                      0  \n",
       "..                      ...                    ...  \n",
       "674                       0                      0  \n",
       "675                       0                      0  \n",
       "676                       0                      0  \n",
       "677                       1                      0  \n",
       "678                       0                      1  \n",
       "\n",
       "[679 rows x 166 columns]"
      ]
     },
     "execution_count": 290,
     "metadata": {},
     "output_type": "execute_result"
    }
   ],
   "source": [
    "X"
   ]
  },
  {
   "cell_type": "code",
   "execution_count": 291,
   "metadata": {},
   "outputs": [
    {
     "name": "stdout",
     "output_type": "stream",
     "text": [
      "obs_day_cnt_avg\n",
      "obs_day_cnt_med\n",
      "obs_day_cnt_sum\n",
      "obs_day_cnt_min\n",
      "obs_day_cnt_max\n",
      "qf_fit_day_avg_avg\n",
      "qf_fit_day_avg_med\n",
      "qf_fit_day_avg_sum\n",
      "qf_fit_day_avg_min\n",
      "qf_fit_day_avg_max\n",
      "qf_fit_day_med_avg\n",
      "qf_fit_day_med_med\n",
      "qf_fit_day_med_sum\n",
      "qf_fit_day_med_min\n",
      "qf_fit_day_med_max\n",
      "qf_fit_day_sum_avg\n",
      "qf_fit_day_sum_med\n",
      "qf_fit_day_sum_sum\n",
      "qf_fit_day_sum_min\n",
      "qf_fit_day_sum_max\n",
      "qf_fit_day_min_avg\n",
      "qf_fit_day_min_med\n",
      "qf_fit_day_min_sum\n",
      "qf_fit_day_min_min\n",
      "qf_fit_day_min_max\n",
      "qf_fit_day_max_avg\n",
      "qf_fit_day_max_med\n",
      "qf_fit_day_max_sum\n",
      "qf_fit_day_max_min\n",
      "qf_fit_day_max_max\n",
      "aland\n",
      "obs_day_cnt_avg_per_squaremeters\n",
      "obs_day_cnt_med_per_squaremeters\n",
      "obs_day_cnt_sum_per_squaremeters\n",
      "obs_day_cnt_min_per_squaremeters\n",
      "obs_day_cnt_max_per_squaremeters\n",
      "qf_fit_day_avg_avg_per_squaremeters\n",
      "qf_fit_day_avg_med_per_squaremeters\n",
      "qf_fit_day_avg_sum_per_squaremeters\n",
      "qf_fit_day_avg_min_per_squaremeters\n",
      "qf_fit_day_avg_max_per_squaremeters\n",
      "qf_fit_day_med_avg_per_squaremeters\n",
      "qf_fit_day_med_med_per_squaremeters\n",
      "qf_fit_day_med_sum_per_squaremeters\n",
      "qf_fit_day_med_min_per_squaremeters\n",
      "qf_fit_day_med_max_per_squaremeters\n",
      "qf_fit_day_sum_avg_per_squaremeters\n",
      "qf_fit_day_sum_med_per_squaremeters\n",
      "qf_fit_day_sum_sum_per_squaremeters\n",
      "qf_fit_day_sum_min_per_squaremeters\n",
      "qf_fit_day_sum_max_per_squaremeters\n",
      "qf_fit_day_min_avg_per_squaremeters\n",
      "qf_fit_day_min_med_per_squaremeters\n",
      "qf_fit_day_min_sum_per_squaremeters\n",
      "qf_fit_day_min_min_per_squaremeters\n",
      "qf_fit_day_min_max_per_squaremeters\n",
      "qf_fit_day_max_avg_per_squaremeters\n",
      "qf_fit_day_max_med_per_squaremeters\n",
      "qf_fit_day_max_sum_per_squaremeters\n",
      "qf_fit_day_max_min_per_squaremeters\n",
      "qf_fit_day_max_max_per_squaremeters\n",
      "epochtime\n",
      "year_month_2012-03-01\n",
      "year_month_2012-04-01\n",
      "year_month_2012-05-01\n",
      "year_month_2012-06-01\n",
      "year_month_2012-07-01\n",
      "year_month_2012-08-01\n",
      "year_month_2012-09-01\n",
      "year_month_2012-10-01\n",
      "year_month_2012-11-01\n",
      "year_month_2012-12-01\n",
      "year_month_2013-01-01\n",
      "year_month_2013-02-01\n",
      "year_month_2013-03-01\n",
      "year_month_2013-04-01\n",
      "year_month_2013-05-01\n",
      "year_month_2013-06-01\n",
      "year_month_2013-07-01\n",
      "year_month_2013-08-01\n",
      "year_month_2013-09-01\n",
      "year_month_2013-10-01\n",
      "year_month_2013-11-01\n",
      "year_month_2013-12-01\n",
      "year_month_2014-01-01\n",
      "year_month_2014-02-01\n",
      "year_month_2014-03-01\n",
      "year_month_2014-04-01\n",
      "year_month_2014-05-01\n",
      "year_month_2014-06-01\n",
      "year_month_2014-07-01\n",
      "year_month_2014-08-01\n",
      "year_month_2014-09-01\n",
      "year_month_2014-10-01\n",
      "year_month_2014-11-01\n",
      "year_month_2014-12-01\n",
      "year_month_2015-01-01\n",
      "year_month_2015-02-01\n",
      "year_month_2015-03-01\n",
      "year_month_2015-04-01\n",
      "year_month_2015-05-01\n",
      "year_month_2015-06-01\n",
      "year_month_2015-07-01\n",
      "year_month_2015-08-01\n",
      "year_month_2015-09-01\n",
      "year_month_2015-10-01\n",
      "year_month_2015-11-01\n",
      "year_month_2015-12-01\n",
      "year_month_2016-01-01\n",
      "year_month_2016-02-01\n",
      "year_month_2016-03-01\n",
      "year_month_2016-04-01\n",
      "year_month_2016-05-01\n",
      "year_month_2016-06-01\n",
      "year_month_2016-07-01\n",
      "year_month_2016-08-01\n",
      "year_month_2016-09-01\n",
      "year_month_2016-10-01\n",
      "year_month_2016-11-01\n",
      "year_month_2016-12-01\n",
      "year_month_2017-01-01\n",
      "year_month_2017-02-01\n",
      "year_month_2017-03-01\n",
      "year_month_2017-04-01\n",
      "year_month_2017-05-01\n",
      "year_month_2017-06-01\n",
      "year_month_2017-07-01\n",
      "year_month_2017-08-01\n",
      "year_month_2017-09-01\n",
      "year_month_2017-10-01\n",
      "year_month_2017-11-01\n",
      "year_month_2017-12-01\n",
      "year_month_2018-01-01\n",
      "year_month_2018-02-01\n",
      "year_month_2018-03-01\n",
      "year_month_2018-04-01\n",
      "year_month_2018-05-01\n",
      "year_month_2018-06-01\n",
      "year_month_2018-07-01\n",
      "year_month_2018-08-01\n",
      "year_month_2018-09-01\n",
      "year_month_2018-10-01\n",
      "year_month_2018-11-01\n",
      "year_month_2018-12-01\n",
      "year_month_2019-01-01\n",
      "year_month_2019-02-01\n",
      "year_month_2019-03-01\n",
      "year_month_2019-04-01\n",
      "year_month_2019-05-01\n",
      "year_month_2019-06-01\n",
      "year_month_2019-07-01\n",
      "year_month_2019-08-01\n",
      "year_month_2019-09-01\n",
      "year_month_2019-10-01\n",
      "year_month_2019-11-01\n",
      "year_month_2019-12-01\n",
      "year_month_2020-01-01\n",
      "year_month_2020-02-01\n",
      "year_month_2020-03-01\n",
      "region_Anadarko Region\n",
      "region_Appalachia Region\n",
      "region_Bakken Region\n",
      "region_Eagle Ford Region\n",
      "region_Haynesville Region\n",
      "region_Niobrara Region\n",
      "region_Permian Region\n"
     ]
    }
   ],
   "source": [
    "for c in X.columns:\n",
    "    print(c)"
   ]
  },
  {
   "cell_type": "code",
   "execution_count": 292,
   "metadata": {},
   "outputs": [
    {
     "data": {
      "text/plain": [
       "LinearRegression(copy_X=True, fit_intercept=True, n_jobs=None, normalize=False)"
      ]
     },
     "execution_count": 292,
     "metadata": {},
     "output_type": "execute_result"
    }
   ],
   "source": [
    "model = LinearRegression()\n",
    "model.fit(X_train, y_train)"
   ]
  },
  {
   "cell_type": "code",
   "execution_count": 293,
   "metadata": {},
   "outputs": [
    {
     "data": {
      "text/plain": [
       "0.937949037643709"
      ]
     },
     "execution_count": 293,
     "metadata": {},
     "output_type": "execute_result"
    }
   ],
   "source": [
    "model.score(X_train, y_train)"
   ]
  },
  {
   "cell_type": "code",
   "execution_count": 294,
   "metadata": {},
   "outputs": [
    {
     "data": {
      "text/plain": [
       "0.5539902606409228"
      ]
     },
     "execution_count": 294,
     "metadata": {},
     "output_type": "execute_result"
    }
   ],
   "source": [
    "model.score(X_test, y_test)"
   ]
  },
  {
   "cell_type": "code",
   "execution_count": 295,
   "metadata": {},
   "outputs": [
    {
     "data": {
      "text/plain": [
       "0.7645874131369743"
      ]
     },
     "execution_count": 295,
     "metadata": {},
     "output_type": "execute_result"
    }
   ],
   "source": [
    "cross_val_score(model, X, y, cv=5).mean()"
   ]
  },
  {
   "cell_type": "code",
   "execution_count": 296,
   "metadata": {},
   "outputs": [
    {
     "name": "stderr",
     "output_type": "stream",
     "text": [
      "/Users/danielmsheehan/opt/anaconda3/envs/dsi/lib/python3.7/site-packages/sklearn/ensemble/forest.py:245: FutureWarning: The default value of n_estimators will change from 10 in version 0.20 to 100 in 0.22.\n",
      "  \"10 in version 0.20 to 100 in 0.22.\", FutureWarning)\n"
     ]
    },
    {
     "data": {
      "text/plain": [
       "RandomForestRegressor(bootstrap=True, criterion='mse', max_depth=None,\n",
       "                      max_features='auto', max_leaf_nodes=None,\n",
       "                      min_impurity_decrease=0.0, min_impurity_split=None,\n",
       "                      min_samples_leaf=1, min_samples_split=2,\n",
       "                      min_weight_fraction_leaf=0.0, n_estimators=10,\n",
       "                      n_jobs=None, oob_score=False, random_state=42, verbose=0,\n",
       "                      warm_start=False)"
      ]
     },
     "execution_count": 296,
     "metadata": {},
     "output_type": "execute_result"
    }
   ],
   "source": [
    "regressor = RandomForestRegressor(random_state=42)\n",
    "\n",
    "regressor.fit(X_train, y_train)"
   ]
  },
  {
   "cell_type": "code",
   "execution_count": 297,
   "metadata": {},
   "outputs": [
    {
     "data": {
      "text/plain": [
       "0.9972498131298974"
      ]
     },
     "execution_count": 297,
     "metadata": {},
     "output_type": "execute_result"
    }
   ],
   "source": [
    "regressor.score(X_train, y_train)"
   ]
  },
  {
   "cell_type": "code",
   "execution_count": 298,
   "metadata": {},
   "outputs": [
    {
     "data": {
      "text/plain": [
       "0.9832078692678216"
      ]
     },
     "execution_count": 298,
     "metadata": {},
     "output_type": "execute_result"
    }
   ],
   "source": [
    "regressor.score(X_test, y_test)"
   ]
  },
  {
   "cell_type": "code",
   "execution_count": 299,
   "metadata": {},
   "outputs": [
    {
     "data": {
      "text/plain": [
       "0.9258540776435412"
      ]
     },
     "execution_count": 299,
     "metadata": {},
     "output_type": "execute_result"
    }
   ],
   "source": [
    "cross_val_score(regressor, X, y, cv=10).mean()"
   ]
  },
  {
   "cell_type": "code",
   "execution_count": 300,
   "metadata": {},
   "outputs": [
    {
     "data": {
      "text/plain": [
       "(509, 166)"
      ]
     },
     "execution_count": 300,
     "metadata": {},
     "output_type": "execute_result"
    }
   ],
   "source": [
    "X_train.shape"
   ]
  },
  {
   "cell_type": "code",
   "execution_count": 301,
   "metadata": {},
   "outputs": [
    {
     "data": {
      "text/plain": [
       "(170, 166)"
      ]
     },
     "execution_count": 301,
     "metadata": {},
     "output_type": "execute_result"
    }
   ],
   "source": [
    "X_test.shape"
   ]
  },
  {
   "cell_type": "code",
   "execution_count": 302,
   "metadata": {},
   "outputs": [
    {
     "data": {
      "text/plain": [
       "ExtraTreesRegressor(bootstrap=False, criterion='mse', max_depth=None,\n",
       "                    max_features='auto', max_leaf_nodes=None,\n",
       "                    min_impurity_decrease=0.0, min_impurity_split=None,\n",
       "                    min_samples_leaf=1, min_samples_split=2,\n",
       "                    min_weight_fraction_leaf=0.0, n_estimators=500, n_jobs=None,\n",
       "                    oob_score=False, random_state=42, verbose=0,\n",
       "                    warm_start=False)"
      ]
     },
     "execution_count": 302,
     "metadata": {},
     "output_type": "execute_result"
    }
   ],
   "source": [
    "extratrees = ExtraTreesRegressor(random_state=42, n_estimators=500)\n",
    "\n",
    "extratrees.fit(X_train, y_train)"
   ]
  },
  {
   "cell_type": "code",
   "execution_count": 303,
   "metadata": {},
   "outputs": [
    {
     "data": {
      "text/plain": [
       "1.0"
      ]
     },
     "execution_count": 303,
     "metadata": {},
     "output_type": "execute_result"
    }
   ],
   "source": [
    "extratrees.score(X_train, y_train)"
   ]
  },
  {
   "cell_type": "code",
   "execution_count": 304,
   "metadata": {},
   "outputs": [
    {
     "data": {
      "text/plain": [
       "0.9948948195512849"
      ]
     },
     "execution_count": 304,
     "metadata": {},
     "output_type": "execute_result"
    }
   ],
   "source": [
    "extratrees.score(X_test, y_test)"
   ]
  },
  {
   "cell_type": "code",
   "execution_count": 305,
   "metadata": {},
   "outputs": [
    {
     "data": {
      "text/plain": [
       "0.9533959720692531"
      ]
     },
     "execution_count": 305,
     "metadata": {},
     "output_type": "execute_result"
    }
   ],
   "source": [
    "cross_val_score(extratrees, X, y, cv=10).mean()"
   ]
  },
  {
   "cell_type": "code",
   "execution_count": 306,
   "metadata": {},
   "outputs": [
    {
     "data": {
      "text/plain": [
       "<function ndarray.sort>"
      ]
     },
     "execution_count": 306,
     "metadata": {},
     "output_type": "execute_result"
    }
   ],
   "source": [
    "extratrees.feature_importances_.sort"
   ]
  },
  {
   "cell_type": "code",
   "execution_count": 307,
   "metadata": {},
   "outputs": [
    {
     "data": {
      "text/plain": [
       "region_Permian Region               0.558261\n",
       "qf_fit_day_med_med                  0.092471\n",
       "epochtime                           0.057070\n",
       "obs_day_cnt_sum_per_squaremeters    0.044192\n",
       "qf_fit_day_med_avg                  0.038848\n",
       "obs_day_cnt_sum                     0.025166\n",
       "region_Eagle Ford Region            0.024716\n",
       "obs_day_cnt_avg                     0.024272\n",
       "obs_day_cnt_med                     0.023866\n",
       "obs_day_cnt_max                     0.021784\n",
       "region_Appalachia Region            0.011731\n",
       "qf_fit_day_med_max                  0.011302\n",
       "qf_fit_day_med_sum                  0.010071\n",
       "region_Haynesville Region           0.007638\n",
       "qf_fit_day_sum_med                  0.007216\n",
       "dtype: float64"
      ]
     },
     "execution_count": 307,
     "metadata": {},
     "output_type": "execute_result"
    }
   ],
   "source": [
    "important_features = pd.Series(data=extratrees.feature_importances_,index=X.columns)\n",
    "important_features.sort_values(ascending=False,inplace=True)\n",
    "\n",
    "important_features.head(15)\n",
    "\n",
    "#print(important_features.to_string())\n"
   ]
  },
  {
   "cell_type": "code",
   "execution_count": 308,
   "metadata": {},
   "outputs": [],
   "source": [
    "from sklearn.model_selection import cross_val_predict\n",
    "import matplotlib.pyplot as plt\n",
    "import seaborn as sns"
   ]
  },
  {
   "cell_type": "code",
   "execution_count": 309,
   "metadata": {},
   "outputs": [
    {
     "name": "stdout",
     "output_type": "stream",
     "text": [
      "{'Anadarko Region': (0.4, 0.7607843137254902, 0.6470588235294118), 'Appalachia Region': (0.9882352941176471, 0.5529411764705883, 0.3843137254901961), 'Bakken Region': (0.5529411764705883, 0.6274509803921569, 0.796078431372549), 'Eagle Ford Region': (0.9058823529411765, 0.5411764705882353, 0.7647058823529411), 'Haynesville Region': (0.6509803921568628, 0.8470588235294118, 0.32941176470588235), 'Niobrara Region': (1.0, 0.8509803921568627, 0.1843137254901961), 'Permian Region': (0.8980392156862745, 0.7686274509803922, 0.5803921568627451)}\n"
     ]
    },
    {
     "data": {
      "image/png": "[encoded data removed]",
      "text/plain": [
       "<Figure size 576x576 with 1 Axes>"
      ]
     },
     "metadata": {
      "needs_background": "light"
     },
     "output_type": "display_data"
    }
   ],
   "source": [
    "predicted = cross_val_predict(extratrees, X, y, cv=10)\n",
    "\n",
    "color_labels = df['region'].unique()\n",
    "# print(color_labels)\n",
    "# List of RGB triplets\n",
    "rgb_values = sns.color_palette(\"Set2\", 8)\n",
    "\n",
    "# Map label to RGB\n",
    "color_map = dict(zip(color_labels, rgb_values))\n",
    "\n",
    "print(color_map)\n",
    "\n",
    "plt.figure(figsize=(8, 8))\n",
    "# fig, ax = plt.subplots()\n",
    "plt.scatter(y, predicted, edgecolors=(0, 0, 0), c=df['region'].map(color_map))\n",
    "plt.plot([y.min(), y.max()], [y.min(), y.max()], 'k--', lw=4)\n",
    "#ax.set_xlabel('Measured')\n",
    "#ax.set_ylabel('Predicted')\n",
    "#plt.legend()\n",
    "plt.show();"
   ]
  },
  {
   "cell_type": "code",
   "execution_count": 310,
   "metadata": {},
   "outputs": [],
   "source": [
    "resids = y - predicted"
   ]
  },
  {
   "cell_type": "code",
   "execution_count": 311,
   "metadata": {},
   "outputs": [
    {
     "data": {
      "text/plain": [
       "<matplotlib.lines.Line2D at 0x7fa23a7f3350>"
      ]
     },
     "execution_count": 311,
     "metadata": {},
     "output_type": "execute_result"
    },
    {
     "data": {
      "image/png": "[encoded data removed]",
      "text/plain": [
       "<Figure size 576x576 with 1 Axes>"
      ]
     },
     "metadata": {
      "needs_background": "light"
     },
     "output_type": "display_data"
    }
   ],
   "source": [
    "# Normality of residuals assumption\n",
    "plt.figure(figsize=(8, 8))\n",
    "\n",
    "plt.hist(resids, bins=25);\n",
    "plt.axvline(0, color='red')"
   ]
  },
  {
   "cell_type": "code",
   "execution_count": 312,
   "metadata": {},
   "outputs": [
    {
     "data": {
      "text/plain": [
       "{'Anadarko Region': (0.4, 0.7607843137254902, 0.6470588235294118),\n",
       " 'Appalachia Region': (0.9882352941176471,\n",
       "  0.5529411764705883,\n",
       "  0.3843137254901961),\n",
       " 'Bakken Region': (0.5529411764705883, 0.6274509803921569, 0.796078431372549),\n",
       " 'Eagle Ford Region': (0.9058823529411765,\n",
       "  0.5411764705882353,\n",
       "  0.7647058823529411),\n",
       " 'Haynesville Region': (0.6509803921568628,\n",
       "  0.8470588235294118,\n",
       "  0.32941176470588235),\n",
       " 'Niobrara Region': (1.0, 0.8509803921568627, 0.1843137254901961),\n",
       " 'Permian Region': (0.8980392156862745,\n",
       "  0.7686274509803922,\n",
       "  0.5803921568627451)}"
      ]
     },
     "execution_count": 312,
     "metadata": {},
     "output_type": "execute_result"
    }
   ],
   "source": [
    "color_map"
   ]
  },
  {
   "cell_type": "code",
   "execution_count": 313,
   "metadata": {},
   "outputs": [],
   "source": [
    "#{k, v for k, v in color_map.items()]"
   ]
  },
  {
   "cell_type": "code",
   "execution_count": 314,
   "metadata": {},
   "outputs": [
    {
     "data": {
      "image/png": "[encoded data removed]",
      "text/plain": [
       "<Figure size 576x576 with 1 Axes>"
      ]
     },
     "metadata": {
      "needs_background": "light"
     },
     "output_type": "display_data"
    }
   ],
   "source": [
    "import matplotlib.patches as mpatches\n",
    "\n",
    "plt.figure(figsize=(8, 8))\n",
    "\n",
    "plt.scatter(predicted, resids, edgecolors='black', c=df['region'].map(color_map))\n",
    "\n",
    "#legend_elements = [Patch(facecolor='orange', edgecolor='r', label='Color Patch')]\n",
    "plt.legend(handles=[\n",
    "    mpatches.Patch(color='red', label='The red data'),\n",
    "    mpatches.Patch(color='blue', label='The blue data'),\n",
    "    mpatches.Patch(color=(0.8980392156862745,0.7686274509803922,0.5803921568627451), label='Permian Region'),\n",
    "])\n",
    "plt.axhline(0, color='red');"
   ]
  },
  {
   "cell_type": "code",
   "execution_count": 315,
   "metadata": {},
   "outputs": [],
   "source": [
    "#df = df.set_index('year_month')"
   ]
  },
  {
   "cell_type": "code",
   "execution_count": 316,
   "metadata": {},
   "outputs": [
    {
     "data": {
      "text/plain": [
       "<matplotlib.axes._subplots.AxesSubplot at 0x7fa24c0b0450>"
      ]
     },
     "execution_count": 316,
     "metadata": {},
     "output_type": "execute_result"
    },
    {
     "data": {
      "image/png": "[encoded data removed]",
      "text/plain": [
       "<Figure size 432x288 with 1 Axes>"
      ]
     },
     "metadata": {
      "needs_background": "light"
     },
     "output_type": "display_data"
    }
   ],
   "source": [
    "df[df['region'] == 'Permian Region']['oil_bbl_d_total_production'].plot()\n"
   ]
  },
  {
   "cell_type": "code",
   "execution_count": 317,
   "metadata": {},
   "outputs": [
    {
     "data": {
      "text/plain": [
       "<matplotlib.axes._subplots.AxesSubplot at 0x7fa22ad76410>"
      ]
     },
     "execution_count": 317,
     "metadata": {},
     "output_type": "execute_result"
    },
    {
     "data": {
      "image/png": "[encoded data removed]",
      "text/plain": [
       "<Figure size 432x288 with 1 Axes>"
      ]
     },
     "metadata": {
      "needs_background": "light"
     },
     "output_type": "display_data"
    }
   ],
   "source": [
    "df[df['region'] == 'Anadarko Region']['oil_bbl_d_total_production'].plot()"
   ]
  },
  {
   "cell_type": "code",
   "execution_count": 318,
   "metadata": {},
   "outputs": [
    {
     "data": {
      "text/plain": [
       "<matplotlib.axes._subplots.AxesSubplot at 0x7fa23b993a50>"
      ]
     },
     "execution_count": 318,
     "metadata": {},
     "output_type": "execute_result"
    },
    {
     "data": {
      "image/png": "[encoded data removed]",
      "text/plain": [
       "<Figure size 432x288 with 1 Axes>"
      ]
     },
     "metadata": {
      "needs_background": "light"
     },
     "output_type": "display_data"
    }
   ],
   "source": [
    "#df.set_index('month_yyyymm')\n",
    "df['oil_bbl_d_total_production'].hist(bins=20)"
   ]
  },
  {
   "cell_type": "code",
   "execution_count": 319,
   "metadata": {},
   "outputs": [
    {
     "data": {
      "text/plain": [
       "<matplotlib.axes._subplots.AxesSubplot at 0x7fa23ba17ed0>"
      ]
     },
     "execution_count": 319,
     "metadata": {},
     "output_type": "execute_result"
    },
    {
     "data": {
      "image/png": "[encoded data removed]",
      "text/plain": [
       "<Figure size 432x288 with 1 Axes>"
      ]
     },
     "metadata": {
      "needs_background": "light"
     },
     "output_type": "display_data"
    }
   ],
   "source": [
    "np.log(df['oil_bbl_d_total_production']).plot(kind='hist')"
   ]
  },
  {
   "cell_type": "code",
   "execution_count": 320,
   "metadata": {},
   "outputs": [
    {
     "data": {
      "text/plain": [
       "<matplotlib.axes._subplots.AxesSubplot at 0x7fa22ac560d0>"
      ]
     },
     "execution_count": 320,
     "metadata": {},
     "output_type": "execute_result"
    },
    {
     "data": {
      "image/png": "[encoded data removed]",
      "text/plain": [
       "<Figure size 432x288 with 1 Axes>"
      ]
     },
     "metadata": {
      "needs_background": "light"
     },
     "output_type": "display_data"
    }
   ],
   "source": [
    "df['oil_bbl_d_total_production'].plot(kind='hist')"
   ]
  },
  {
   "cell_type": "code",
   "execution_count": 321,
   "metadata": {},
   "outputs": [
    {
     "data": {
      "text/plain": [
       "<matplotlib.axes._subplots.AxesSubplot at 0x7fa22ad76690>"
      ]
     },
     "execution_count": 321,
     "metadata": {},
     "output_type": "execute_result"
    },
    {
     "data": {
      "image/png": "[encoded data removed]",
      "text/plain": [
       "<Figure size 432x288 with 1 Axes>"
      ]
     },
     "metadata": {
      "needs_background": "light"
     },
     "output_type": "display_data"
    }
   ],
   "source": [
    "df[df['region'] == 'Anadarko Region']['oil_bbl_d_total_production'].plot(kind='hist')"
   ]
  },
  {
   "cell_type": "code",
   "execution_count": 322,
   "metadata": {},
   "outputs": [
    {
     "data": {
      "text/plain": [
       "<matplotlib.axes._subplots.AxesSubplot at 0x7fa2062a8550>"
      ]
     },
     "execution_count": 322,
     "metadata": {},
     "output_type": "execute_result"
    },
    {
     "data": {
      "image/png": "[encoded data removed]",
      "text/plain": [
       "<Figure size 432x288 with 1 Axes>"
      ]
     },
     "metadata": {
      "needs_background": "light"
     },
     "output_type": "display_data"
    }
   ],
   "source": [
    "df[df['region'] == 'Permian Region']['oil_bbl_d_total_production'].plot(kind='hist')"
   ]
  },
  {
   "cell_type": "code",
   "execution_count": 323,
   "metadata": {},
   "outputs": [],
   "source": [
    "# histograms of all the different regions. \n",
    "\n",
    "\n"
   ]
  },
  {
   "cell_type": "code",
   "execution_count": null,
   "metadata": {},
   "outputs": [],
   "source": []
  },
  {
   "cell_type": "code",
   "execution_count": null,
   "metadata": {},
   "outputs": [],
   "source": []
  },
  {
   "cell_type": "code",
   "execution_count": null,
   "metadata": {},
   "outputs": [],
   "source": []
  }
 ],
 "metadata": {
  "kernelspec": {
   "display_name": "Python 3",
   "language": "python",
   "name": "python3"
  },
  "language_info": {
   "codemirror_mode": {
    "name": "ipython",
    "version": 3
   },
   "file_extension": ".py",
   "mimetype": "text/x-python",
   "name": "python",
   "nbconvert_exporter": "python",
   "pygments_lexer": "ipython3",
   "version": "3.7.4"
  },
  "toc": {
   "base_numbering": 1,
   "nav_menu": {},
   "number_sections": true,
   "sideBar": true,
   "skip_h1_title": false,
   "title_cell": "Table of Contents",
   "title_sidebar": "Contents",
   "toc_cell": false,
   "toc_position": {},
   "toc_section_display": true,
   "toc_window_display": false
  }
 },
 "nbformat": 4,
 "nbformat_minor": 2
}
